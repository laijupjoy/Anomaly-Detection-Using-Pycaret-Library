{
 "cells": [
  {
   "cell_type": "markdown",
   "id": "63cb6c79",
   "metadata": {},
   "source": [
    "# Anomaly Detection Using Pycaret Library"
   ]
  },
  {
   "cell_type": "markdown",
   "id": "afabe3e7",
   "metadata": {},
   "source": [
    "PyCaret’s Anomaly Detection Module is an unsupervised machine learning module that is used for identifying rare items, events or observations which raise suspicions by differing significantly from the majority of the data. Typically, the anomalous items will translate to some kind of problem such as bank fraud, a structural defect, medical problems or errors . This module provide several pre-processing features that prepares the data for modeling through setup function. This module has over 12 ready-to-use algorithms and several plots to analyze the results of trained models."
   ]
  },
  {
   "cell_type": "code",
   "execution_count": 1,
   "id": "631583e3",
   "metadata": {},
   "outputs": [
    {
     "data": {
      "text/html": [
       "<div>\n",
       "<style scoped>\n",
       "    .dataframe tbody tr th:only-of-type {\n",
       "        vertical-align: middle;\n",
       "    }\n",
       "\n",
       "    .dataframe tbody tr th {\n",
       "        vertical-align: top;\n",
       "    }\n",
       "\n",
       "    .dataframe thead th {\n",
       "        text-align: right;\n",
       "    }\n",
       "</style>\n",
       "<table border=\"1\" class=\"dataframe\">\n",
       "  <thead>\n",
       "    <tr style=\"text-align: right;\">\n",
       "      <th></th>\n",
       "      <th>Col1</th>\n",
       "      <th>Col2</th>\n",
       "      <th>Col3</th>\n",
       "      <th>Col4</th>\n",
       "      <th>Col5</th>\n",
       "      <th>Col6</th>\n",
       "      <th>Col7</th>\n",
       "      <th>Col8</th>\n",
       "      <th>Col9</th>\n",
       "      <th>Col10</th>\n",
       "    </tr>\n",
       "  </thead>\n",
       "  <tbody>\n",
       "    <tr>\n",
       "      <th>0</th>\n",
       "      <td>0.263995</td>\n",
       "      <td>0.764929</td>\n",
       "      <td>0.138424</td>\n",
       "      <td>0.935242</td>\n",
       "      <td>0.605867</td>\n",
       "      <td>0.518790</td>\n",
       "      <td>0.912225</td>\n",
       "      <td>0.608234</td>\n",
       "      <td>0.723782</td>\n",
       "      <td>0.733591</td>\n",
       "    </tr>\n",
       "    <tr>\n",
       "      <th>1</th>\n",
       "      <td>0.546092</td>\n",
       "      <td>0.653975</td>\n",
       "      <td>0.065575</td>\n",
       "      <td>0.227772</td>\n",
       "      <td>0.845269</td>\n",
       "      <td>0.837066</td>\n",
       "      <td>0.272379</td>\n",
       "      <td>0.331679</td>\n",
       "      <td>0.429297</td>\n",
       "      <td>0.367422</td>\n",
       "    </tr>\n",
       "    <tr>\n",
       "      <th>2</th>\n",
       "      <td>0.336714</td>\n",
       "      <td>0.538842</td>\n",
       "      <td>0.192801</td>\n",
       "      <td>0.553563</td>\n",
       "      <td>0.074515</td>\n",
       "      <td>0.332993</td>\n",
       "      <td>0.365792</td>\n",
       "      <td>0.861309</td>\n",
       "      <td>0.899017</td>\n",
       "      <td>0.088600</td>\n",
       "    </tr>\n",
       "    <tr>\n",
       "      <th>3</th>\n",
       "      <td>0.092108</td>\n",
       "      <td>0.995017</td>\n",
       "      <td>0.014465</td>\n",
       "      <td>0.176371</td>\n",
       "      <td>0.241530</td>\n",
       "      <td>0.514724</td>\n",
       "      <td>0.562208</td>\n",
       "      <td>0.158963</td>\n",
       "      <td>0.073715</td>\n",
       "      <td>0.208463</td>\n",
       "    </tr>\n",
       "    <tr>\n",
       "      <th>4</th>\n",
       "      <td>0.325261</td>\n",
       "      <td>0.805968</td>\n",
       "      <td>0.957033</td>\n",
       "      <td>0.331665</td>\n",
       "      <td>0.307923</td>\n",
       "      <td>0.355315</td>\n",
       "      <td>0.501899</td>\n",
       "      <td>0.558449</td>\n",
       "      <td>0.885169</td>\n",
       "      <td>0.182754</td>\n",
       "    </tr>\n",
       "  </tbody>\n",
       "</table>\n",
       "</div>"
      ],
      "text/plain": [
       "       Col1      Col2      Col3      Col4      Col5      Col6      Col7  \\\n",
       "0  0.263995  0.764929  0.138424  0.935242  0.605867  0.518790  0.912225   \n",
       "1  0.546092  0.653975  0.065575  0.227772  0.845269  0.837066  0.272379   \n",
       "2  0.336714  0.538842  0.192801  0.553563  0.074515  0.332993  0.365792   \n",
       "3  0.092108  0.995017  0.014465  0.176371  0.241530  0.514724  0.562208   \n",
       "4  0.325261  0.805968  0.957033  0.331665  0.307923  0.355315  0.501899   \n",
       "\n",
       "       Col8      Col9     Col10  \n",
       "0  0.608234  0.723782  0.733591  \n",
       "1  0.331679  0.429297  0.367422  \n",
       "2  0.861309  0.899017  0.088600  \n",
       "3  0.158963  0.073715  0.208463  \n",
       "4  0.558449  0.885169  0.182754  "
      ]
     },
     "metadata": {},
     "output_type": "display_data"
    }
   ],
   "source": [
    "#import the dataset from pycaret repository\n",
    "from pycaret.datasets import get_data\n",
    "anomaly = get_data('anomaly')"
   ]
  },
  {
   "cell_type": "code",
   "execution_count": 2,
   "id": "c811610d",
   "metadata": {},
   "outputs": [
    {
     "data": {
      "text/html": [
       "<style  type=\"text/css\" >\n",
       "</style><table id=\"T_44fbb8c0_c6cc_11ec_84a4_4edfac07bb3a\" ><thead>    <tr>        <th class=\"blank level0\" ></th>        <th class=\"col_heading level0 col0\" >Description</th>        <th class=\"col_heading level0 col1\" >Value</th>    </tr></thead><tbody>\n",
       "                <tr>\n",
       "                        <th id=\"T_44fbb8c0_c6cc_11ec_84a4_4edfac07bb3alevel0_row0\" class=\"row_heading level0 row0\" >0</th>\n",
       "                        <td id=\"T_44fbb8c0_c6cc_11ec_84a4_4edfac07bb3arow0_col0\" class=\"data row0 col0\" >session_id</td>\n",
       "                        <td id=\"T_44fbb8c0_c6cc_11ec_84a4_4edfac07bb3arow0_col1\" class=\"data row0 col1\" >2835</td>\n",
       "            </tr>\n",
       "            <tr>\n",
       "                        <th id=\"T_44fbb8c0_c6cc_11ec_84a4_4edfac07bb3alevel0_row1\" class=\"row_heading level0 row1\" >1</th>\n",
       "                        <td id=\"T_44fbb8c0_c6cc_11ec_84a4_4edfac07bb3arow1_col0\" class=\"data row1 col0\" >Original Data</td>\n",
       "                        <td id=\"T_44fbb8c0_c6cc_11ec_84a4_4edfac07bb3arow1_col1\" class=\"data row1 col1\" >(1000, 10)</td>\n",
       "            </tr>\n",
       "            <tr>\n",
       "                        <th id=\"T_44fbb8c0_c6cc_11ec_84a4_4edfac07bb3alevel0_row2\" class=\"row_heading level0 row2\" >2</th>\n",
       "                        <td id=\"T_44fbb8c0_c6cc_11ec_84a4_4edfac07bb3arow2_col0\" class=\"data row2 col0\" >Missing Values</td>\n",
       "                        <td id=\"T_44fbb8c0_c6cc_11ec_84a4_4edfac07bb3arow2_col1\" class=\"data row2 col1\" >False</td>\n",
       "            </tr>\n",
       "            <tr>\n",
       "                        <th id=\"T_44fbb8c0_c6cc_11ec_84a4_4edfac07bb3alevel0_row3\" class=\"row_heading level0 row3\" >3</th>\n",
       "                        <td id=\"T_44fbb8c0_c6cc_11ec_84a4_4edfac07bb3arow3_col0\" class=\"data row3 col0\" >Numeric Features</td>\n",
       "                        <td id=\"T_44fbb8c0_c6cc_11ec_84a4_4edfac07bb3arow3_col1\" class=\"data row3 col1\" >10</td>\n",
       "            </tr>\n",
       "            <tr>\n",
       "                        <th id=\"T_44fbb8c0_c6cc_11ec_84a4_4edfac07bb3alevel0_row4\" class=\"row_heading level0 row4\" >4</th>\n",
       "                        <td id=\"T_44fbb8c0_c6cc_11ec_84a4_4edfac07bb3arow4_col0\" class=\"data row4 col0\" >Categorical Features</td>\n",
       "                        <td id=\"T_44fbb8c0_c6cc_11ec_84a4_4edfac07bb3arow4_col1\" class=\"data row4 col1\" >0</td>\n",
       "            </tr>\n",
       "            <tr>\n",
       "                        <th id=\"T_44fbb8c0_c6cc_11ec_84a4_4edfac07bb3alevel0_row5\" class=\"row_heading level0 row5\" >5</th>\n",
       "                        <td id=\"T_44fbb8c0_c6cc_11ec_84a4_4edfac07bb3arow5_col0\" class=\"data row5 col0\" >Ordinal Features</td>\n",
       "                        <td id=\"T_44fbb8c0_c6cc_11ec_84a4_4edfac07bb3arow5_col1\" class=\"data row5 col1\" >False</td>\n",
       "            </tr>\n",
       "            <tr>\n",
       "                        <th id=\"T_44fbb8c0_c6cc_11ec_84a4_4edfac07bb3alevel0_row6\" class=\"row_heading level0 row6\" >6</th>\n",
       "                        <td id=\"T_44fbb8c0_c6cc_11ec_84a4_4edfac07bb3arow6_col0\" class=\"data row6 col0\" >High Cardinality Features</td>\n",
       "                        <td id=\"T_44fbb8c0_c6cc_11ec_84a4_4edfac07bb3arow6_col1\" class=\"data row6 col1\" >False</td>\n",
       "            </tr>\n",
       "            <tr>\n",
       "                        <th id=\"T_44fbb8c0_c6cc_11ec_84a4_4edfac07bb3alevel0_row7\" class=\"row_heading level0 row7\" >7</th>\n",
       "                        <td id=\"T_44fbb8c0_c6cc_11ec_84a4_4edfac07bb3arow7_col0\" class=\"data row7 col0\" >High Cardinality Method</td>\n",
       "                        <td id=\"T_44fbb8c0_c6cc_11ec_84a4_4edfac07bb3arow7_col1\" class=\"data row7 col1\" >None</td>\n",
       "            </tr>\n",
       "            <tr>\n",
       "                        <th id=\"T_44fbb8c0_c6cc_11ec_84a4_4edfac07bb3alevel0_row8\" class=\"row_heading level0 row8\" >8</th>\n",
       "                        <td id=\"T_44fbb8c0_c6cc_11ec_84a4_4edfac07bb3arow8_col0\" class=\"data row8 col0\" >Transformed Data</td>\n",
       "                        <td id=\"T_44fbb8c0_c6cc_11ec_84a4_4edfac07bb3arow8_col1\" class=\"data row8 col1\" >(1000, 10)</td>\n",
       "            </tr>\n",
       "            <tr>\n",
       "                        <th id=\"T_44fbb8c0_c6cc_11ec_84a4_4edfac07bb3alevel0_row9\" class=\"row_heading level0 row9\" >9</th>\n",
       "                        <td id=\"T_44fbb8c0_c6cc_11ec_84a4_4edfac07bb3arow9_col0\" class=\"data row9 col0\" >CPU Jobs</td>\n",
       "                        <td id=\"T_44fbb8c0_c6cc_11ec_84a4_4edfac07bb3arow9_col1\" class=\"data row9 col1\" >-1</td>\n",
       "            </tr>\n",
       "            <tr>\n",
       "                        <th id=\"T_44fbb8c0_c6cc_11ec_84a4_4edfac07bb3alevel0_row10\" class=\"row_heading level0 row10\" >10</th>\n",
       "                        <td id=\"T_44fbb8c0_c6cc_11ec_84a4_4edfac07bb3arow10_col0\" class=\"data row10 col0\" >Use GPU</td>\n",
       "                        <td id=\"T_44fbb8c0_c6cc_11ec_84a4_4edfac07bb3arow10_col1\" class=\"data row10 col1\" >False</td>\n",
       "            </tr>\n",
       "            <tr>\n",
       "                        <th id=\"T_44fbb8c0_c6cc_11ec_84a4_4edfac07bb3alevel0_row11\" class=\"row_heading level0 row11\" >11</th>\n",
       "                        <td id=\"T_44fbb8c0_c6cc_11ec_84a4_4edfac07bb3arow11_col0\" class=\"data row11 col0\" >Log Experiment</td>\n",
       "                        <td id=\"T_44fbb8c0_c6cc_11ec_84a4_4edfac07bb3arow11_col1\" class=\"data row11 col1\" >False</td>\n",
       "            </tr>\n",
       "            <tr>\n",
       "                        <th id=\"T_44fbb8c0_c6cc_11ec_84a4_4edfac07bb3alevel0_row12\" class=\"row_heading level0 row12\" >12</th>\n",
       "                        <td id=\"T_44fbb8c0_c6cc_11ec_84a4_4edfac07bb3arow12_col0\" class=\"data row12 col0\" >Experiment Name</td>\n",
       "                        <td id=\"T_44fbb8c0_c6cc_11ec_84a4_4edfac07bb3arow12_col1\" class=\"data row12 col1\" >anomaly-default-name</td>\n",
       "            </tr>\n",
       "            <tr>\n",
       "                        <th id=\"T_44fbb8c0_c6cc_11ec_84a4_4edfac07bb3alevel0_row13\" class=\"row_heading level0 row13\" >13</th>\n",
       "                        <td id=\"T_44fbb8c0_c6cc_11ec_84a4_4edfac07bb3arow13_col0\" class=\"data row13 col0\" >USI</td>\n",
       "                        <td id=\"T_44fbb8c0_c6cc_11ec_84a4_4edfac07bb3arow13_col1\" class=\"data row13 col1\" >024f</td>\n",
       "            </tr>\n",
       "            <tr>\n",
       "                        <th id=\"T_44fbb8c0_c6cc_11ec_84a4_4edfac07bb3alevel0_row14\" class=\"row_heading level0 row14\" >14</th>\n",
       "                        <td id=\"T_44fbb8c0_c6cc_11ec_84a4_4edfac07bb3arow14_col0\" class=\"data row14 col0\" >Imputation Type</td>\n",
       "                        <td id=\"T_44fbb8c0_c6cc_11ec_84a4_4edfac07bb3arow14_col1\" class=\"data row14 col1\" >simple</td>\n",
       "            </tr>\n",
       "            <tr>\n",
       "                        <th id=\"T_44fbb8c0_c6cc_11ec_84a4_4edfac07bb3alevel0_row15\" class=\"row_heading level0 row15\" >15</th>\n",
       "                        <td id=\"T_44fbb8c0_c6cc_11ec_84a4_4edfac07bb3arow15_col0\" class=\"data row15 col0\" >Iterative Imputation Iteration</td>\n",
       "                        <td id=\"T_44fbb8c0_c6cc_11ec_84a4_4edfac07bb3arow15_col1\" class=\"data row15 col1\" >None</td>\n",
       "            </tr>\n",
       "            <tr>\n",
       "                        <th id=\"T_44fbb8c0_c6cc_11ec_84a4_4edfac07bb3alevel0_row16\" class=\"row_heading level0 row16\" >16</th>\n",
       "                        <td id=\"T_44fbb8c0_c6cc_11ec_84a4_4edfac07bb3arow16_col0\" class=\"data row16 col0\" >Numeric Imputer</td>\n",
       "                        <td id=\"T_44fbb8c0_c6cc_11ec_84a4_4edfac07bb3arow16_col1\" class=\"data row16 col1\" >mean</td>\n",
       "            </tr>\n",
       "            <tr>\n",
       "                        <th id=\"T_44fbb8c0_c6cc_11ec_84a4_4edfac07bb3alevel0_row17\" class=\"row_heading level0 row17\" >17</th>\n",
       "                        <td id=\"T_44fbb8c0_c6cc_11ec_84a4_4edfac07bb3arow17_col0\" class=\"data row17 col0\" >Iterative Imputation Numeric Model</td>\n",
       "                        <td id=\"T_44fbb8c0_c6cc_11ec_84a4_4edfac07bb3arow17_col1\" class=\"data row17 col1\" >None</td>\n",
       "            </tr>\n",
       "            <tr>\n",
       "                        <th id=\"T_44fbb8c0_c6cc_11ec_84a4_4edfac07bb3alevel0_row18\" class=\"row_heading level0 row18\" >18</th>\n",
       "                        <td id=\"T_44fbb8c0_c6cc_11ec_84a4_4edfac07bb3arow18_col0\" class=\"data row18 col0\" >Categorical Imputer</td>\n",
       "                        <td id=\"T_44fbb8c0_c6cc_11ec_84a4_4edfac07bb3arow18_col1\" class=\"data row18 col1\" >mode</td>\n",
       "            </tr>\n",
       "            <tr>\n",
       "                        <th id=\"T_44fbb8c0_c6cc_11ec_84a4_4edfac07bb3alevel0_row19\" class=\"row_heading level0 row19\" >19</th>\n",
       "                        <td id=\"T_44fbb8c0_c6cc_11ec_84a4_4edfac07bb3arow19_col0\" class=\"data row19 col0\" >Iterative Imputation Categorical Model</td>\n",
       "                        <td id=\"T_44fbb8c0_c6cc_11ec_84a4_4edfac07bb3arow19_col1\" class=\"data row19 col1\" >None</td>\n",
       "            </tr>\n",
       "            <tr>\n",
       "                        <th id=\"T_44fbb8c0_c6cc_11ec_84a4_4edfac07bb3alevel0_row20\" class=\"row_heading level0 row20\" >20</th>\n",
       "                        <td id=\"T_44fbb8c0_c6cc_11ec_84a4_4edfac07bb3arow20_col0\" class=\"data row20 col0\" >Unknown Categoricals Handling</td>\n",
       "                        <td id=\"T_44fbb8c0_c6cc_11ec_84a4_4edfac07bb3arow20_col1\" class=\"data row20 col1\" >least_frequent</td>\n",
       "            </tr>\n",
       "            <tr>\n",
       "                        <th id=\"T_44fbb8c0_c6cc_11ec_84a4_4edfac07bb3alevel0_row21\" class=\"row_heading level0 row21\" >21</th>\n",
       "                        <td id=\"T_44fbb8c0_c6cc_11ec_84a4_4edfac07bb3arow21_col0\" class=\"data row21 col0\" >Normalize</td>\n",
       "                        <td id=\"T_44fbb8c0_c6cc_11ec_84a4_4edfac07bb3arow21_col1\" class=\"data row21 col1\" >False</td>\n",
       "            </tr>\n",
       "            <tr>\n",
       "                        <th id=\"T_44fbb8c0_c6cc_11ec_84a4_4edfac07bb3alevel0_row22\" class=\"row_heading level0 row22\" >22</th>\n",
       "                        <td id=\"T_44fbb8c0_c6cc_11ec_84a4_4edfac07bb3arow22_col0\" class=\"data row22 col0\" >Normalize Method</td>\n",
       "                        <td id=\"T_44fbb8c0_c6cc_11ec_84a4_4edfac07bb3arow22_col1\" class=\"data row22 col1\" >None</td>\n",
       "            </tr>\n",
       "            <tr>\n",
       "                        <th id=\"T_44fbb8c0_c6cc_11ec_84a4_4edfac07bb3alevel0_row23\" class=\"row_heading level0 row23\" >23</th>\n",
       "                        <td id=\"T_44fbb8c0_c6cc_11ec_84a4_4edfac07bb3arow23_col0\" class=\"data row23 col0\" >Transformation</td>\n",
       "                        <td id=\"T_44fbb8c0_c6cc_11ec_84a4_4edfac07bb3arow23_col1\" class=\"data row23 col1\" >False</td>\n",
       "            </tr>\n",
       "            <tr>\n",
       "                        <th id=\"T_44fbb8c0_c6cc_11ec_84a4_4edfac07bb3alevel0_row24\" class=\"row_heading level0 row24\" >24</th>\n",
       "                        <td id=\"T_44fbb8c0_c6cc_11ec_84a4_4edfac07bb3arow24_col0\" class=\"data row24 col0\" >Transformation Method</td>\n",
       "                        <td id=\"T_44fbb8c0_c6cc_11ec_84a4_4edfac07bb3arow24_col1\" class=\"data row24 col1\" >None</td>\n",
       "            </tr>\n",
       "            <tr>\n",
       "                        <th id=\"T_44fbb8c0_c6cc_11ec_84a4_4edfac07bb3alevel0_row25\" class=\"row_heading level0 row25\" >25</th>\n",
       "                        <td id=\"T_44fbb8c0_c6cc_11ec_84a4_4edfac07bb3arow25_col0\" class=\"data row25 col0\" >PCA</td>\n",
       "                        <td id=\"T_44fbb8c0_c6cc_11ec_84a4_4edfac07bb3arow25_col1\" class=\"data row25 col1\" >False</td>\n",
       "            </tr>\n",
       "            <tr>\n",
       "                        <th id=\"T_44fbb8c0_c6cc_11ec_84a4_4edfac07bb3alevel0_row26\" class=\"row_heading level0 row26\" >26</th>\n",
       "                        <td id=\"T_44fbb8c0_c6cc_11ec_84a4_4edfac07bb3arow26_col0\" class=\"data row26 col0\" >PCA Method</td>\n",
       "                        <td id=\"T_44fbb8c0_c6cc_11ec_84a4_4edfac07bb3arow26_col1\" class=\"data row26 col1\" >None</td>\n",
       "            </tr>\n",
       "            <tr>\n",
       "                        <th id=\"T_44fbb8c0_c6cc_11ec_84a4_4edfac07bb3alevel0_row27\" class=\"row_heading level0 row27\" >27</th>\n",
       "                        <td id=\"T_44fbb8c0_c6cc_11ec_84a4_4edfac07bb3arow27_col0\" class=\"data row27 col0\" >PCA Components</td>\n",
       "                        <td id=\"T_44fbb8c0_c6cc_11ec_84a4_4edfac07bb3arow27_col1\" class=\"data row27 col1\" >None</td>\n",
       "            </tr>\n",
       "            <tr>\n",
       "                        <th id=\"T_44fbb8c0_c6cc_11ec_84a4_4edfac07bb3alevel0_row28\" class=\"row_heading level0 row28\" >28</th>\n",
       "                        <td id=\"T_44fbb8c0_c6cc_11ec_84a4_4edfac07bb3arow28_col0\" class=\"data row28 col0\" >Ignore Low Variance</td>\n",
       "                        <td id=\"T_44fbb8c0_c6cc_11ec_84a4_4edfac07bb3arow28_col1\" class=\"data row28 col1\" >False</td>\n",
       "            </tr>\n",
       "            <tr>\n",
       "                        <th id=\"T_44fbb8c0_c6cc_11ec_84a4_4edfac07bb3alevel0_row29\" class=\"row_heading level0 row29\" >29</th>\n",
       "                        <td id=\"T_44fbb8c0_c6cc_11ec_84a4_4edfac07bb3arow29_col0\" class=\"data row29 col0\" >Combine Rare Levels</td>\n",
       "                        <td id=\"T_44fbb8c0_c6cc_11ec_84a4_4edfac07bb3arow29_col1\" class=\"data row29 col1\" >False</td>\n",
       "            </tr>\n",
       "            <tr>\n",
       "                        <th id=\"T_44fbb8c0_c6cc_11ec_84a4_4edfac07bb3alevel0_row30\" class=\"row_heading level0 row30\" >30</th>\n",
       "                        <td id=\"T_44fbb8c0_c6cc_11ec_84a4_4edfac07bb3arow30_col0\" class=\"data row30 col0\" >Rare Level Threshold</td>\n",
       "                        <td id=\"T_44fbb8c0_c6cc_11ec_84a4_4edfac07bb3arow30_col1\" class=\"data row30 col1\" >None</td>\n",
       "            </tr>\n",
       "            <tr>\n",
       "                        <th id=\"T_44fbb8c0_c6cc_11ec_84a4_4edfac07bb3alevel0_row31\" class=\"row_heading level0 row31\" >31</th>\n",
       "                        <td id=\"T_44fbb8c0_c6cc_11ec_84a4_4edfac07bb3arow31_col0\" class=\"data row31 col0\" >Numeric Binning</td>\n",
       "                        <td id=\"T_44fbb8c0_c6cc_11ec_84a4_4edfac07bb3arow31_col1\" class=\"data row31 col1\" >False</td>\n",
       "            </tr>\n",
       "            <tr>\n",
       "                        <th id=\"T_44fbb8c0_c6cc_11ec_84a4_4edfac07bb3alevel0_row32\" class=\"row_heading level0 row32\" >32</th>\n",
       "                        <td id=\"T_44fbb8c0_c6cc_11ec_84a4_4edfac07bb3arow32_col0\" class=\"data row32 col0\" >Remove Outliers</td>\n",
       "                        <td id=\"T_44fbb8c0_c6cc_11ec_84a4_4edfac07bb3arow32_col1\" class=\"data row32 col1\" >False</td>\n",
       "            </tr>\n",
       "            <tr>\n",
       "                        <th id=\"T_44fbb8c0_c6cc_11ec_84a4_4edfac07bb3alevel0_row33\" class=\"row_heading level0 row33\" >33</th>\n",
       "                        <td id=\"T_44fbb8c0_c6cc_11ec_84a4_4edfac07bb3arow33_col0\" class=\"data row33 col0\" >Outliers Threshold</td>\n",
       "                        <td id=\"T_44fbb8c0_c6cc_11ec_84a4_4edfac07bb3arow33_col1\" class=\"data row33 col1\" >None</td>\n",
       "            </tr>\n",
       "            <tr>\n",
       "                        <th id=\"T_44fbb8c0_c6cc_11ec_84a4_4edfac07bb3alevel0_row34\" class=\"row_heading level0 row34\" >34</th>\n",
       "                        <td id=\"T_44fbb8c0_c6cc_11ec_84a4_4edfac07bb3arow34_col0\" class=\"data row34 col0\" >Remove Multicollinearity</td>\n",
       "                        <td id=\"T_44fbb8c0_c6cc_11ec_84a4_4edfac07bb3arow34_col1\" class=\"data row34 col1\" >False</td>\n",
       "            </tr>\n",
       "            <tr>\n",
       "                        <th id=\"T_44fbb8c0_c6cc_11ec_84a4_4edfac07bb3alevel0_row35\" class=\"row_heading level0 row35\" >35</th>\n",
       "                        <td id=\"T_44fbb8c0_c6cc_11ec_84a4_4edfac07bb3arow35_col0\" class=\"data row35 col0\" >Multicollinearity Threshold</td>\n",
       "                        <td id=\"T_44fbb8c0_c6cc_11ec_84a4_4edfac07bb3arow35_col1\" class=\"data row35 col1\" >None</td>\n",
       "            </tr>\n",
       "            <tr>\n",
       "                        <th id=\"T_44fbb8c0_c6cc_11ec_84a4_4edfac07bb3alevel0_row36\" class=\"row_heading level0 row36\" >36</th>\n",
       "                        <td id=\"T_44fbb8c0_c6cc_11ec_84a4_4edfac07bb3arow36_col0\" class=\"data row36 col0\" >Remove Perfect Collinearity</td>\n",
       "                        <td id=\"T_44fbb8c0_c6cc_11ec_84a4_4edfac07bb3arow36_col1\" class=\"data row36 col1\" >False</td>\n",
       "            </tr>\n",
       "            <tr>\n",
       "                        <th id=\"T_44fbb8c0_c6cc_11ec_84a4_4edfac07bb3alevel0_row37\" class=\"row_heading level0 row37\" >37</th>\n",
       "                        <td id=\"T_44fbb8c0_c6cc_11ec_84a4_4edfac07bb3arow37_col0\" class=\"data row37 col0\" >Clustering</td>\n",
       "                        <td id=\"T_44fbb8c0_c6cc_11ec_84a4_4edfac07bb3arow37_col1\" class=\"data row37 col1\" >False</td>\n",
       "            </tr>\n",
       "            <tr>\n",
       "                        <th id=\"T_44fbb8c0_c6cc_11ec_84a4_4edfac07bb3alevel0_row38\" class=\"row_heading level0 row38\" >38</th>\n",
       "                        <td id=\"T_44fbb8c0_c6cc_11ec_84a4_4edfac07bb3arow38_col0\" class=\"data row38 col0\" >Clustering Iteration</td>\n",
       "                        <td id=\"T_44fbb8c0_c6cc_11ec_84a4_4edfac07bb3arow38_col1\" class=\"data row38 col1\" >None</td>\n",
       "            </tr>\n",
       "            <tr>\n",
       "                        <th id=\"T_44fbb8c0_c6cc_11ec_84a4_4edfac07bb3alevel0_row39\" class=\"row_heading level0 row39\" >39</th>\n",
       "                        <td id=\"T_44fbb8c0_c6cc_11ec_84a4_4edfac07bb3arow39_col0\" class=\"data row39 col0\" >Polynomial Features</td>\n",
       "                        <td id=\"T_44fbb8c0_c6cc_11ec_84a4_4edfac07bb3arow39_col1\" class=\"data row39 col1\" >False</td>\n",
       "            </tr>\n",
       "            <tr>\n",
       "                        <th id=\"T_44fbb8c0_c6cc_11ec_84a4_4edfac07bb3alevel0_row40\" class=\"row_heading level0 row40\" >40</th>\n",
       "                        <td id=\"T_44fbb8c0_c6cc_11ec_84a4_4edfac07bb3arow40_col0\" class=\"data row40 col0\" >Polynomial Degree</td>\n",
       "                        <td id=\"T_44fbb8c0_c6cc_11ec_84a4_4edfac07bb3arow40_col1\" class=\"data row40 col1\" >None</td>\n",
       "            </tr>\n",
       "            <tr>\n",
       "                        <th id=\"T_44fbb8c0_c6cc_11ec_84a4_4edfac07bb3alevel0_row41\" class=\"row_heading level0 row41\" >41</th>\n",
       "                        <td id=\"T_44fbb8c0_c6cc_11ec_84a4_4edfac07bb3arow41_col0\" class=\"data row41 col0\" >Trignometry Features</td>\n",
       "                        <td id=\"T_44fbb8c0_c6cc_11ec_84a4_4edfac07bb3arow41_col1\" class=\"data row41 col1\" >False</td>\n",
       "            </tr>\n",
       "            <tr>\n",
       "                        <th id=\"T_44fbb8c0_c6cc_11ec_84a4_4edfac07bb3alevel0_row42\" class=\"row_heading level0 row42\" >42</th>\n",
       "                        <td id=\"T_44fbb8c0_c6cc_11ec_84a4_4edfac07bb3arow42_col0\" class=\"data row42 col0\" >Polynomial Threshold</td>\n",
       "                        <td id=\"T_44fbb8c0_c6cc_11ec_84a4_4edfac07bb3arow42_col1\" class=\"data row42 col1\" >None</td>\n",
       "            </tr>\n",
       "            <tr>\n",
       "                        <th id=\"T_44fbb8c0_c6cc_11ec_84a4_4edfac07bb3alevel0_row43\" class=\"row_heading level0 row43\" >43</th>\n",
       "                        <td id=\"T_44fbb8c0_c6cc_11ec_84a4_4edfac07bb3arow43_col0\" class=\"data row43 col0\" >Group Features</td>\n",
       "                        <td id=\"T_44fbb8c0_c6cc_11ec_84a4_4edfac07bb3arow43_col1\" class=\"data row43 col1\" >False</td>\n",
       "            </tr>\n",
       "            <tr>\n",
       "                        <th id=\"T_44fbb8c0_c6cc_11ec_84a4_4edfac07bb3alevel0_row44\" class=\"row_heading level0 row44\" >44</th>\n",
       "                        <td id=\"T_44fbb8c0_c6cc_11ec_84a4_4edfac07bb3arow44_col0\" class=\"data row44 col0\" >Feature Selection</td>\n",
       "                        <td id=\"T_44fbb8c0_c6cc_11ec_84a4_4edfac07bb3arow44_col1\" class=\"data row44 col1\" >False</td>\n",
       "            </tr>\n",
       "            <tr>\n",
       "                        <th id=\"T_44fbb8c0_c6cc_11ec_84a4_4edfac07bb3alevel0_row45\" class=\"row_heading level0 row45\" >45</th>\n",
       "                        <td id=\"T_44fbb8c0_c6cc_11ec_84a4_4edfac07bb3arow45_col0\" class=\"data row45 col0\" >Feature Selection Method</td>\n",
       "                        <td id=\"T_44fbb8c0_c6cc_11ec_84a4_4edfac07bb3arow45_col1\" class=\"data row45 col1\" >classic</td>\n",
       "            </tr>\n",
       "            <tr>\n",
       "                        <th id=\"T_44fbb8c0_c6cc_11ec_84a4_4edfac07bb3alevel0_row46\" class=\"row_heading level0 row46\" >46</th>\n",
       "                        <td id=\"T_44fbb8c0_c6cc_11ec_84a4_4edfac07bb3arow46_col0\" class=\"data row46 col0\" >Features Selection Threshold</td>\n",
       "                        <td id=\"T_44fbb8c0_c6cc_11ec_84a4_4edfac07bb3arow46_col1\" class=\"data row46 col1\" >None</td>\n",
       "            </tr>\n",
       "            <tr>\n",
       "                        <th id=\"T_44fbb8c0_c6cc_11ec_84a4_4edfac07bb3alevel0_row47\" class=\"row_heading level0 row47\" >47</th>\n",
       "                        <td id=\"T_44fbb8c0_c6cc_11ec_84a4_4edfac07bb3arow47_col0\" class=\"data row47 col0\" >Feature Interaction</td>\n",
       "                        <td id=\"T_44fbb8c0_c6cc_11ec_84a4_4edfac07bb3arow47_col1\" class=\"data row47 col1\" >False</td>\n",
       "            </tr>\n",
       "            <tr>\n",
       "                        <th id=\"T_44fbb8c0_c6cc_11ec_84a4_4edfac07bb3alevel0_row48\" class=\"row_heading level0 row48\" >48</th>\n",
       "                        <td id=\"T_44fbb8c0_c6cc_11ec_84a4_4edfac07bb3arow48_col0\" class=\"data row48 col0\" >Feature Ratio</td>\n",
       "                        <td id=\"T_44fbb8c0_c6cc_11ec_84a4_4edfac07bb3arow48_col1\" class=\"data row48 col1\" >False</td>\n",
       "            </tr>\n",
       "            <tr>\n",
       "                        <th id=\"T_44fbb8c0_c6cc_11ec_84a4_4edfac07bb3alevel0_row49\" class=\"row_heading level0 row49\" >49</th>\n",
       "                        <td id=\"T_44fbb8c0_c6cc_11ec_84a4_4edfac07bb3arow49_col0\" class=\"data row49 col0\" >Interaction Threshold</td>\n",
       "                        <td id=\"T_44fbb8c0_c6cc_11ec_84a4_4edfac07bb3arow49_col1\" class=\"data row49 col1\" >None</td>\n",
       "            </tr>\n",
       "    </tbody></table>"
      ],
      "text/plain": [
       "<pandas.io.formats.style.Styler at 0x2590cca0a20>"
      ]
     },
     "metadata": {},
     "output_type": "display_data"
    }
   ],
   "source": [
    "#import anomaly detection module\n",
    "from pycaret.anomaly import *\n",
    "#intialize the setup\n",
    "exp_ano = setup(anomaly)"
   ]
  },
  {
   "cell_type": "code",
   "execution_count": 4,
   "id": "4b738ed4",
   "metadata": {},
   "outputs": [
    {
     "data": {
      "text/plain": [
       "(1000, 10)"
      ]
     },
     "execution_count": 4,
     "metadata": {},
     "output_type": "execute_result"
    }
   ],
   "source": [
    "anomaly.shape"
   ]
  },
  {
   "cell_type": "code",
   "execution_count": 6,
   "id": "12ca3517",
   "metadata": {},
   "outputs": [
    {
     "data": {
      "application/vnd.plotly.v1+json": {
       "config": {
        "plotlyServerURL": "https://plot.ly"
       },
       "data": [
        {
         "customdata": [
          [
           0.263995357
          ],
          [
           0.546092303
          ],
          [
           0.33671410399999996
          ],
          [
           0.092107835
          ],
          [
           0.325261175
          ],
          [
           0.212464853
          ],
          [
           0.258565714
          ],
          [
           0.869236755
          ],
          [
           0.197077957
          ],
          [
           0.292984504
          ],
          [
           0.82178316
          ],
          [
           0.796622959
          ],
          [
           0.045577010999999994
          ],
          [
           0.613660351
          ],
          [
           0.9507445659999999
          ],
          [
           0.33634633700000005
          ],
          [
           0.034440667
          ],
          [
           0.741544275
          ],
          [
           0.18443265
          ],
          [
           0.664514943
          ],
          [
           0.16282485800000002
          ],
          [
           0.729838445
          ],
          [
           0.62837389
          ],
          [
           0.057883660999999996
          ],
          [
           0.445534827
          ],
          [
           0.80183695
          ],
          [
           0.27709612
          ],
          [
           0.228634015
          ],
          [
           0.834860657
          ],
          [
           0.6697665110000001
          ],
          [
           0.532527349
          ],
          [
           0.17045907100000002
          ],
          [
           0.5102884679999999
          ],
          [
           0.977561989
          ],
          [
           0.249775993
          ],
          [
           0.9755006820000001
          ],
          [
           0.613701727
          ],
          [
           0.16742036300000002
          ],
          [
           0.537472516
          ],
          [
           0.379899131
          ],
          [
           0.633897303
          ],
          [
           0.633960424
          ],
          [
           0.5499746529999999
          ],
          [
           0.178172988
          ],
          [
           0.85563814
          ],
          [
           0.321796672
          ],
          [
           0.8174905370000001
          ],
          [
           0.254879417
          ],
          [
           0.344140513
          ],
          [
           0.8061457259999999
          ],
          [
           0.27708167100000003
          ],
          [
           0.544328519
          ],
          [
           0.07708393
          ],
          [
           0.273081458
          ],
          [
           0.390877336
          ],
          [
           0.349621385
          ],
          [
           0.214549744
          ],
          [
           0.206075222
          ],
          [
           0.86461997
          ],
          [
           0.9817088540000001
          ],
          [
           0.33482964600000004
          ],
          [
           0.648387061
          ],
          [
           0.093643561
          ],
          [
           0.837802698
          ],
          [
           0.7603439670000001
          ],
          [
           0.29140417399999996
          ],
          [
           0.3413454
          ],
          [
           0.7611124840000001
          ],
          [
           0.541899775
          ],
          [
           0.684176639
          ],
          [
           0.983535597
          ],
          [
           0.52081245
          ],
          [
           0.328227724
          ],
          [
           0.09715793800000001
          ],
          [
           0.876088593
          ],
          [
           0.870214512
          ],
          [
           0.656086992
          ],
          [
           0.306791514
          ],
          [
           0.48126734
          ],
          [
           0.259559174
          ],
          [
           0.326123655
          ],
          [
           0.930568042
          ],
          [
           0.6583894
          ],
          [
           0.689992335
          ],
          [
           0.315781109
          ],
          [
           0.5669050929999999
          ],
          [
           0.637526619
          ],
          [
           0.687540723
          ],
          [
           0.324300602
          ],
          [
           0.592704906
          ],
          [
           0.7402531259999999
          ],
          [
           0.5940328770000001
          ],
          [
           0.596452977
          ],
          [
           0.27768081699999997
          ],
          [
           0.258329663
          ],
          [
           0.142460864
          ],
          [
           0.435533461
          ],
          [
           0.7024990440000001
          ],
          [
           0.58897535
          ],
          [
           0.653304374
          ],
          [
           0.336968524
          ],
          [
           0.631244736
          ],
          [
           0.73530076
          ],
          [
           0.050390366
          ],
          [
           0.064264924
          ],
          [
           0.665359476
          ],
          [
           0.917835245
          ],
          [
           0.44651012
          ],
          [
           0.661938199
          ],
          [
           0.43935985299999997
          ],
          [
           0.6875724040000001
          ],
          [
           0.363462248
          ],
          [
           0.6542621820000001
          ],
          [
           0.578553536
          ],
          [
           0.065927945
          ],
          [
           0.550148559
          ],
          [
           0.13918281400000002
          ],
          [
           0.080004635
          ],
          [
           0.278228358
          ],
          [
           0.560124266
          ],
          [
           0.53639864
          ],
          [
           0.42653190399999996
          ],
          [
           0.789109796
          ],
          [
           0.742900474
          ],
          [
           0.901692589
          ],
          [
           0.650337401
          ],
          [
           0.114057311
          ],
          [
           0.260812592
          ],
          [
           0.43991232
          ],
          [
           0.964409284
          ],
          [
           0.184401415
          ],
          [
           0.345145446
          ],
          [
           0.17589458100000002
          ],
          [
           0.312514453
          ],
          [
           0.674131879
          ],
          [
           0.32825045
          ],
          [
           0.598231057
          ],
          [
           0.09259881699999999
          ],
          [
           0.497916521
          ],
          [
           0.419776521
          ],
          [
           0.31217670000000003
          ],
          [
           0.937857107
          ],
          [
           0.049030963
          ],
          [
           0.47610452600000003
          ],
          [
           0.447397526
          ],
          [
           0.295806058
          ],
          [
           0.737363977
          ],
          [
           0.625896253
          ],
          [
           0.408813429
          ],
          [
           0.437511156
          ],
          [
           0.691351375
          ],
          [
           0.935555275
          ],
          [
           0.437846654
          ],
          [
           0.072217715
          ],
          [
           0.67636067
          ],
          [
           0.468883999
          ],
          [
           0.543820644
          ],
          [
           0.6555226470000001
          ],
          [
           0.6935289240000001
          ],
          [
           0.10887831199999999
          ],
          [
           0.285463743
          ],
          [
           0
          ],
          [
           0.706495497
          ],
          [
           0.273530633
          ],
          [
           0.292320271
          ],
          [
           0.673984307
          ],
          [
           0.12612182800000002
          ],
          [
           0.9467074590000001
          ],
          [
           0.9363388979999999
          ],
          [
           0.8537553640000001
          ],
          [
           0.7060713609999999
          ],
          [
           0.693682186
          ],
          [
           0.508527882
          ],
          [
           0.34717038899999997
          ],
          [
           0.704154263
          ],
          [
           0.658730088
          ],
          [
           0.155841557
          ],
          [
           0.311085435
          ],
          [
           0.281135347
          ],
          [
           0.094587802
          ],
          [
           0.6832609540000001
          ],
          [
           0.9077292509999999
          ],
          [
           0.29151267399999997
          ],
          [
           0.752734459
          ],
          [
           0.93482964
          ],
          [
           0.071413953
          ],
          [
           0.5948963270000001
          ],
          [
           0.404672015
          ],
          [
           0.13837621
          ],
          [
           0.7473384679999999
          ],
          [
           0.530882486
          ],
          [
           0.282649594
          ],
          [
           0.699335734
          ],
          [
           0.056111250999999994
          ],
          [
           0.855234998
          ],
          [
           0.07789512700000001
          ],
          [
           0.891649583
          ],
          [
           0.38674227899999997
          ],
          [
           0.27113158
          ],
          [
           0.958888961
          ],
          [
           0.085120869
          ],
          [
           0.5269022489999999
          ],
          [
           0.066577785
          ],
          [
           0.841506738
          ],
          [
           0.255342095
          ],
          [
           0.060545771
          ],
          [
           0.073385869
          ],
          [
           0.187493723
          ],
          [
           0.858365688
          ],
          [
           0.090640352
          ],
          [
           0.7097252270000001
          ],
          [
           0.631300647
          ],
          [
           0.24750447399999997
          ],
          [
           0.822843584
          ],
          [
           0.373476759
          ],
          [
           0.625538582
          ],
          [
           0.292951715
          ],
          [
           0.299730324
          ],
          [
           0.25121407
          ],
          [
           0.344480551
          ],
          [
           0.293064767
          ],
          [
           0.7628032240000001
          ],
          [
           0.7384708040000001
          ],
          [
           0.674883265
          ],
          [
           0.719151612
          ],
          [
           0.13098021599999998
          ],
          [
           0.511328036
          ],
          [
           0.04492903
          ],
          [
           0.560914449
          ],
          [
           0.7440406409999999
          ],
          [
           0.266961634
          ],
          [
           0.644231853
          ],
          [
           0.038113352
          ],
          [
           0.05715529900000001
          ],
          [
           0.34139246100000004
          ],
          [
           0.7204636320000001
          ],
          [
           0.402878236
          ],
          [
           0.635148967
          ],
          [
           0.320729467
          ],
          [
           0.09120969400000001
          ],
          [
           0.23414609
          ],
          [
           0.8902211309999999
          ],
          [
           0.602170884
          ],
          [
           0.633652055
          ],
          [
           0.806240837
          ],
          [
           0.739731184
          ],
          [
           0.465231269
          ],
          [
           0.7321109
          ],
          [
           0.373874305
          ],
          [
           0.501587947
          ],
          [
           0.11538315800000001
          ],
          [
           0.7319466040000001
          ],
          [
           0.41829872799999995
          ],
          [
           0.062259590999999996
          ],
          [
           0.391496379
          ],
          [
           0.35984929
          ],
          [
           0.24523562699999998
          ],
          [
           0.610028339
          ],
          [
           0.43540360200000006
          ],
          [
           0.434309675
          ],
          [
           0.523763344
          ],
          [
           0.17118786600000002
          ],
          [
           0.18773430300000002
          ],
          [
           0.945014638
          ],
          [
           0.027851097000000002
          ],
          [
           0.68445706
          ],
          [
           0.178014532
          ],
          [
           0.643427879
          ],
          [
           0.59588355
          ],
          [
           0.372361682
          ],
          [
           0.586103584
          ],
          [
           0.271658852
          ],
          [
           0.59951107
          ],
          [
           0.468363088
          ],
          [
           0.314515565
          ],
          [
           0.21893726
          ],
          [
           0.254716562
          ],
          [
           0.25612815
          ],
          [
           0.602259755
          ],
          [
           0.134381075
          ],
          [
           0.513887424
          ],
          [
           0.624241636
          ],
          [
           0.160251854
          ],
          [
           0.580708108
          ],
          [
           0.270540486
          ],
          [
           0.832919932
          ],
          [
           0.93032134
          ],
          [
           0.719157884
          ],
          [
           0.886720033
          ],
          [
           0.098792281
          ],
          [
           0.787174286
          ],
          [
           0.365592376
          ],
          [
           0.719576193
          ],
          [
           0.8058956
          ],
          [
           0.7555783340000001
          ],
          [
           0.526005909
          ],
          [
           0.68880424
          ],
          [
           0.22111531199999998
          ],
          [
           0.739369477
          ],
          [
           0.408440236
          ],
          [
           0.348926542
          ],
          [
           0.433713763
          ],
          [
           0.5964966070000001
          ],
          [
           0.6942953000000001
          ],
          [
           0.7090309659999999
          ],
          [
           0.867652984
          ],
          [
           0.89332545
          ],
          [
           0.746020922
          ],
          [
           0.538284443
          ],
          [
           0.8922193140000001
          ],
          [
           0.935175765
          ],
          [
           0.260527707
          ],
          [
           0.956780449
          ],
          [
           0.204932484
          ],
          [
           0.687733351
          ],
          [
           0.329063619
          ],
          [
           0.632149831
          ],
          [
           0.463744506
          ],
          [
           0.698859621
          ],
          [
           0.385446564
          ],
          [
           0.47997537700000004
          ],
          [
           0.732279108
          ],
          [
           0.3813543
          ],
          [
           0.459326013
          ],
          [
           0.257401434
          ],
          [
           0.665014804
          ],
          [
           0.103399542
          ],
          [
           0.425284413
          ],
          [
           0.943529051
          ],
          [
           0.594750236
          ],
          [
           0.543776817
          ],
          [
           0.18203988
          ],
          [
           0.23584208399999998
          ],
          [
           0.585984497
          ],
          [
           0.762013168
          ],
          [
           0.6849829070000001
          ],
          [
           0.676936933
          ],
          [
           0.290184964
          ],
          [
           0.48106822200000005
          ],
          [
           0.492766033
          ],
          [
           0.22185623399999999
          ],
          [
           0.053875998
          ],
          [
           0.082751144
          ],
          [
           0.385366225
          ],
          [
           0.702513961
          ],
          [
           0.91553156
          ],
          [
           0.082087436
          ],
          [
           0.251280378
          ],
          [
           0.41672181700000005
          ],
          [
           0.277032672
          ],
          [
           0.579539754
          ],
          [
           0.569363476
          ],
          [
           0.133399703
          ],
          [
           0.265045463
          ],
          [
           0.936571901
          ],
          [
           0.252618554
          ],
          [
           0.054033081
          ],
          [
           0.802481439
          ],
          [
           0.528197693
          ],
          [
           0.9515026
          ],
          [
           0.572121173
          ],
          [
           0.752938227
          ],
          [
           0.143857535
          ],
          [
           0.513484576
          ],
          [
           0.313322389
          ],
          [
           0.6877973959999999
          ],
          [
           0.37705984
          ],
          [
           0.348226142
          ],
          [
           0.67763282
          ],
          [
           0.24138752100000002
          ],
          [
           0.8506501790000001
          ],
          [
           0.22034810300000002
          ],
          [
           0.476445464
          ],
          [
           0.690324025
          ],
          [
           0.364695946
          ],
          [
           0.6492491970000001
          ],
          [
           0.9437019209999999
          ],
          [
           0.529645971
          ],
          [
           0.299097002
          ],
          [
           0.96696247
          ],
          [
           0.272005242
          ],
          [
           0.314161447
          ],
          [
           0.752020991
          ],
          [
           0.221882453
          ],
          [
           0.7203326729999999
          ],
          [
           0.379204782
          ],
          [
           0.60168653
          ],
          [
           0.582932673
          ],
          [
           0.950809853
          ],
          [
           0.58830141
          ],
          [
           0.880887227
          ],
          [
           0.467857701
          ],
          [
           0.8799021709999999
          ],
          [
           0.619844009
          ],
          [
           0.359002573
          ],
          [
           0.291511278
          ],
          [
           0.694157143
          ],
          [
           0.727960353
          ],
          [
           0.617703921
          ],
          [
           0.39581257
          ],
          [
           0.58317282
          ],
          [
           0.710332374
          ],
          [
           0.253753693
          ],
          [
           0.049412227999999996
          ],
          [
           0.728378695
          ],
          [
           0.432432881
          ],
          [
           0.58612345
          ],
          [
           0.052342373
          ],
          [
           0.053483902
          ],
          [
           0.518729378
          ],
          [
           0.933040208
          ],
          [
           0.7035542840000001
          ],
          [
           0.268989899
          ],
          [
           0.733006927
          ],
          [
           0.44435246700000003
          ],
          [
           0.5833946210000001
          ],
          [
           0.871172692
          ],
          [
           0.42876707799999997
          ],
          [
           0.30046084100000003
          ],
          [
           0.9533294590000001
          ],
          [
           0.606443965
          ],
          [
           0.90986815
          ],
          [
           0.714896449
          ],
          [
           0.49734950899999997
          ],
          [
           0.8530974859999999
          ],
          [
           0.721804145
          ],
          [
           0.303467328
          ],
          [
           0.664485096
          ],
          [
           0.27978062
          ],
          [
           0.569481665
          ],
          [
           0.628628926
          ],
          [
           0.088368123
          ],
          [
           0.733567326
          ],
          [
           0.537436778
          ],
          [
           0.638593691
          ],
          [
           0.954726948
          ],
          [
           0.632202332
          ],
          [
           0.642134651
          ],
          [
           0.744653087
          ],
          [
           0.115714007
          ],
          [
           0.48625007299999995
          ],
          [
           0.440356144
          ],
          [
           0.08272289
          ],
          [
           0.511591027
          ],
          [
           0.394627555
          ],
          [
           0.224394
          ],
          [
           0.626927584
          ],
          [
           0.290254057
          ],
          [
           0.779008053
          ],
          [
           0.86610579
          ],
          [
           0.873326081
          ],
          [
           0.49548916
          ],
          [
           0.594297695
          ],
          [
           0.9182015840000001
          ],
          [
           0.5770427539999999
          ],
          [
           0.019467671000000002
          ],
          [
           0.6702982820000001
          ],
          [
           0.546595316
          ],
          [
           0.591665146
          ],
          [
           0.42155819
          ],
          [
           0.6856085590000001
          ],
          [
           0.340303024
          ],
          [
           0.675626741
          ],
          [
           0.319067345
          ],
          [
           0.38849966399999997
          ],
          [
           0.706949589
          ],
          [
           0.559409515
          ],
          [
           0.687663508
          ],
          [
           0.7088045540000001
          ],
          [
           0.6818880940000001
          ],
          [
           0.42253510899999996
          ],
          [
           0.320004605
          ],
          [
           0.6582813679999999
          ],
          [
           0.634154867
          ],
          [
           0.7773320090000001
          ],
          [
           0.812677205
          ],
          [
           0.074280797
          ],
          [
           0.39600217
          ],
          [
           0.054933913
          ],
          [
           0.825058925
          ],
          [
           0.382642009
          ],
          [
           0.8687298179999999
          ],
          [
           0.588043346
          ],
          [
           0.891551577
          ],
          [
           0.10920046
          ],
          [
           0.647682781
          ],
          [
           0.724342512
          ],
          [
           0.07016304400000001
          ],
          [
           0.280882054
          ],
          [
           0.039113261
          ],
          [
           0.579641592
          ],
          [
           0.639000922
          ],
          [
           0.281745925
          ],
          [
           0.647857744
          ],
          [
           0.6479057970000001
          ],
          [
           0.875226264
          ],
          [
           0.567603305
          ],
          [
           0.262940591
          ],
          [
           0.268026042
          ],
          [
           0.40519133
          ],
          [
           0.479965451
          ],
          [
           0.33552403
          ],
          [
           0.777165379
          ],
          [
           0.42548796299999997
          ],
          [
           0.237986115
          ],
          [
           0.142522971
          ],
          [
           0.724176488
          ],
          [
           0.234698933
          ],
          [
           0.07818228099999999
          ],
          [
           0.855990155
          ],
          [
           0.270251765
          ],
          [
           0.435517841
          ],
          [
           0.762697513
          ],
          [
           0.46448725799999996
          ],
          [
           0.396112685
          ],
          [
           0.37638092100000003
          ],
          [
           0.29459467699999997
          ],
          [
           0.6944921209999999
          ],
          [
           0.622767949
          ],
          [
           0.8475597220000001
          ],
          [
           0.301463054
          ],
          [
           0.912937812
          ],
          [
           0.500017182
          ],
          [
           0.902587935
          ],
          [
           0.304517943
          ],
          [
           0.299165673
          ],
          [
           0.092014087
          ],
          [
           0.488548917
          ],
          [
           0.664664437
          ],
          [
           0.26534954899999996
          ],
          [
           0.723657021
          ],
          [
           0.149262385
          ],
          [
           0.04577339
          ],
          [
           0.69661064
          ],
          [
           0.42181486
          ],
          [
           0.733845785
          ],
          [
           0.418795386
          ],
          [
           0.677443529
          ],
          [
           0.26128360300000003
          ],
          [
           0.268527767
          ],
          [
           0.5443222360000001
          ],
          [
           0.431632036
          ],
          [
           0.981018141
          ],
          [
           0.21498072399999998
          ],
          [
           0.39472999299999995
          ],
          [
           0.122224944
          ],
          [
           0.297496875
          ],
          [
           0.37490443100000004
          ],
          [
           0.68698771
          ],
          [
           0.388549207
          ],
          [
           0.039296071
          ],
          [
           0.73553424
          ],
          [
           0.37929489299999997
          ],
          [
           0.7321233859999999
          ],
          [
           0.33922143899999996
          ],
          [
           0.659450594
          ],
          [
           0.054838642
          ],
          [
           0.640112102
          ],
          [
           0.30714170399999996
          ],
          [
           0.39661190700000004
          ],
          [
           0.420439161
          ],
          [
           0.24171497399999997
          ],
          [
           0.065893153
          ],
          [
           0.9105219370000001
          ],
          [
           0.697163103
          ],
          [
           0.072559853
          ],
          [
           0.81825094
          ],
          [
           0.311888815
          ],
          [
           0.961644609
          ],
          [
           0.816325524
          ],
          [
           0.14647302
          ],
          [
           0.548753945
          ],
          [
           0.946158087
          ],
          [
           0.293992717
          ],
          [
           0.331479643
          ],
          [
           0.9062200309999999
          ],
          [
           0.525540416
          ],
          [
           0.83301411
          ],
          [
           0.514849806
          ],
          [
           0.574609024
          ],
          [
           0.46871185299999996
          ],
          [
           0.71002775
          ],
          [
           0.645973276
          ],
          [
           0.229794416
          ],
          [
           0.551783393
          ],
          [
           0.055822990999999995
          ],
          [
           0.331750941
          ],
          [
           0.715520198
          ],
          [
           0.583924357
          ],
          [
           0.30695769100000003
          ],
          [
           0.7914782370000001
          ],
          [
           0.16423663900000002
          ],
          [
           0.065711219
          ],
          [
           0.948993132
          ],
          [
           0.080423835
          ],
          [
           0.052495426
          ],
          [
           0.566346135
          ],
          [
           0.3630266
          ],
          [
           0.605442195
          ],
          [
           0.6308505839999999
          ],
          [
           0.065791238
          ],
          [
           0.28681707100000003
          ],
          [
           0.685462839
          ],
          [
           0.260853706
          ],
          [
           0.659122429
          ],
          [
           0.44317392200000005
          ],
          [
           0.602063986
          ],
          [
           0.060366910999999995
          ],
          [
           0.781903153
          ],
          [
           0.5145798070000001
          ],
          [
           0.48388621299999995
          ],
          [
           0.600213807
          ],
          [
           0.49736405200000006
          ],
          [
           0.411145245
          ],
          [
           0.116999171
          ],
          [
           0.34189014100000004
          ],
          [
           0.746950848
          ],
          [
           0.39629274600000003
          ],
          [
           0.6221438429999999
          ],
          [
           0.335271141
          ],
          [
           0.140257137
          ],
          [
           0.081620681
          ],
          [
           0.069837569
          ],
          [
           0.46894000799999996
          ],
          [
           0.9908574170000001
          ],
          [
           0.896616832
          ],
          [
           0.255310561
          ],
          [
           0.22464526699999998
          ],
          [
           0.01991825
          ],
          [
           0.296480415
          ],
          [
           0.155458996
          ],
          [
           0.577916714
          ],
          [
           0.9563030309999999
          ],
          [
           0.813464394
          ],
          [
           0.529675785
          ],
          [
           0.287671353
          ],
          [
           0.48039136
          ],
          [
           0.28104482199999997
          ],
          [
           0.633196521
          ],
          [
           0.09332537699999999
          ],
          [
           0.28447398100000004
          ],
          [
           0.052223775
          ],
          [
           0.051129385
          ],
          [
           0.967405608
          ],
          [
           0.040045727999999996
          ],
          [
           0.9085829209999999
          ],
          [
           0.6621174160000001
          ],
          [
           0.42470320899999997
          ],
          [
           0.72207806
          ],
          [
           0.666193327
          ],
          [
           0.509681253
          ],
          [
           0.7513536209999999
          ],
          [
           0.279073124
          ],
          [
           0.074927
          ],
          [
           0.916359535
          ],
          [
           0.31040327
          ],
          [
           0.716604052
          ],
          [
           0.485587085
          ],
          [
           0.30607518100000003
          ],
          [
           0.477558204
          ],
          [
           0.7119239409999999
          ],
          [
           0.066348638
          ],
          [
           0.27453935100000004
          ],
          [
           0.31082252
          ],
          [
           0.47607312700000004
          ],
          [
           0.186795565
          ],
          [
           0.26654207
          ],
          [
           0.070231142
          ],
          [
           0.26951927
          ],
          [
           0.800004713
          ],
          [
           0.27363366699999997
          ],
          [
           0.14647919199999998
          ],
          [
           0.378318951
          ],
          [
           0.373849065
          ],
          [
           0.242170835
          ],
          [
           0.249796488
          ],
          [
           0.066591188
          ],
          [
           0.372956798
          ],
          [
           0.501812291
          ],
          [
           0.313097752
          ],
          [
           0.8802021959999999
          ],
          [
           0.51981893
          ],
          [
           0.364138746
          ],
          [
           0.49268289600000004
          ],
          [
           0.285732652
          ],
          [
           0.890114985
          ],
          [
           0.316419561
          ],
          [
           0.26866354
          ],
          [
           0.771975959
          ],
          [
           0.968888992
          ],
          [
           0.080334377
          ],
          [
           0.7368282209999999
          ],
          [
           0.30055807100000004
          ],
          [
           0.9179503929999999
          ],
          [
           0.465815039
          ],
          [
           0.054036682
          ],
          [
           0.963150123
          ],
          [
           0.08965350300000001
          ],
          [
           0.7076932340000001
          ],
          [
           0.636416037
          ],
          [
           0.539521117
          ],
          [
           0.114757161
          ],
          [
           0.357312419
          ],
          [
           0.67639834
          ],
          [
           0.43482839
          ],
          [
           0.032326387000000005
          ],
          [
           0.711365605
          ],
          [
           0.187486519
          ],
          [
           0.052789653
          ],
          [
           0.5058636129999999
          ],
          [
           0.927431873
          ],
          [
           0.6809842559999999
          ],
          [
           0.882822186
          ],
          [
           0.495705441
          ],
          [
           0.596240398
          ],
          [
           0.320610701
          ],
          [
           0.3413685
          ],
          [
           0.159681797
          ],
          [
           0.318133669
          ],
          [
           0.8393010479999999
          ],
          [
           0.06435925099999999
          ],
          [
           0.470216633
          ],
          [
           0.7762522909999999
          ],
          [
           0.635843383
          ],
          [
           0.62510543
          ],
          [
           0.52959065
          ],
          [
           0.986900166
          ],
          [
           0.078585688
          ],
          [
           0.233284267
          ],
          [
           0.363330957
          ],
          [
           0.7167169809999999
          ],
          [
           0.37588979200000006
          ],
          [
           0.223316889
          ],
          [
           0.299343986
          ],
          [
           0.538595767
          ],
          [
           0.730297124
          ],
          [
           0.66033077
          ],
          [
           0.435296009
          ],
          [
           0.326494313
          ],
          [
           0.854402708
          ],
          [
           0.5734938470000001
          ],
          [
           0.757786135
          ],
          [
           0.704743233
          ],
          [
           0.281575597
          ],
          [
           0.671968208
          ],
          [
           0.313726015
          ],
          [
           0.364338275
          ],
          [
           0.368216396
          ],
          [
           0.38629520700000003
          ],
          [
           0.655971865
          ],
          [
           0.5660252729999999
          ],
          [
           0.424999093
          ],
          [
           0.090110371
          ],
          [
           0.772350538
          ],
          [
           0.331047258
          ],
          [
           0.273716188
          ],
          [
           0.23877568
          ],
          [
           0.37307977200000003
          ],
          [
           0.331185868
          ],
          [
           0.256134531
          ],
          [
           0.678373225
          ],
          [
           0.43463833799999996
          ],
          [
           0.654668307
          ],
          [
           0.986681065
          ],
          [
           0.371520495
          ],
          [
           0.408359618
          ],
          [
           0.40932365
          ],
          [
           0.283412082
          ],
          [
           0.395246531
          ],
          [
           0.010984428000000001
          ],
          [
           0.306013869
          ],
          [
           0.266194806
          ],
          [
           0.299318521
          ],
          [
           0.318293946
          ],
          [
           0.74282591
          ],
          [
           0.09766432900000001
          ],
          [
           0.079666942
          ],
          [
           0.613258767
          ],
          [
           0.99443072
          ],
          [
           0.568835082
          ],
          [
           0.7080345159999999
          ],
          [
           0.37059271899999996
          ],
          [
           0.669867361
          ],
          [
           0.651295625
          ],
          [
           0.462531569
          ],
          [
           0.7196256190000001
          ],
          [
           0.45377248
          ],
          [
           0.394863946
          ],
          [
           0.323974831
          ],
          [
           0.146454724
          ],
          [
           0.7790670409999999
          ],
          [
           0.401828915
          ],
          [
           0.601479585
          ],
          [
           0.856423023
          ],
          [
           0.565242962
          ],
          [
           0.301225108
          ],
          [
           0.282108144
          ],
          [
           0.594378011
          ],
          [
           0.705312368
          ],
          [
           0.5408696279999999
          ],
          [
           0.319249574
          ],
          [
           0.36176613799999996
          ],
          [
           0.625000704
          ],
          [
           0.316287401
          ],
          [
           0.047239021
          ],
          [
           0.801182233
          ],
          [
           0.508474436
          ],
          [
           0.8178934109999999
          ],
          [
           0.399235601
          ],
          [
           0.9740519990000001
          ],
          [
           0.72241535
          ],
          [
           0.039564764
          ],
          [
           0.908684108
          ],
          [
           0.47301013399999997
          ],
          [
           0.7180496279999999
          ],
          [
           0.7634790690000001
          ],
          [
           0.6475965370000001
          ],
          [
           0.8949973859999999
          ],
          [
           0.22282590100000002
          ],
          [
           0.359012234
          ],
          [
           0.944910252
          ],
          [
           0.297877816
          ],
          [
           0.172517997
          ],
          [
           0.556586265
          ],
          [
           0.876481735
          ],
          [
           0.48667784299999994
          ],
          [
           0.459496733
          ],
          [
           0.47412637700000004
          ],
          [
           0.70101144
          ],
          [
           0.337597387
          ],
          [
           0.537578886
          ],
          [
           0.966992448
          ],
          [
           0.056849545
          ],
          [
           0.233249065
          ],
          [
           0.380054711
          ],
          [
           0.602929443
          ],
          [
           0.303847999
          ],
          [
           0.170194553
          ],
          [
           0.972168554
          ],
          [
           0.332168927
          ],
          [
           0.6887286890000001
          ],
          [
           0.110773401
          ],
          [
           0.273352065
          ],
          [
           0.572939678
          ],
          [
           0.491457065
          ],
          [
           0.281389999
          ],
          [
           0.821697261
          ],
          [
           0.6749776829999999
          ],
          [
           0.585134549
          ],
          [
           0.7105961159999999
          ],
          [
           0.040488789
          ],
          [
           0.568054311
          ],
          [
           0.321752928
          ],
          [
           0.611850232
          ],
          [
           0.926096887
          ],
          [
           0.618347428
          ],
          [
           0.667629785
          ],
          [
           0.39773346600000004
          ],
          [
           0.290875487
          ],
          [
           0.594375103
          ],
          [
           0.508255233
          ],
          [
           0.338571357
          ],
          [
           0.43230234700000003
          ],
          [
           0.302221978
          ],
          [
           0.87619819
          ],
          [
           0.080204492
          ],
          [
           0.092333532
          ],
          [
           0.09365644699999999
          ],
          [
           0.6084523510000001
          ],
          [
           0.732654598
          ],
          [
           0.944158855
          ],
          [
           0.26742308
          ],
          [
           0.731124201
          ],
          [
           0.661308553
          ],
          [
           0.38776626200000003
          ],
          [
           0.962585273
          ],
          [
           0.322067067
          ],
          [
           0.6340810929999999
          ],
          [
           0.475345002
          ],
          [
           0.35355897299999994
          ],
          [
           0.8859363159999999
          ],
          [
           0.876798106
          ],
          [
           0.221581064
          ],
          [
           0.394362449
          ],
          [
           0.8050356759999999
          ],
          [
           0.452898486
          ],
          [
           0.592520516
          ],
          [
           0.761026394
          ],
          [
           0.245049023
          ],
          [
           0.37213936299999995
          ],
          [
           0.681054822
          ],
          [
           0.7471431479999999
          ],
          [
           0.9207395290000001
          ],
          [
           0.097207945
          ],
          [
           0.699302998
          ],
          [
           0.721647006
          ],
          [
           0.5353561139999999
          ],
          [
           0.738293805
          ],
          [
           0.7064675509999999
          ],
          [
           0.67395061
          ],
          [
           0.7112122909999999
          ],
          [
           0.302558708
          ],
          [
           0.080097855
          ],
          [
           0.707010837
          ],
          [
           0.512248622
          ],
          [
           0.659627472
          ],
          [
           0.657559694
          ],
          [
           0.100645606
          ],
          [
           0.92665363
          ],
          [
           0.892879338
          ],
          [
           0.839157508
          ],
          [
           0.890959718
          ],
          [
           0.556754471
          ],
          [
           0.960361937
          ],
          [
           0.631037864
          ],
          [
           0.029838065
          ],
          [
           0.278843351
          ],
          [
           0.926157705
          ],
          [
           0.551504258
          ],
          [
           0.485942349
          ],
          [
           0.43723469600000003
          ],
          [
           0.25231801800000003
          ],
          [
           0.515466972
          ],
          [
           0.43725229600000004
          ],
          [
           0.493724207
          ],
          [
           0.83324725
          ],
          [
           0.317521477
          ],
          [
           0.28623456199999997
          ],
          [
           0.726833965
          ],
          [
           0.495667033
          ],
          [
           0.028645255
          ],
          [
           0.31967191699999997
          ],
          [
           0.674344598
          ],
          [
           0.7660371890000001
          ],
          [
           0.65456992
          ],
          [
           0.7565143809999999
          ],
          [
           0.528253719
          ],
          [
           0.38971949100000003
          ],
          [
           0.355087459
          ],
          [
           0.87015202
          ],
          [
           0.7390833059999999
          ],
          [
           0.305761846
          ],
          [
           0.411587673
          ],
          [
           0.063633094
          ],
          [
           0.735409395
          ],
          [
           0.605916669
          ],
          [
           0.539395562
          ],
          [
           0.566183532
          ],
          [
           0.674795186
          ],
          [
           0.070993366
          ],
          [
           0.12526410000000002
          ],
          [
           0.279601492
          ],
          [
           0.952174402
          ],
          [
           0.233806762
          ],
          [
           0.43724742899999997
          ],
          [
           0.925423095
          ],
          [
           0.433498634
          ],
          [
           0.52517902
          ],
          [
           0.088435529
          ],
          [
           0.447677638
          ],
          [
           0.647000631
          ],
          [
           0.9036033370000001
          ],
          [
           0.265790738
          ],
          [
           0.66419695
          ],
          [
           0.498120658
          ],
          [
           0.49018894399999996
          ],
          [
           0.747084187
          ],
          [
           0.906783648
          ],
          [
           0.678770917
          ],
          [
           0.348599859
          ],
          [
           0.294839683
          ],
          [
           0.705691827
          ],
          [
           0.211917931
          ],
          [
           0.063201124
          ],
          [
           0.276699543
          ],
          [
           0.672459395
          ],
          [
           0.8082059490000001
          ],
          [
           0.296538373
          ],
          [
           0.16012686199999998
          ],
          [
           0.439385032
          ],
          [
           0.555951416
          ],
          [
           0.386240112
          ],
          [
           0.158689619
          ],
          [
           0.214499855
          ],
          [
           0.299579429
          ],
          [
           0.569161656
          ],
          [
           0.488614799
          ],
          [
           0.8782950209999999
          ],
          [
           0.649380949
          ],
          [
           0.465713341
          ],
          [
           0.16813774
          ],
          [
           0.87529545
          ],
          [
           0.8411323409999999
          ],
          [
           0.33292081
          ],
          [
           0.5130478589999999
          ],
          [
           0.30505507800000004
          ],
          [
           0.8126269909999999
          ],
          [
           0.25096706
          ],
          [
           0.5024355779999999
          ],
          [
           0.45799074100000003
          ]
         ],
         "hovertemplate": "0=%{x}<br>1=%{y}<br>2=%{z}<br>Feature=%{customdata[0]}<br>Anomaly=%{marker.color}<extra></extra>",
         "legendgroup": "",
         "marker": {
          "color": [
           0,
           0,
           1,
           1,
           0,
           0,
           0,
           0,
           1,
           1,
           0,
           1,
           0,
           1,
           1,
           1,
           0,
           1,
           1,
           0,
           1,
           0,
           0,
           1,
           1,
           1,
           0,
           0,
           1,
           1,
           0,
           0,
           1,
           1,
           0,
           0,
           1,
           0,
           0,
           0,
           0,
           0,
           0,
           1,
           0,
           1,
           1,
           0,
           1,
           0,
           0,
           1,
           0,
           1,
           1,
           1,
           1,
           0,
           0,
           1,
           0,
           1,
           0,
           1,
           0,
           1,
           0,
           0,
           0,
           0,
           0,
           0,
           0,
           0,
           0,
           0,
           0,
           0,
           0,
           0,
           0,
           0,
           0,
           0,
           0,
           0,
           0,
           0,
           0,
           0,
           0,
           0,
           0,
           0,
           0,
           0,
           0,
           0,
           0,
           0,
           0,
           0,
           0,
           0,
           0,
           0,
           0,
           0,
           0,
           0,
           0,
           0,
           0,
           0,
           0,
           0,
           0,
           0,
           0,
           0,
           0,
           0,
           0,
           0,
           0,
           0,
           0,
           0,
           0,
           0,
           0,
           0,
           0,
           0,
           0,
           0,
           0,
           0,
           0,
           0,
           0,
           0,
           0,
           0,
           0,
           0,
           0,
           0,
           0,
           0,
           0,
           0,
           0,
           0,
           0,
           0,
           0,
           0,
           0,
           0,
           0,
           0,
           0,
           0,
           0,
           0,
           0,
           0,
           0,
           0,
           0,
           0,
           0,
           0,
           0,
           0,
           0,
           0,
           0,
           0,
           0,
           0,
           0,
           0,
           0,
           0,
           0,
           0,
           0,
           0,
           0,
           0,
           0,
           0,
           0,
           0,
           0,
           0,
           0,
           0,
           0,
           0,
           0,
           0,
           0,
           0,
           0,
           0,
           0,
           0,
           0,
           0,
           0,
           0,
           0,
           0,
           0,
           0,
           0,
           0,
           0,
           0,
           0,
           0,
           0,
           0,
           0,
           0,
           0,
           0,
           0,
           0,
           0,
           0,
           0,
           0,
           0,
           0,
           0,
           0,
           0,
           0,
           0,
           0,
           0,
           0,
           0,
           0,
           0,
           0,
           0,
           0,
           0,
           0,
           0,
           0,
           0,
           0,
           0,
           0,
           0,
           0,
           0,
           0,
           0,
           0,
           0,
           0,
           0,
           0,
           0,
           0,
           0,
           0,
           0,
           0,
           0,
           0,
           0,
           0,
           0,
           0,
           0,
           0,
           0,
           0,
           0,
           0,
           0,
           0,
           0,
           0,
           0,
           0,
           0,
           0,
           0,
           0,
           0,
           0,
           0,
           0,
           0,
           0,
           0,
           0,
           0,
           0,
           0,
           0,
           0,
           0,
           0,
           0,
           0,
           0,
           0,
           0,
           0,
           0,
           0,
           0,
           0,
           0,
           0,
           0,
           0,
           0,
           0,
           0,
           0,
           0,
           0,
           0,
           0,
           0,
           0,
           0,
           0,
           0,
           0,
           0,
           0,
           0,
           0,
           0,
           0,
           0,
           0,
           0,
           0,
           0,
           0,
           0,
           0,
           0,
           0,
           0,
           0,
           0,
           0,
           0,
           0,
           0,
           0,
           0,
           0,
           0,
           0,
           0,
           0,
           0,
           0,
           0,
           0,
           0,
           0,
           0,
           0,
           0,
           0,
           0,
           0,
           0,
           0,
           0,
           0,
           0,
           0,
           0,
           0,
           0,
           0,
           0,
           0,
           0,
           0,
           0,
           0,
           0,
           0,
           0,
           0,
           0,
           0,
           0,
           0,
           0,
           0,
           0,
           0,
           0,
           0,
           0,
           0,
           0,
           0,
           0,
           0,
           0,
           0,
           0,
           0,
           0,
           0,
           0,
           0,
           0,
           0,
           0,
           0,
           0,
           0,
           0,
           0,
           0,
           0,
           0,
           0,
           0,
           0,
           0,
           0,
           0,
           0,
           0,
           0,
           0,
           0,
           0,
           0,
           0,
           0,
           0,
           0,
           0,
           0,
           0,
           0,
           0,
           0,
           0,
           0,
           0,
           0,
           0,
           0,
           0,
           0,
           0,
           0,
           0,
           0,
           0,
           0,
           0,
           0,
           0,
           0,
           0,
           0,
           0,
           0,
           0,
           0,
           0,
           0,
           0,
           0,
           0,
           0,
           0,
           0,
           0,
           0,
           0,
           0,
           0,
           0,
           0,
           0,
           0,
           0,
           0,
           0,
           0,
           0,
           0,
           0,
           0,
           0,
           0,
           0,
           0,
           0,
           0,
           0,
           0,
           0,
           0,
           0,
           0,
           0,
           0,
           0,
           0,
           0,
           0,
           0,
           0,
           0,
           0,
           0,
           0,
           0,
           0,
           0,
           0,
           0,
           0,
           0,
           0,
           0,
           0,
           0,
           0,
           0,
           0,
           0,
           0,
           0,
           0,
           0,
           0,
           0,
           0,
           0,
           0,
           0,
           0,
           0,
           0,
           0,
           0,
           0,
           0,
           0,
           0,
           0,
           0,
           0,
           0,
           0,
           0,
           0,
           0,
           0,
           0,
           0,
           0,
           0,
           0,
           0,
           0,
           0,
           0,
           0,
           0,
           0,
           0,
           0,
           0,
           0,
           0,
           0,
           0,
           0,
           0,
           0,
           0,
           0,
           0,
           0,
           0,
           0,
           0,
           0,
           0,
           0,
           0,
           0,
           0,
           0,
           0,
           0,
           0,
           0,
           0,
           0,
           0,
           0,
           0,
           0,
           0,
           0,
           0,
           0,
           0,
           0,
           0,
           0,
           0,
           0,
           0,
           0,
           0,
           0,
           0,
           0,
           0,
           0,
           0,
           0,
           0,
           0,
           0,
           0,
           0,
           0,
           0,
           0,
           0,
           0,
           0,
           0,
           0,
           0,
           0,
           0,
           0,
           0,
           0,
           0,
           0,
           0,
           0,
           0,
           0,
           0,
           0,
           0,
           0,
           0,
           0,
           0,
           0,
           0,
           0,
           0,
           0,
           0,
           0,
           0,
           0,
           0,
           0,
           0,
           0,
           0,
           0,
           0,
           0,
           0,
           0,
           0,
           0,
           0,
           0,
           0,
           0,
           1,
           1,
           0,
           1,
           0,
           0,
           0,
           1,
           1,
           1,
           1,
           0,
           1,
           1,
           1,
           0,
           1,
           1,
           1,
           0,
           1,
           0,
           1,
           1,
           1,
           1,
           0,
           0,
           0,
           0,
           0,
           0,
           0,
           0,
           0,
           0,
           0,
           0,
           0,
           0,
           0,
           0,
           0,
           0,
           0,
           0,
           0,
           0,
           0,
           0,
           0,
           0,
           0,
           0,
           0,
           0,
           0,
           0,
           0,
           0,
           0,
           0,
           0,
           0,
           0,
           0,
           0,
           0,
           0,
           0,
           0,
           0,
           0,
           0,
           0,
           0,
           0,
           0,
           0,
           0,
           0,
           0,
           0,
           0,
           0,
           0,
           0,
           0,
           0,
           0,
           0,
           0,
           0,
           0,
           0,
           0,
           0,
           0,
           0,
           0,
           0,
           0,
           0,
           0,
           0,
           0,
           0,
           0,
           0,
           0,
           0,
           0,
           0,
           0,
           0,
           0,
           0,
           0,
           0,
           0,
           0,
           0,
           0,
           0,
           0,
           0,
           0,
           0,
           0,
           0,
           0,
           0,
           0,
           0,
           0,
           0,
           0,
           0,
           0,
           0,
           0,
           0,
           0,
           0,
           0,
           0,
           0,
           0,
           0,
           0,
           0,
           0,
           0,
           0,
           0,
           0,
           0,
           0,
           0,
           0,
           0,
           0,
           0,
           0,
           0,
           0,
           0,
           0,
           0,
           0,
           0,
           0,
           0,
           0,
           0,
           0,
           0,
           0,
           0,
           0,
           0,
           0,
           0,
           0,
           0,
           0,
           0,
           0,
           0,
           0,
           0,
           0,
           0,
           0,
           0,
           0,
           0,
           0,
           0,
           0,
           0,
           0,
           0,
           0,
           0,
           0,
           0,
           0,
           0,
           0,
           0,
           0,
           0,
           0,
           0,
           0,
           0,
           0,
           0,
           0,
           0,
           0,
           0,
           0,
           0,
           0,
           0,
           0,
           0,
           0,
           0,
           0,
           0,
           0,
           0,
           0,
           0,
           0,
           0,
           0,
           0,
           0,
           0,
           0,
           0,
           0,
           0,
           0,
           0,
           0,
           0,
           0,
           0,
           0,
           0,
           0,
           0,
           0,
           0,
           0,
           0,
           0,
           0,
           0,
           0,
           0,
           0,
           0,
           0,
           0,
           0,
           0,
           0,
           0,
           0,
           0,
           0,
           0,
           0,
           0,
           0,
           0,
           0,
           0,
           0,
           0,
           0,
           0,
           0,
           0,
           0,
           0,
           0,
           0,
           0,
           0,
           0,
           0,
           0,
           0
          ],
          "coloraxis": "coloraxis",
          "opacity": 0.7,
          "symbol": "circle"
         },
         "mode": "markers",
         "name": "",
         "scene": "scene",
         "showlegend": false,
         "type": "scatter3d",
         "x": [
          -8.832602500915527,
          0.13608266413211823,
          -0.047770384699106216,
          13.32201099395752,
          -1.678602933883667,
          2.979006767272949,
          -0.17022058367729187,
          11.201338768005371,
          -6.1864399909973145,
          -11.22397518157959,
          14.013847351074219,
          4.664701461791992,
          8.52158260345459,
          -0.9240908622741699,
          6.080802917480469,
          4.163226127624512,
          8.544254302978516,
          4.880951404571533,
          -0.22214116156101227,
          6.676189422607422,
          2.306596517562866,
          -4.31729793548584,
          0.136858731508255,
          -5.619019508361816,
          4.109418869018555,
          -1.6719690561294556,
          5.681363582611084,
          -5.3217620849609375,
          6.43330192565918,
          6.530373573303223,
          -5.978859901428223,
          2.0140507221221924,
          -3.9707083702087402,
          9.195752143859863,
          -7.219256401062012,
          -4.159219264984131,
          7.823039531707764,
          -5.514718055725098,
          -5.453371524810791,
          3.5579545497894287,
          -2.1051111221313477,
          7.140749931335449,
          -0.6570422053337097,
          5.386413097381592,
          6.871320724487305,
          4.2522382736206055,
          7.567704677581787,
          -5.659821033477783,
          4.960285663604736,
          2.1774537563323975,
          11.87194538116455,
          -0.23589834570884705,
          -7.461668491363525,
          4.130282402038574,
          5.241367816925049,
          6.995245933532715,
          4.135828018188477,
          -7.94106912612915,
          8.94216251373291,
          3.829345941543579,
          -6.2190961837768555,
          -2.216904401779175,
          7.843964576721191,
          7.2993974685668945,
          0.40196216106414795,
          7.58621072769165,
          -5.475006103515625,
          4.49222993850708,
          4.462154865264893,
          3.3659720420837402,
          9.124403953552246,
          7.115274906158447,
          -6.3951826095581055,
          9.150968551635742,
          -12.769173622131348,
          -7.084807395935059,
          2.5638790130615234,
          6.096917629241943,
          -10.630938529968262,
          -8.433600425720215,
          -8.924675941467285,
          -5.800374984741211,
          1.5635573863983154,
          -1.7700673341751099,
          0.7464592456817627,
          0.8540024161338806,
          2.2410202026367188,
          1.8330755233764648,
          -3.587399482727051,
          -4.529649257659912,
          -7.545423984527588,
          12.578043937683105,
          -1.1396794319152832,
          -0.09630656987428665,
          5.217841625213623,
          7.8935136795043945,
          -5.3602294921875,
          0.9631308913230896,
          -4.158219337463379,
          2.609243869781494,
          -6.678802967071533,
          0.7712006568908691,
          1.1035687923431396,
          -7.377780437469482,
          8.951715469360352,
          -7.115521430969238,
          0.4872541129589081,
          3.7128384113311768,
          -13.193933486938477,
          5.944855213165283,
          -4.8031487464904785,
          -4.256998062133789,
          12.805289268493652,
          -8.101223945617676,
          -0.5085309743881226,
          -5.311753749847412,
          3.97469425201416,
          -0.11915580183267593,
          8.552173614501953,
          -3.2888858318328857,
          -5.576806545257568,
          -4.564295291900635,
          4.277865886688232,
          -0.008227916434407234,
          -2.150435209274292,
          0.7387867569923401,
          5.959835529327393,
          7.3858466148376465,
          0.43014761805534363,
          1.426801085472107,
          -5.331450939178467,
          -5.857294082641602,
          10.912017822265625,
          1.5094631910324097,
          0.5751596689224243,
          -9.96133804321289,
          0.7239972352981567,
          8.409500122070312,
          -0.570732057094574,
          -3.262468099594116,
          9.821330070495605,
          -3.473893880844116,
          -7.602762699127197,
          0.29187262058258057,
          -2.6467790603637695,
          -8.435015678405762,
          3.7826764583587646,
          0.6358554363250732,
          -0.685664176940918,
          1.2599453926086426,
          -4.17609167098999,
          -7.814054489135742,
          2.0281426906585693,
          -7.522730350494385,
          -5.428725242614746,
          -4.7080230712890625,
          1.711572527885437,
          -0.8724958896636963,
          -10.548009872436523,
          7.519447326660156,
          3.3132283687591553,
          -7.486022472381592,
          -8.075743675231934,
          -9.705322265625,
          6.744988441467285,
          0.10586012899875641,
          9.525189399719238,
          8.029617309570312,
          3.8137154579162598,
          -1.6705920696258545,
          -0.011507689021527767,
          1.2050241231918335,
          5.20634651184082,
          -0.028108704835176468,
          -2.66670560836792,
          1.5681852102279663,
          5.229620933532715,
          0.7257788181304932,
          0.10066424310207367,
          7.422319412231445,
          -1.1386545896530151,
          9.665305137634277,
          3.5899298191070557,
          10.355056762695312,
          8.607151985168457,
          2.935675621032715,
          7.082676410675049,
          -5.2882585525512695,
          -9.041010856628418,
          -7.292787075042725,
          0.4272215962409973,
          -0.4717976152896881,
          12.32721996307373,
          -0.5689902901649475,
          4.301606178283691,
          1.6555352210998535,
          -0.04461956396698952,
          4.895361423492432,
          -6.98492431640625,
          -2.017678737640381,
          -5.922776222229004,
          1.2936824560165405,
          5.163376331329346,
          1.4675953388214111,
          0.217668354511261,
          2.4019129276275635,
          -7.413732051849365,
          -5.517282962799072,
          10.229351043701172,
          -1.291871190071106,
          -2.7286791801452637,
          9.14604663848877,
          5.090881824493408,
          -4.643831253051758,
          -4.546020984649658,
          -2.831099271774292,
          -0.9939633011817932,
          6.091737270355225,
          8.139760971069336,
          -3.462535858154297,
          -0.3727104961872101,
          1.1563217639923096,
          1.8103340864181519,
          -13.1316499710083,
          3.1200180053710938,
          -6.504841327667236,
          -1.370124101638794,
          -10.554794311523438,
          -0.14272132515907288,
          9.50087833404541,
          1.0594741106033325,
          -0.9599452614784241,
          7.808141708374023,
          8.124466896057129,
          -1.703218698501587,
          1.1145671606063843,
          -3.1106197834014893,
          -7.3362040519714355,
          7.218295097351074,
          0.5881129503250122,
          -5.0554914474487305,
          3.044262170791626,
          2.71118426322937,
          0.9720048308372498,
          8.452811241149902,
          2.6609585285186768,
          -9.294759750366211,
          -9.034625053405762,
          -1.9075080156326294,
          0.49517181515693665,
          -8.569031715393066,
          -2.2351224422454834,
          6.54911994934082,
          -7.098290920257568,
          -7.551487922668457,
          -3.555861473083496,
          -9.884438514709473,
          0.4243256151676178,
          9.82536506652832,
          -2.7771925926208496,
          1.5590064525604248,
          -6.5291748046875,
          -1.0113714933395386,
          -0.664795994758606,
          -9.152139663696289,
          1.0128364562988281,
          9.39154052734375,
          3.7549173831939697,
          -12.889369010925293,
          5.049911975860596,
          3.037729263305664,
          3.6188266277313232,
          -10.091301918029785,
          2.0170421600341797,
          7.057827949523926,
          -4.881007671356201,
          6.579257488250732,
          -0.5337477326393127,
          2.6920433044433594,
          -8.93982982635498,
          -1.1598793268203735,
          2.236095905303955,
          -9.44273853302002,
          -7.868724346160889,
          0.2474374771118164,
          2.860677480697632,
          -2.023118734359741,
          1.035549283027649,
          1.6030632257461548,
          -8.016356468200684,
          -3.5315043926239014,
          2.922917366027832,
          0.6806225776672363,
          1.8326067924499512,
          -1.5364893674850464,
          10.442100524902344,
          4.1598615646362305,
          -8.455962181091309,
          0.2394169270992279,
          -8.230457305908203,
          0.09252200275659561,
          0.3288392722606659,
          7.085564613342285,
          8.705120086669922,
          4.366220474243164,
          -9.79718017578125,
          2.1536216735839844,
          -8.717731475830078,
          -1.390482783317566,
          8.980671882629395,
          8.234984397888184,
          -0.5220279097557068,
          9.658605575561523,
          1.0130600929260254,
          -1.2412325143814087,
          -8.992345809936523,
          -1.751476764678955,
          -0.018712319433689117,
          -10.231971740722656,
          4.41456413269043,
          0.7542375922203064,
          -9.535982131958008,
          7.73237419128418,
          -0.6548524498939514,
          -5.478031158447266,
          -6.139067649841309,
          8.560127258300781,
          10.216229438781738,
          4.807802200317383,
          4.5543904304504395,
          3.954303026199341,
          5.311025619506836,
          -5.16432523727417,
          -6.2390594482421875,
          2.139512777328491,
          3.0291407108306885,
          0.6276912093162537,
          -10.513545036315918,
          7.045191764831543,
          3.9805796146392822,
          -10.78044319152832,
          -10.173720359802246,
          8.514266967773438,
          -7.136691570281982,
          10.665275573730469,
          3.4319207668304443,
          0.9515305757522583,
          -1.6814160346984863,
          7.8302836418151855,
          5.352636337280273,
          -2.8731863498687744,
          -10.530766487121582,
          -3.425316333770752,
          3.7450530529022217,
          -2.0376060009002686,
          -10.761762619018555,
          -6.06852912902832,
          -0.3213585615158081,
          8.625802040100098,
          -3.307734489440918,
          0.9407368302345276,
          1.255059838294983,
          -6.203721046447754,
          -1.1265099048614502,
          7.5511860847473145,
          -7.997931480407715,
          5.644992828369141,
          2.0731303691864014,
          0.45971566438674927,
          4.098364353179932,
          1.4125373363494873,
          -4.873453140258789,
          1.3967281579971313,
          5.601413249969482,
          7.660308361053467,
          0.32377028465270996,
          -11.253765106201172,
          4.955894470214844,
          4.421889305114746,
          -4.346078395843506,
          6.888925552368164,
          -5.153585433959961,
          -12.406303405761719,
          -11.601606369018555,
          1.3048574924468994,
          -4.869555473327637,
          0.8012283444404602,
          1.0002022981643677,
          -1.6715377569198608,
          -4.750654697418213,
          -1.4504778385162354,
          -5.803977966308594,
          -9.512465476989746,
          -7.84372091293335,
          -2.263206720352173,
          3.784292697906494,
          -7.2335429191589355,
          8.072627067565918,
          -6.19500732421875,
          -9.232291221618652,
          -3.533493757247925,
          -2.1403725147247314,
          -0.19413727521896362,
          2.8694586753845215,
          10.425435066223145,
          3.4205551147460938,
          2.6237714290618896,
          -6.556694507598877,
          7.929393768310547,
          4.5335822105407715,
          1.760162591934204,
          -5.061338424682617,
          9.683204650878906,
          -9.050055503845215,
          2.6087327003479004,
          -0.7314939498901367,
          2.681919813156128,
          -0.6826695799827576,
          10.203280448913574,
          3.6374051570892334,
          -4.548801898956299,
          0.9596273899078369,
          1.2956825494766235,
          -0.45610854029655457,
          4.019246578216553,
          1.245481252670288,
          0.6297228336334229,
          4.389688491821289,
          -7.21593713760376,
          2.78525447845459,
          -5.451964855194092,
          2.2297370433807373,
          -2.248622417449951,
          5.31518030166626,
          8.605813026428223,
          -0.277655690908432,
          -1.0727252960205078,
          2.015087366104126,
          -13.068603515625,
          0.5068057775497437,
          -7.649158954620361,
          -9.838436126708984,
          -0.02150983363389969,
          1.2575191259384155,
          -4.355891227722168,
          6.209120273590088,
          8.101493835449219,
          -5.257556915283203,
          2.0944066047668457,
          9.73934268951416,
          -1.835849642753601,
          0.7441518902778625,
          -0.12456546723842621,
          -9.689151763916016,
          12.571938514709473,
          5.790236473083496,
          -0.9272974133491516,
          0.9645203351974487,
          -10.697576522827148,
          -11.029942512512207,
          1.8690109252929688,
          1.1911259889602661,
          0.34360969066619873,
          -11.217239379882812,
          -4.124574661254883,
          -7.592060565948486,
          -13.183612823486328,
          9.637724876403809,
          0.2801119387149811,
          3.047865390777588,
          -5.979156970977783,
          -2.065808057785034,
          1.5844151973724365,
          -9.44760513305664,
          0.8566909432411194,
          3.67415714263916,
          1.3649593591690063,
          5.264538288116455,
          -9.71052074432373,
          1.1819781064987183,
          -1.6267786026000977,
          -2.293351173400879,
          4.286738395690918,
          2.5613856315612793,
          3.433396816253662,
          1.5943446159362793,
          1.2433339357376099,
          -7.496152877807617,
          -10.011627197265625,
          -0.4383191168308258,
          -8.13879108428955,
          11.142232894897461,
          7.239834785461426,
          6.945652008056641,
          2.6935901641845703,
          3.5046916007995605,
          4.800800323486328,
          8.752725601196289,
          -6.261138439178467,
          -5.198653221130371,
          -0.3165593147277832,
          -4.975663661956787,
          -5.096697807312012,
          -3.452991485595703,
          -7.478130340576172,
          0.06465541571378708,
          -11.39345645904541,
          -2.5032835006713867,
          -7.004240989685059,
          9.400103569030762,
          -0.9114313721656799,
          -1.4207004308700562,
          1.9252045154571533,
          4.481267929077148,
          -9.780179977416992,
          -5.439560890197754,
          -8.53411865234375,
          -11.22648811340332,
          -2.974515438079834,
          2.9806251525878906,
          -5.317587852478027,
          3.008904218673706,
          8.77145004272461,
          5.151822090148926,
          8.148284912109375,
          4.772849082946777,
          -12.210855484008789,
          0.4472140371799469,
          -2.4706711769104004,
          -9.468191146850586,
          1.0669243335723877,
          5.6219706535339355,
          8.717202186584473,
          1.6732028722763062,
          10.485908508300781,
          7.883983135223389,
          4.091278076171875,
          1.2312740087509155,
          -7.8687262535095215,
          4.9682159423828125,
          -2.4381468296051025,
          5.0153584480285645,
          1.8592256307601929,
          -0.7921957969665527,
          -1.171317219734192,
          10.728912353515625,
          -7.737969398498535,
          5.938699722290039,
          3.744882345199585,
          -8.884283065795898,
          -5.502492904663086,
          -8.10733413696289,
          1.2550506591796875,
          -10.62862491607666,
          -5.062088489532471,
          3.926360845565796,
          8.070664405822754,
          -11.935216903686523,
          9.335747718811035,
          -3.1179189682006836,
          0.7530471086502075,
          8.673397064208984,
          -4.893738746643066,
          13.690185546875,
          -2.3284912109375,
          -8.812568664550781,
          1.0123130083084106,
          -4.692296981811523,
          10.396283149719238,
          12.342885971069336,
          -8.220247268676758,
          11.496918678283691,
          9.91703987121582,
          5.556219100952148,
          1.695325255393982,
          8.334168434143066,
          -0.5609455108642578,
          1.5089137554168701,
          -8.203577995300293,
          -5.239589214324951,
          -5.119510173797607,
          -6.933804512023926,
          5.197543621063232,
          -0.6134961843490601,
          -1.5130535364151,
          -7.45176887512207,
          -9.60537052154541,
          0.6647814512252808,
          3.23144268989563,
          5.646393299102783,
          -1.310266375541687,
          -3.2855985164642334,
          -4.674344539642334,
          9.977855682373047,
          -4.050369739532471,
          -7.974142551422119,
          8.718072891235352,
          5.479475021362305,
          4.462071418762207,
          1.6871954202651978,
          8.44491195678711,
          -5.747256278991699,
          9.088827133178711,
          1.276737093925476,
          4.482051849365234,
          -0.5244238376617432,
          10.539435386657715,
          6.640503406524658,
          -2.7491257190704346,
          -0.6524856686592102,
          8.443185806274414,
          -4.351651191711426,
          -5.688906669616699,
          -10.177777290344238,
          -11.496681213378906,
          -4.562346935272217,
          -1.261707067489624,
          -3.14843487739563,
          -2.078209161758423,
          -9.668566703796387,
          -6.08377742767334,
          -6.886030673980713,
          -8.91066837310791,
          -3.6017374992370605,
          5.106664657592773,
          10.851944923400879,
          3.119040012359619,
          -1.0941758155822754,
          -5.930310249328613,
          -11.120064735412598,
          -7.633637428283691,
          4.664241790771484,
          -11.483712196350098,
          2.3259127140045166,
          -4.612889766693115,
          -7.943685054779053,
          -3.195631504058838,
          -5.704172134399414,
          12.342062950134277,
          -4.1932268142700195,
          0.2545449435710907,
          -1.1516048908233643,
          1.6113723516464233,
          -4.073694229125977,
          5.632058143615723,
          -8.349797248840332,
          2.919140577316284,
          -9.494574546813965,
          3.282818555831909,
          -10.046998023986816,
          -1.350921392440796,
          1.1151355504989624,
          -4.657430648803711,
          9.530740737915039,
          2.0052690505981445,
          -0.8255127668380737,
          2.203307867050171,
          -8.438414573669434,
          1.5996414422988892,
          6.296699047088623,
          8.557148933410645,
          -6.350960731506348,
          -4.355687618255615,
          -8.609362602233887,
          5.287037372589111,
          -2.8227438926696777,
          7.1343913078308105,
          1.153093934059143,
          4.944516658782959,
          1.5972658395767212,
          -3.20276141166687,
          -10.234426498413086,
          -8.417356491088867,
          -4.951303005218506,
          6.660372257232666,
          -4.547519683837891,
          -0.2325568050146103,
          11.19225788116455,
          5.440584182739258,
          1.623175024986267,
          4.078174591064453,
          -0.3605025112628937,
          -11.028064727783203,
          5.117566108703613,
          -4.605533599853516,
          1.6834741830825806,
          -7.391138553619385,
          -1.948835849761963,
          13.03836441040039,
          8.458651542663574,
          4.612411975860596,
          7.804737567901611,
          9.214032173156738,
          0.45185157656669617,
          13.080674171447754,
          7.640847206115723,
          -4.6440958976745605,
          -6.355029106140137,
          -10.538606643676758,
          7.114965915679932,
          -2.6245474815368652,
          -6.049045562744141,
          -0.8997581601142883,
          6.41976261138916,
          -8.764714241027832,
          6.118459701538086,
          12.302373886108398,
          12.194005966186523,
          -7.2429680824279785,
          5.81597900390625,
          8.790261268615723,
          -0.39886945486068726,
          -1.1003910303115845,
          -1.4818782806396484,
          1.585740566253662,
          5.844785213470459,
          2.762171745300293,
          3.9081459045410156,
          1.6689330339431763,
          0.7547839283943176,
          -0.2144906222820282,
          5.443462371826172,
          1.7631497383117676,
          -0.22272159159183502,
          -1.7693772315979004,
          -3.9379031658172607,
          9.548644065856934,
          7.503448963165283,
          8.574832916259766,
          3.336683988571167,
          -2.5704386234283447,
          1.7834068536758423,
          -5.180307388305664,
          -3.3898990154266357,
          -0.17714029550552368,
          12.77542495727539,
          -5.133639812469482,
          -8.14527416229248,
          -9.327792167663574,
          8.797760963439941,
          0.6547214388847351,
          -6.555668830871582,
          -7.6200151443481445,
          8.537948608398438,
          -5.956162452697754,
          -8.559650421142578,
          -5.268192768096924,
          11.610918998718262,
          0.8351649045944214,
          8.706547737121582,
          0.2782673239707947,
          1.250346302986145,
          5.1854753494262695,
          4.241190433502197,
          -1.8404123783111572,
          0.29667648673057556,
          -8.260435104370117,
          -6.0900959968566895,
          4.845914363861084,
          -2.421370029449463,
          9.864225387573242,
          -8.55160140991211,
          -0.7011301517486572,
          3.151496410369873,
          -8.690220832824707,
          2.357121706008911,
          3.4633355140686035,
          0.14070090651512146,
          -0.15463976562023163,
          -1.1244220733642578,
          -8.379510879516602,
          -9.058759689331055,
          -5.58629035949707,
          1.0057809352874756,
          -6.76133918762207,
          -3.226426839828491,
          -5.790393352508545,
          -1.6910576820373535,
          -11.48957347869873,
          -7.817081928253174,
          -6.5336384773254395,
          2.9089841842651367,
          1.2334305047988892,
          -4.17962646484375,
          -8.81183910369873,
          9.165658950805664,
          -3.8784680366516113,
          6.442804336547852,
          -8.899455070495605,
          -5.666251182556152,
          11.083499908447266,
          -8.182761192321777,
          9.729913711547852,
          -10.467265129089355,
          4.1821393966674805,
          3.105822801589966,
          -3.341548442840576,
          1.7766914367675781,
          -7.252425670623779,
          0.4346483647823334,
          -4.4721150398254395,
          -5.776102542877197,
          -2.8626012802124023,
          0.03035566210746765,
          0.07697781920433044,
          0.8637925982475281,
          -5.4858903884887695,
          3.200875759124756,
          10.472833633422852,
          2.063626289367676,
          2.0687103271484375,
          7.818300247192383,
          -10.894231796264648,
          -4.250324726104736,
          1.4600623846054077,
          2.371197462081909,
          0.43848103284835815,
          10.168717384338379,
          4.616996765136719,
          6.593511581420898,
          13.830110549926758,
          1.3828881978988647,
          -9.021248817443848,
          -0.669090211391449,
          1.220024824142456,
          -1.123198390007019,
          10.565770149230957,
          -8.181694030761719,
          -8.495849609375,
          6.474349021911621,
          4.316983222961426,
          -4.624966621398926,
          7.169961452484131,
          7.380334854125977,
          0.4552531838417053,
          4.341808795928955,
          1.0234252214431763,
          -0.7989315986633301,
          13.040433883666992,
          -5.301130771636963,
          -6.667990207672119,
          -7.454439640045166,
          7.097158432006836,
          2.5877530574798584,
          0.685352623462677,
          9.048203468322754,
          3.972440719604492,
          -6.9011101722717285,
          -4.255258083343506,
          -2.1150450706481934,
          8.017683982849121,
          -5.785913944244385,
          -6.617646217346191,
          -6.14703369140625,
          -2.3108444213867188,
          3.855302095413208,
          -2.8044023513793945,
          10.261402130126953,
          -7.452048301696777,
          9.409339904785156,
          -5.650288105010986,
          -7.269896030426025,
          -3.115321159362793,
          -4.765519142150879,
          2.487992525100708,
          8.531444549560547,
          0.35581356287002563,
          -6.060813903808594,
          4.627379417419434,
          -3.890392541885376,
          10.35111141204834,
          -5.105767726898193,
          2.38031005859375,
          -4.003940582275391,
          4.089432716369629,
          0.02802180126309395,
          -2.2223329544067383,
          -2.2578554153442383,
          -7.742214202880859,
          1.6343207359313965,
          -3.1092684268951416,
          -7.450835227966309,
          -10.288090705871582,
          6.85368013381958,
          8.48107624053955,
          12.506893157958984,
          -7.683774948120117,
          0.5687218904495239,
          -8.883142471313477,
          6.400115489959717,
          1.5323601961135864,
          8.082239151000977,
          4.450204849243164,
          -10.413718223571777,
          9.946451187133789,
          -5.99882698059082,
          -9.350714683532715,
          1.4025163650512695,
          -2.001039505004883,
          -2.8105554580688477,
          0.7251279950141907,
          -6.240685939788818,
          -3.396167039871216,
          10.315569877624512,
          -5.532480716705322,
          1.0522226095199585,
          4.354752540588379,
          1.5999276638031006,
          4.800851345062256,
          -12.918581008911133,
          -0.017509272322058678,
          0.6247822642326355,
          -1.21376633644104,
          -12.636772155761719,
          9.56910514831543,
          -1.3656789064407349,
          -8.395624160766602,
          3.932050943374634,
          10.36728286743164,
          12.8501615524292,
          -5.889261722564697,
          10.899314880371094,
          -3.2667064666748047,
          -8.702474594116211,
          4.271016597747803,
          -3.4592652320861816,
          3.5733706951141357,
          -8.617976188659668,
          0.10674441605806351,
          4.099074363708496,
          -1.936460018157959,
          -4.682638168334961,
          2.120809555053711,
          8.893781661987305,
          8.512702941894531,
          3.2603025436401367,
          -5.001200199127197,
          1.5819365978240967,
          -0.07057371735572815,
          13.756269454956055,
          3.2986371517181396,
          -5.305939674377441,
          -9.87354850769043,
          9.156803131103516,
          -9.339095115661621,
          7.717458724975586,
          -8.14400863647461,
          -9.159425735473633,
          2.091240644454956,
          3.3182854652404785,
          -9.83912181854248,
          -5.924688816070557,
          10.101370811462402,
          7.925778865814209,
          1.2923262119293213,
          2.7348997592926025,
          12.936125755310059,
          6.982836723327637,
          7.398477077484131,
          -3.2818174362182617,
          2.982022285461426,
          0.8420753479003906,
          1.0508579015731812,
          -10.500097274780273,
          -8.40318775177002,
          -1.277779459953308,
          1.1562647819519043,
          -10.819633483886719,
          8.080083847045898,
          -5.298353672027588,
          7.085709095001221,
          -5.884871959686279,
          -11.205324172973633,
          -1.0255634784698486,
          -8.651987075805664,
          1.182702660560608,
          1.3562490940093994,
          6.020175933837891,
          -5.194068908691406,
          6.092178821563721,
          8.247655868530273,
          -6.563697814941406,
          -7.819769382476807,
          2.0479066371917725,
          5.866454124450684,
          -2.4199373722076416,
          -2.873957395553589,
          3.5410220623016357,
          11.782556533813477,
          0.9600772261619568,
          7.027663230895996,
          -10.784655570983887,
          -8.00522232055664,
          1.659273386001587,
          9.51811695098877,
          -9.094226837158203,
          -2.356630802154541,
          -8.535927772521973,
          5.424389839172363,
          1.5480245351791382
         ],
         "y": [
          -4.344261646270752,
          6.981965065002441,
          -9.810347557067871,
          -4.455320835113525,
          -9.019632339477539,
          1.9528262615203857,
          13.781272888183594,
          -1.4261279106140137,
          5.8416972160339355,
          -1.405175805091858,
          -0.6908748149871826,
          -11.072245597839355,
          4.937005043029785,
          -2.998668670654297,
          -9.733423233032227,
          2.1794230937957764,
          4.908153533935547,
          4.8078837394714355,
          -10.090418815612793,
          -10.183980941772461,
          2.2188587188720703,
          -5.104396820068359,
          -4.00886869430542,
          6.096661567687988,
          -3.177109718322754,
          -3.9841623306274414,
          -10.293417930603027,
          2.239419937133789,
          -5.044907093048096,
          -5.825503826141357,
          3.9781320095062256,
          9.431784629821777,
          -4.079488754272461,
          -6.880800247192383,
          3.9232003688812256,
          -3.4691402912139893,
          -10.565345764160156,
          1.9520472288131714,
          -5.930527687072754,
          2.5865988731384277,
          7.787924766540527,
          -5.150654315948486,
          4.52452278137207,
          -3.615309953689575,
          -6.490351676940918,
          2.929945945739746,
          -6.971657752990723,
          5.9840569496154785,
          -10.848174095153809,
          7.416865348815918,
          3.6187143325805664,
          -10.055924415588379,
          3.0957906246185303,
          2.752678394317627,
          0.8119017481803894,
          12.063156127929688,
          3.8332903385162354,
          7.85349702835083,
          -6.320412635803223,
          -11.147099494934082,
          7.705875873565674,
          0.028878014534711838,
          1.7606914043426514,
          -4.619911193847656,
          3.5881154537200928,
          -7.7797441482543945,
          8.62614917755127,
          4.3894429206848145,
          -10.328813552856445,
          -0.5912250876426697,
          -3.316599130630493,
          -0.8278547525405884,
          -7.246891021728516,
          2.028653144836426,
          -9.577544212341309,
          -4.594170570373535,
          -10.41695785522461,
          -1.0940700769424438,
          -8.713674545288086,
          -5.696166515350342,
          -5.4440813064575195,
          -5.7229766845703125,
          -6.515125751495361,
          0.07418227940797806,
          10.365756034851074,
          4.646695137023926,
          6.734781742095947,
          11.25404167175293,
          3.8765764236450195,
          -7.155812740325928,
          -7.136916637420654,
          0.3153039216995239,
          3.5868194103240967,
          13.549182891845703,
          10.862079620361328,
          0.3076440691947937,
          1.4064886569976807,
          4.233038425445557,
          9.421937942504883,
          -9.371431350708008,
          -7.558650970458984,
          8.017260551452637,
          4.234764099121094,
          3.972433567047119,
          1.1449137926101685,
          -0.8022713661193848,
          0.5254086852073669,
          6.912474632263184,
          -8.61792278289795,
          -2.131263017654419,
          -8.412116050720215,
          -7.7080888748168945,
          -0.6187256574630737,
          -3.942225217819214,
          -10.071303367614746,
          -7.3176398277282715,
          13.676371574401855,
          13.8162841796875,
          0.03823256120085716,
          10.149563789367676,
          -7.325217247009277,
          2.4461488723754883,
          5.547244071960449,
          5.159711837768555,
          -2.173426628112793,
          6.786618232727051,
          9.394521713256836,
          -0.42389431595802307,
          9.380388259887695,
          6.333463668823242,
          5.654756546020508,
          1.9848178625106812,
          2.5518267154693604,
          10.97685432434082,
          8.935994148254395,
          -3.4933650493621826,
          -6.678320407867432,
          2.1993415355682373,
          7.441015720367432,
          4.2158732414245605,
          0.9663882851600647,
          -5.596042633056641,
          4.549633026123047,
          -7.7475810050964355,
          11.229713439941406,
          -3.12514591217041,
          0.7208521366119385,
          8.670494079589844,
          7.579428672790527,
          -0.5822092294692993,
          -8.570277214050293,
          -6.632984638214111,
          2.0093023777008057,
          5.430052280426025,
          -5.690905570983887,
          1.821744441986084,
          5.828213214874268,
          6.569825649261475,
          -7.630100250244141,
          1.1683133840560913,
          13.21196174621582,
          7.256257057189941,
          -9.906518936157227,
          -7.983929634094238,
          -0.22822991013526917,
          7.553070545196533,
          1.9310705661773682,
          -4.473722457885742,
          -8.968514442443848,
          -2.3129079341888428,
          0.6314218044281006,
          3.423276901245117,
          -1.7790868282318115,
          -8.148018836975098,
          0.5074487924575806,
          10.00697135925293,
          -0.41237083077430725,
          -8.226383209228516,
          8.366458892822266,
          1.4393869638442993,
          2.0811116695404053,
          -5.170896530151367,
          8.758980751037598,
          -4.457013130187988,
          -5.05065393447876,
          13.987505912780762,
          -4.365241527557373,
          5.868220329284668,
          -4.035186767578125,
          -6.560905456542969,
          8.363775253295898,
          -8.588626861572266,
          -0.4049454629421234,
          -9.262001991271973,
          10.439488410949707,
          13.520994186401367,
          2.8557488918304443,
          6.165835380554199,
          -8.608847618103027,
          -1.7442092895507812,
          3.578476667404175,
          -0.29578906297683716,
          9.556696891784668,
          -7.067229747772217,
          -9.503171920776367,
          9.881196022033691,
          -5.685424327850342,
          4.012997627258301,
          -5.063724040985107,
          9.641892433166504,
          0.24597999453544617,
          -2.9530234336853027,
          -2.8279247283935547,
          -7.663573741912842,
          2.526000499725342,
          2.182302951812744,
          8.929043769836426,
          0.2508951425552368,
          -0.4884003698825836,
          4.7737040519714355,
          -9.842294692993164,
          6.44443416595459,
          -7.986755847930908,
          -8.939045906066895,
          9.525713920593262,
          -6.054752826690674,
          3.722501277923584,
          -4.05826997756958,
          9.167774200439453,
          -4.0019402503967285,
          12.614572525024414,
          3.6838512420654297,
          1.865861415863037,
          1.9989985227584839,
          12.744950294494629,
          6.1198906898498535,
          8.501825332641602,
          -5.689359188079834,
          -0.5924752950668335,
          -7.6375508308410645,
          4.020177364349365,
          3.4745988845825195,
          -7.411202907562256,
          9.909143447875977,
          -2.870424747467041,
          9.090744972229004,
          -3.921135425567627,
          -10.291258811950684,
          3.5883426666259766,
          -4.939137935638428,
          6.513713836669922,
          2.670308828353882,
          -0.8264878392219543,
          7.026907920837402,
          -1.4793561697006226,
          6.571310043334961,
          -4.77577018737793,
          11.01499080657959,
          -3.289073944091797,
          11.31017017364502,
          -6.85195255279541,
          5.7840375900268555,
          -8.037148475646973,
          1.2809603214263916,
          5.163733005523682,
          9.563680648803711,
          1.6856967210769653,
          10.915166854858398,
          -8.40234088897705,
          4.3717145919799805,
          5.530219554901123,
          10.66074275970459,
          -5.4444990158081055,
          -6.596709728240967,
          -0.05824193358421326,
          7.32958459854126,
          0.130475714802742,
          -8.769091606140137,
          6.607899188995361,
          -3.791741132736206,
          4.396073818206787,
          -6.5334343910217285,
          -2.6717300415039062,
          -2.963866710662842,
          -10.06898307800293,
          5.865942001342773,
          8.371908187866211,
          6.831253528594971,
          10.567275047302246,
          -8.324652671813965,
          -7.7506103515625,
          8.065450668334961,
          0.20694057643413544,
          5.856553077697754,
          0.07251765578985214,
          -0.7514215111732483,
          0.5248539447784424,
          -8.403985023498535,
          0.6230401396751404,
          -4.460883617401123,
          4.741809368133545,
          12.318209648132324,
          -3.002584457397461,
          -2.2150394916534424,
          -1.5802280902862549,
          -9.17122745513916,
          4.157537937164307,
          -8.747313499450684,
          7.461803913116455,
          -5.334997177124023,
          -5.495243549346924,
          9.301438331604004,
          -5.389853000640869,
          -7.209112167358398,
          3.6070444583892822,
          -5.873360633850098,
          -2.0543203353881836,
          11.165544509887695,
          -9.223164558410645,
          9.536088943481445,
          4.97973108291626,
          -6.248145580291748,
          0.024034757167100906,
          5.197320938110352,
          -8.105375289916992,
          -4.824610233306885,
          1.3159090280532837,
          0.7877688407897949,
          -7.009626388549805,
          -0.3880048096179962,
          11.184433937072754,
          0.8451229333877563,
          7.027268409729004,
          0.3496023416519165,
          11.012835502624512,
          -9.375779151916504,
          6.896811485290527,
          -3.321942090988159,
          -4.082841396331787,
          0.0489766001701355,
          -4.303940296173096,
          -3.6096465587615967,
          0.35491955280303955,
          6.167361736297607,
          -1.0450825691223145,
          -6.855736255645752,
          11.392007827758789,
          9.339198112487793,
          -0.5126923322677612,
          1.0134629011154175,
          2.557292938232422,
          -5.045112133026123,
          11.727021217346191,
          10.402923583984375,
          8.40728759765625,
          -3.6234896183013916,
          3.4171969890594482,
          6.715717792510986,
          -1.103316307067871,
          -3.7444264888763428,
          6.666284084320068,
          4.8483500480651855,
          6.564937114715576,
          6.396804332733154,
          0.6072794795036316,
          -9.926436424255371,
          -2.5759670734405518,
          13.205643653869629,
          10.850242614746094,
          7.547590255737305,
          4.179555892944336,
          3.9204087257385254,
          -10.042089462280273,
          -7.541098117828369,
          0.04604821652173996,
          3.5853047370910645,
          -10.494378089904785,
          -0.9596279859542847,
          10.141321182250977,
          -4.9316792488098145,
          2.0307459831237793,
          3.4415531158447266,
          -9.286136627197266,
          -5.98179817199707,
          6.599712371826172,
          1.1221897602081299,
          -0.2529138922691345,
          -0.20241735875606537,
          -0.720731794834137,
          -8.259299278259277,
          7.0382513999938965,
          1.0260941982269287,
          -7.042155742645264,
          -6.021759033203125,
          11.64062786102295,
          10.390719413757324,
          -0.7807290554046631,
          -2.56257700920105,
          -4.968543529510498,
          -3.1721537113189697,
          9.983988761901855,
          5.819883823394775,
          9.409111022949219,
          9.388968467712402,
          -2.9114534854888916,
          11.632194519042969,
          -10.22737979888916,
          2.978240966796875,
          2.430206298828125,
          6.882479190826416,
          7.63458776473999,
          -5.561988353729248,
          -0.038611508905887604,
          -9.465194702148438,
          8.668590545654297,
          4.085932731628418,
          10.430228233337402,
          9.73367977142334,
          1.2397754192352295,
          -7.1616973876953125,
          -8.351628303527832,
          2.546668529510498,
          6.285023212432861,
          6.122437953948975,
          -9.254240036010742,
          9.394571304321289,
          12.579658508300781,
          -0.9342862367630005,
          -6.4912238121032715,
          -10.267827033996582,
          -7.192528247833252,
          14.129609107971191,
          0.09233682602643967,
          -0.9896240234375,
          -2.805520534515381,
          1.2115148305892944,
          11.269920349121094,
          -9.063360214233398,
          -9.009689331054688,
          -10.202789306640625,
          -1.4146562814712524,
          -9.00035572052002,
          -9.880749702453613,
          -10.70610237121582,
          3.1722917556762695,
          -0.46923762559890747,
          -2.8374598026275635,
          6.0546393394470215,
          -5.224794387817383,
          -4.218812465667725,
          6.3538408279418945,
          -7.381823539733887,
          4.583484649658203,
          -9.730725288391113,
          -0.15873265266418457,
          9.940972328186035,
          -0.26974618434906006,
          -6.748767375946045,
          -8.80563735961914,
          -7.214791297912598,
          6.674555778503418,
          -10.451148986816406,
          4.969747543334961,
          -5.230776786804199,
          4.929856777191162,
          -7.131898403167725,
          -8.116927146911621,
          -2.2559003829956055,
          7.992767333984375,
          -8.568558692932129,
          -7.021694660186768,
          12.619823455810547,
          6.173924922943115,
          -4.599939823150635,
          3.156583786010742,
          10.769468307495117,
          12.879441261291504,
          -1.827498435974121,
          -2.5267276763916016,
          8.780220031738281,
          6.607014179229736,
          0.7950168251991272,
          -2.2045984268188477,
          -9.232829093933105,
          13.814373970031738,
          -9.771364212036133,
          2.2705981731414795,
          -7.085492134094238,
          -3.80411434173584,
          -7.20233678817749,
          -9.579869270324707,
          -0.47880178689956665,
          -1.9033169746398926,
          -3.290532112121582,
          -7.877370834350586,
          0.26722750067710876,
          6.598959445953369,
          1.089765191078186,
          5.425650119781494,
          -7.909715175628662,
          7.698856830596924,
          2.822756052017212,
          -5.005528926849365,
          3.4174344539642334,
          -6.172000885009766,
          -7.084003448486328,
          -9.273113250732422,
          8.943254470825195,
          -7.712265968322754,
          -5.80290412902832,
          -9.79347038269043,
          7.036144733428955,
          3.418813943862915,
          0.09561527520418167,
          -7.962772369384766,
          5.571125030517578,
          6.5300116539001465,
          -9.017562866210938,
          2.2614047527313232,
          3.9123964309692383,
          -8.383158683776855,
          -6.365386486053467,
          -2.947833776473999,
          -6.95203971862793,
          0.22338856756687164,
          13.042257308959961,
          -5.230537414550781,
          12.2698392868042,
          0.3416711390018463,
          -6.921172142028809,
          4.106891632080078,
          -1.7652689218521118,
          2.2544915676116943,
          4.13166618347168,
          0.7060735821723938,
          -5.8684515953063965,
          7.810850620269775,
          -8.058727264404297,
          -0.26399338245391846,
          4.804337978363037,
          4.583833694458008,
          1.5502386093139648,
          7.350552082061768,
          8.337813377380371,
          9.65172290802002,
          2.1244521141052246,
          -2.3240838050842285,
          1.0846704244613647,
          -0.288943886756897,
          -2.4820361137390137,
          3.6394131183624268,
          -3.4048912525177,
          -9.908947944641113,
          -7.633544921875,
          6.74307107925415,
          8.843918800354004,
          2.481407642364502,
          -8.240287780761719,
          1.2737364768981934,
          6.7126054763793945,
          -10.679792404174805,
          -0.4618290364742279,
          7.279109001159668,
          1.5119889974594116,
          9.172706604003906,
          -5.84232234954834,
          6.800919055938721,
          2.8308985233306885,
          -3.296367645263672,
          1.2326240539550781,
          -5.405957221984863,
          0.7386914491653442,
          -1.867188572883606,
          1.1565526723861694,
          8.109883308410645,
          -4.635758399963379,
          9.858838081359863,
          11.339105606079102,
          -3.4248006343841553,
          -8.281116485595703,
          -7.767953872680664,
          -9.075002670288086,
          -8.040336608886719,
          10.574163436889648,
          7.333625316619873,
          -5.455248832702637,
          -6.344966888427734,
          1.9230588674545288,
          11.462162971496582,
          -2.3023006916046143,
          5.77230167388916,
          5.336206436157227,
          6.722255229949951,
          -2.5104353427886963,
          6.81583833694458,
          4.441016674041748,
          -1.0555777549743652,
          -2.779358386993408,
          -1.6564228534698486,
          -10.3592529296875,
          1.8386693000793457,
          2.940943956375122,
          -6.387548446655273,
          13.60495662689209,
          0.6415517926216125,
          7.754891872406006,
          -0.06825484335422516,
          0.884850263595581,
          9.77553939819336,
          4.740051746368408,
          -3.3413889408111572,
          -6.9543962478637695,
          -9.187667846679688,
          -5.259801864624023,
          -4.439198017120361,
          7.126529216766357,
          2.8710432052612305,
          4.462121963500977,
          -2.0861639976501465,
          -6.570559978485107,
          6.394608497619629,
          4.161174774169922,
          6.0553460121154785,
          2.653031826019287,
          -7.5412421226501465,
          -1.3860864639282227,
          13.297243118286133,
          -10.694469451904297,
          4.016554832458496,
          -5.723989009857178,
          5.395719051361084,
          5.7615156173706055,
          -10.057146072387695,
          -6.452244758605957,
          -7.195621490478516,
          -0.5022262930870056,
          -6.907441139221191,
          6.61898946762085,
          0.185628741979599,
          7.666425704956055,
          -9.41506290435791,
          9.809914588928223,
          13.292764663696289,
          -5.271243095397949,
          0.7014496922492981,
          -10.624547004699707,
          -9.080686569213867,
          -3.0367417335510254,
          -3.9185791015625,
          -6.184092998504639,
          3.6731135845184326,
          6.997002124786377,
          3.9337079524993896,
          2.4190759658813477,
          9.48530387878418,
          5.568036079406738,
          -8.25217342376709,
          -3.491539478302002,
          -0.9310717582702637,
          -1.6975195407867432,
          -3.1618642807006836,
          3.501880645751953,
          5.225600719451904,
          -4.614513874053955,
          1.0650440454483032,
          8.743212699890137,
          0.9319361448287964,
          11.281599044799805,
          6.303493499755859,
          8.739178657531738,
          4.583969593048096,
          -3.0994701385498047,
          6.6858649253845215,
          7.837810039520264,
          0.5256254076957703,
          3.7192208766937256,
          9.670116424560547,
          -0.5577873587608337,
          0.1374056190252304,
          10.887742042541504,
          -8.565292358398438,
          4.658670902252197,
          -4.644800662994385,
          -1.5889936685562134,
          8.959088325500488,
          8.711673736572266,
          -3.025137424468994,
          8.528512001037598,
          -0.006433708127588034,
          -4.236083984375,
          -0.7834987044334412,
          -5.949375629425049,
          -0.520801842212677,
          1.0954480171203613,
          -1.4598160982131958,
          2.8150205612182617,
          -4.507802486419678,
          -5.948486328125,
          -8.232782363891602,
          -4.774110317230225,
          3.9595229625701904,
          -7.1012444496154785,
          -3.028834819793701,
          -5.071769714355469,
          -2.3644285202026367,
          11.751035690307617,
          -0.2290017157793045,
          4.068764686584473,
          6.069605827331543,
          -3.497039556503296,
          -7.043515205383301,
          5.9161200523376465,
          -2.545511484146118,
          -3.9051754474639893,
          -2.070260763168335,
          2.730351209640503,
          2.10329008102417,
          3.146172523498535,
          -2.204867124557495,
          2.3893043994903564,
          -10.086202621459961,
          12.554971694946289,
          1.5098451375961304,
          -10.053393363952637,
          0.4626410901546478,
          -4.046639442443848,
          -5.012755393981934,
          3.509230375289917,
          0.2922721207141876,
          2.1873791217803955,
          0.37277257442474365,
          -11.079442977905273,
          7.433512210845947,
          11.10415267944336,
          0.02949725277721882,
          0.49431899189949036,
          -7.455676078796387,
          -8.767234802246094,
          -8.264878273010254,
          -4.504062175750732,
          -0.5335657596588135,
          -3.2272870540618896,
          -3.4592320919036865,
          -2.4197757244110107,
          -4.91702127456665,
          -8.414011001586914,
          -7.390009880065918,
          -0.5530366897583008,
          -7.13004732131958,
          -2.8164565563201904,
          7.0323333740234375,
          -9.798347473144531,
          11.443857192993164,
          10.566546440124512,
          4.952211380004883,
          -8.585392951965332,
          -5.573371410369873,
          5.979097366333008,
          0.21269817650318146,
          8.879632949829102,
          -4.435063362121582,
          6.8115997314453125,
          2.355783224105835,
          9.238374710083008,
          -5.581933975219727,
          12.960030555725098,
          11.714935302734375,
          -9.29452896118164,
          11.418128967285156,
          -8.666097640991211,
          -5.4533162117004395,
          -1.998418927192688,
          5.534194469451904,
          12.31898021697998,
          -4.356903553009033,
          5.8360676765441895,
          3.937230110168457,
          3.0492236614227295,
          -9.98990535736084,
          -5.36220121383667,
          -6.3633575439453125,
          12.451837539672852,
          3.7986338138580322,
          -8.214086532592773,
          -10.078910827636719,
          -3.641118049621582,
          5.9747114181518555,
          0.8214884996414185,
          -6.9716925621032715,
          -5.409813404083252,
          -3.039541006088257,
          -5.077551364898682,
          -3.5836257934570312,
          -9.111976623535156,
          11.36551284790039,
          8.659567832946777,
          3.952448606491089,
          -5.748377323150635,
          -7.683123588562012,
          8.510381698608398,
          3.1492698192596436,
          2.529491424560547,
          1.0962307453155518,
          7.898468971252441,
          -7.895383834838867,
          8.145387649536133,
          5.894398212432861,
          8.636247634887695,
          0.7164100408554077,
          3.5251736640930176,
          -8.626967430114746,
          -1.1894041299819946,
          -9.557561874389648,
          -7.718216896057129,
          4.051747798919678,
          -5.095943927764893,
          4.748880386352539,
          -2.1269302368164062,
          -0.6694409847259521,
          1.1762546300888062,
          1.4648185968399048,
          -6.881154537200928,
          -8.701638221740723,
          4.487212181091309,
          3.2552647590637207,
          12.457575798034668,
          0.6316816210746765,
          -6.691745281219482,
          -7.064458847045898,
          -1.4032796621322632,
          8.644804000854492,
          -4.618052959442139,
          0.8886719346046448,
          -2.1047439575195312,
          -6.624302387237549,
          0.1077786237001419,
          -11.07036018371582,
          -7.987457752227783,
          2.1205403804779053,
          5.696409702301025,
          -7.3477325439453125,
          3.925769090652466,
          1.0337222814559937,
          7.245243549346924,
          11.3720064163208,
          1.2974754571914673,
          5.505044937133789,
          -7.7076921463012695,
          -8.261322975158691,
          -2.272814989089966,
          2.311556816101074,
          -9.511917114257812,
          5.890540599822998,
          -7.302601337432861,
          -0.28325098752975464,
          4.100494384765625,
          1.9940181970596313,
          -0.6760662198066711,
          -6.810303211212158,
          -3.6316609382629395,
          -6.470583438873291,
          -5.892208576202393,
          7.145081520080566,
          -7.191234588623047,
          3.86142897605896,
          2.069309711456299,
          14.066367149353027,
          -5.640411376953125,
          0.8222717046737671,
          -6.175060749053955,
          -3.4929096698760986,
          3.6674020290374756,
          6.995871067047119,
          -8.39155387878418,
          10.708545684814453,
          1.5958616733551025,
          11.93492317199707,
          3.697899341583252,
          -2.2858994007110596,
          -9.209609985351562,
          -7.140768527984619,
          -11.142972946166992,
          -3.0574285984039307,
          -0.1317848116159439,
          -2.6345627307891846,
          -0.7973312735557556,
          -5.34476375579834,
          0.5810927152633667,
          -4.477547645568848,
          -3.17095947265625,
          -8.131660461425781,
          -5.669417381286621,
          -8.367349624633789,
          -3.138925313949585,
          -5.431543827056885,
          -5.78090763092041,
          -3.6623833179473877,
          9.705364227294922,
          0.07925968617200851,
          8.374234199523926,
          6.50690221786499,
          6.007846355438232,
          5.004044055938721,
          -1.5298993587493896,
          -8.35577392578125,
          -6.706793308258057,
          0.4501493275165558,
          10.13296890258789,
          -8.097418785095215,
          -9.321703910827637,
          5.935395240783691,
          1.6837718486785889,
          3.3972976207733154,
          -9.871546745300293,
          -3.7429356575012207,
          -10.322017669677734,
          -1.654802918434143,
          5.2194905281066895,
          -0.9189741611480713,
          -0.4332755208015442,
          -8.68796157836914,
          2.4236485958099365,
          9.686721801757812,
          -4.221951007843018,
          4.278326988220215,
          -8.473812103271484,
          10.321374893188477,
          -2.3874833583831787,
          0.8340088129043579,
          4.415436267852783,
          -9.621888160705566,
          4.268106460571289,
          6.05914831161499,
          -2.7436187267303467,
          -2.073917865753174,
          -9.888799667358398,
          1.3980270624160767,
          -9.964381217956543,
          7.772010803222656,
          0.903849720954895,
          -10.492181777954102,
          5.694893836975098,
          -8.355764389038086,
          1.846845030784607,
          -9.461688995361328,
          -4.554803848266602,
          -9.502201080322266,
          -6.998704433441162,
          6.184236526489258,
          11.126201629638672,
          -2.1495487689971924,
          2.7900288105010986,
          -2.2212021350860596,
          0.9761273264884949,
          -0.5841947197914124,
          10.427532196044922,
          -1.192043423652649,
          -3.3036789894104004,
          -1.9919346570968628,
          3.674456834793091,
          11.787881851196289,
          2.400463104248047,
          -8.095672607421875,
          -9.013479232788086,
          -3.4546077251434326,
          7.472301959991455,
          6.010486125946045,
          -7.193580627441406,
          -4.061781883239746,
          6.523608207702637,
          -0.6651519536972046,
          -9.119598388671875,
          -4.21928071975708,
          -10.277169227600098,
          -4.477469444274902,
          9.377387046813965,
          9.172472953796387,
          0.12211434543132782,
          7.335005283355713,
          1.1002159118652344,
          -3.63375186920166,
          -7.7815260887146,
          -8.206472396850586,
          13.90555477142334,
          -0.021339457482099533,
          5.948276042938232,
          3.627000570297241,
          0.6468483209609985,
          1.0964983701705933,
          -10.070517539978027,
          0.7566765546798706,
          -9.102005004882812,
          -10.846470832824707,
          -10.00020980834961,
          -2.1839566230773926,
          -2.912860631942749,
          9.914082527160645,
          -6.6709303855896,
          -0.76480633020401,
          -11.079901695251465
         ],
         "z": [
          -1.0697134733200073,
          -3.2434353828430176,
          -5.491139888763428,
          -11.614669799804688,
          -12.999421119689941,
          -6.401287078857422,
          2.7674810886383057,
          -12.711296081542969,
          -3.436436891555786,
          9.939724922180176,
          -10.649559020996094,
          -14.4637451171875,
          -10.561707496643066,
          -8.450750350952148,
          -10.368881225585938,
          -17.082958221435547,
          -10.536975860595703,
          7.867491722106934,
          -3.8860886096954346,
          -13.820658683776855,
          -5.9468159675598145,
          1.0906800031661987,
          -9.167618751525879,
          -3.931043863296509,
          -7.857179641723633,
          -0.2522704303264618,
          -13.625385284423828,
          -2.3829164505004883,
          -20.23341941833496,
          -16.848140716552734,
          -2.0190012454986572,
          -2.114396333694458,
          -2.93699312210083,
          -13.313175201416016,
          5.934962749481201,
          1.1776090860366821,
          -14.166691780090332,
          -2.6510508060455322,
          -0.6929656267166138,
          -7.888302803039551,
          13.202980995178223,
          -12.216254234313965,
          8.907123565673828,
          -5.0884246826171875,
          -11.1777982711792,
          -16.849313735961914,
          -11.814516067504883,
          -3.518972873687744,
          -14.219326972961426,
          10.845633506774902,
          -12.756231307983398,
          -2.0130670070648193,
          7.50784969329834,
          -16.794292449951172,
          -6.1746344566345215,
          0.32868504524230957,
          -7.509893894195557,
          4.823807716369629,
          -12.971078872680664,
          -8.604058265686035,
          3.0177009105682373,
          7.099434852600098,
          -18.628177642822266,
          -12.272214889526367,
          12.229217529296875,
          -11.96854019165039,
          11.147480010986328,
          8.040321350097656,
          -13.308246612548828,
          -8.913107872009277,
          -18.85123062133789,
          -13.657072067260742,
          -0.8448207378387451,
          -10.564934730529785,
          7.541332721710205,
          4.719028949737549,
          -11.94612979888916,
          -16.564411163330078,
          11.549154281616211,
          11.041674613952637,
          10.539093971252441,
          5.6754937171936035,
          -12.451722145080566,
          5.572465419769287,
          2.459338665008545,
          -1.621193766593933,
          7.7069501876831055,
          9.32251262664795,
          4.934398651123047,
          3.3913824558258057,
          4.1691975593566895,
          -10.204652786254883,
          7.679722785949707,
          4.434667110443115,
          1.4614149332046509,
          -19.356128692626953,
          9.380498886108398,
          0.7383019924163818,
          3.2426223754882812,
          -12.47465991973877,
          0.6788763999938965,
          10.369550704956055,
          0.7648289799690247,
          9.262829780578613,
          -17.68543815612793,
          9.778719902038574,
          7.866763591766357,
          1.7311718463897705,
          7.983523845672607,
          -15.775341033935547,
          4.940128326416016,
          0.2245420217514038,
          -7.3947978019714355,
          5.657310485839844,
          -9.786290168762207,
          7.42862606048584,
          3.994126319885254,
          4.618574619293213,
          -10.105782508850098,
          4.962029933929443,
          8.342771530151367,
          4.099459648132324,
          3.1263270378112793,
          10.851818084716797,
          3.362474203109741,
          -0.4827785789966583,
          1.4947562217712402,
          -11.563037872314453,
          2.2763266563415527,
          0.32264265418052673,
          3.6870639324188232,
          8.966830253601074,
          -13.496369361877441,
          0.7475981712341309,
          9.213974952697754,
          3.2387046813964844,
          -10.527650833129883,
          -14.267338752746582,
          -0.12901820242404938,
          0.9557357430458069,
          -10.963510513305664,
          3.7586796283721924,
          8.630643844604492,
          -12.16569709777832,
          5.646901607513428,
          10.651880264282227,
          -12.293289184570312,
          12.181127548217773,
          -1.5082101821899414,
          5.3301262855529785,
          4.122572898864746,
          6.669991493225098,
          0.7822505831718445,
          9.188282012939453,
          0.5701745748519897,
          10.058332443237305,
          11.752779960632324,
          10.720033645629883,
          8.32329273223877,
          -8.502435684204102,
          2.7432100772857666,
          5.345531463623047,
          7.347947120666504,
          12.839217185974121,
          -9.932308197021484,
          9.329092979431152,
          -11.457574844360352,
          -15.867244720458984,
          -9.278491020202637,
          5.077152729034424,
          8.408652305603027,
          -0.1903160661458969,
          -7.91325044631958,
          -8.46930980682373,
          1.4953621625900269,
          10.236367225646973,
          -6.575450420379639,
          -7.681839942932129,
          -1.6136879920959473,
          -13.793466567993164,
          2.621480703353882,
          -9.301023483276367,
          -1.6473709344863892,
          -16.031797409057617,
          -16.607141494750977,
          4.45371150970459,
          -9.742761611938477,
          4.532377243041992,
          8.954048156738281,
          6.416011333465576,
          11.494142532348633,
          -11.778061866760254,
          -10.59451675415039,
          -8.589513778686523,
          6.584138870239258,
          1.7748653888702393,
          3.6328771114349365,
          1.2915260791778564,
          1.547441005706787,
          2.549243211746216,
          3.5274884700775146,
          3.9914755821228027,
          0.4559765160083771,
          -13.097237586975098,
          -7.290560245513916,
          -2.155353307723999,
          12.856552124023438,
          3.660295248031616,
          -9.881322860717773,
          -0.19837169349193573,
          2.742828607559204,
          -8.659411430358887,
          -16.560745239257812,
          6.315673828125,
          3.864234685897827,
          3.4351561069488525,
          0.04904504865407944,
          -16.414499282836914,
          -18.23906898498535,
          -0.43653562664985657,
          -7.063947677612305,
          2.9590365886688232,
          -12.562954902648926,
          9.379334449768066,
          7.24962043762207,
          12.023807525634766,
          10.433341979980469,
          9.134669303894043,
          9.428131103515625,
          -5.748416900634766,
          2.5451996326446533,
          8.01276683807373,
          -12.87696361541748,
          -14.026424407958984,
          4.6059136390686035,
          3.0493509769439697,
          0.530752956867218,
          6.620339393615723,
          -11.769487380981445,
          -6.434582710266113,
          3.774563789367676,
          3.8079819679260254,
          -7.793308734893799,
          5.257205963134766,
          -12.776997566223145,
          7.973289489746094,
          6.89816427230835,
          10.2161283493042,
          10.669739723205566,
          -9.798524856567383,
          6.690362453460693,
          -0.11585211008787155,
          -13.486387252807617,
          5.3898115158081055,
          10.337635040283203,
          -2.512086868286133,
          1.031019687652588,
          6.637368679046631,
          -5.672380447387695,
          5.130549907684326,
          -8.007455825805664,
          5.437138557434082,
          -10.14752197265625,
          2.1031301021575928,
          7.500947952270508,
          5.111180305480957,
          -15.082210540771484,
          4.895374774932861,
          7.786334991455078,
          0.7056858539581299,
          1.881995439529419,
          0.04929668456315994,
          3.597343921661377,
          -7.288471221923828,
          -8.883746147155762,
          8.52249813079834,
          -18.727031707763672,
          -11.789329528808594,
          2.231194257736206,
          8.857748031616211,
          10.32992172241211,
          -7.594265937805176,
          9.919191360473633,
          2.7354304790496826,
          -9.744047164916992,
          4.1978302001953125,
          7.127781867980957,
          2.498870849609375,
          7.713879585266113,
          1.2046916484832764,
          3.5388476848602295,
          1.8272510766983032,
          7.77154541015625,
          4.914120674133301,
          5.626179218292236,
          -9.14663028717041,
          -11.36980152130127,
          12.334959983825684,
          5.10239839553833,
          0.8275887370109558,
          -2.394618272781372,
          5.972745418548584,
          -17.223896026611328,
          -12.810895919799805,
          -10.392644882202148,
          6.89066219329834,
          2.5942561626434326,
          6.961154937744141,
          12.72293758392334,
          -16.67035675048828,
          -16.08184814453125,
          12.669010162353516,
          -8.450881958007812,
          -6.791780948638916,
          5.695466995239258,
          0.5720826387405396,
          4.936736106872559,
          3.328211784362793,
          7.862302303314209,
          1.037635087966919,
          -1.7788184881210327,
          5.571495532989502,
          -13.517026901245117,
          0.8318135738372803,
          10.674349784851074,
          2.102128505706787,
          -16.381362915039062,
          -14.919171333312988,
          -10.184931755065918,
          -10.546250343322754,
          5.073635101318359,
          -17.988218307495117,
          7.039134979248047,
          9.617019653320312,
          9.797118186950684,
          -11.569761276245117,
          0.4996679425239563,
          3.139148712158203,
          -10.077479362487793,
          -19.06666374206543,
          2.728154182434082,
          11.474464416503906,
          -9.961099624633789,
          9.290704727172852,
          -13.271678924560547,
          -11.403221130371094,
          0.3034953773021698,
          11.070883750915527,
          -11.099764823913574,
          -17.3818302154541,
          -0.827417254447937,
          4.000326633453369,
          4.6408915519714355,
          -0.1522475928068161,
          7.124717712402344,
          11.238842010498047,
          6.7468647956848145,
          2.2309060096740723,
          -19.481788635253906,
          1.9019830226898193,
          -1.6199326515197754,
          2.007356882095337,
          0.5785323977470398,
          12.123161315917969,
          -12.575481414794922,
          7.723422527313232,
          -18.029027938842773,
          5.899153232574463,
          7.009899616241455,
          1.7244255542755127,
          9.35029411315918,
          3.875096082687378,
          -11.942610740661621,
          -8.96821403503418,
          -13.507843017578125,
          10.856958389282227,
          7.204009056091309,
          -11.065213203430176,
          0.9245138168334961,
          3.3513917922973633,
          -10.401137351989746,
          1.072857141494751,
          6.309346675872803,
          10.90881061553955,
          -0.6607588529586792,
          8.916021347045898,
          7.766336441040039,
          6.3897199630737305,
          1.9378372430801392,
          1.020909309387207,
          7.53372859954834,
          9.67654037475586,
          4.090818881988525,
          7.055461406707764,
          3.930018663406372,
          -0.05368344113230705,
          9.407225608825684,
          -13.043119430541992,
          0.9083627462387085,
          7.555493354797363,
          4.665014266967773,
          6.22920560836792,
          12.890761375427246,
          -2.134943962097168,
          -14.415571212768555,
          4.351990699768066,
          -8.637831687927246,
          1.244845986366272,
          -7.9458699226379395,
          -1.1261645555496216,
          5.075601100921631,
          4.471918106079102,
          -18.148658752441406,
          7.736666202545166,
          1.4033684730529785,
          8.436053276062012,
          10.73958969116211,
          2.3414676189422607,
          -14.742714881896973,
          -11.672001838684082,
          0.978318452835083,
          5.317480564117432,
          3.17785382270813,
          -1.7360795736312866,
          -9.963866233825684,
          8.379273414611816,
          2.9606308937072754,
          -10.60763168334961,
          -0.3894185721874237,
          -11.989483833312988,
          6.816287994384766,
          3.404916763305664,
          5.8451948165893555,
          -12.407526016235352,
          -19.024240493774414,
          2.523057460784912,
          6.4176201820373535,
          -12.210820198059082,
          8.639185905456543,
          -7.519474506378174,
          9.732439041137695,
          11.46377182006836,
          -8.483083724975586,
          -14.385457038879395,
          5.903149604797363,
          -7.301220893859863,
          -17.066307067871094,
          9.093063354492188,
          -9.502272605895996,
          -10.964030265808105,
          6.893691539764404,
          -10.775075912475586,
          10.8626070022583,
          7.224930763244629,
          -8.43004322052002,
          1.3374619483947754,
          0.24460510909557343,
          -9.763422012329102,
          10.805438041687012,
          10.886148452758789,
          -0.9727933406829834,
          -9.168432235717773,
          8.197035789489746,
          11.656021118164062,
          -2.1982975006103516,
          4.266258239746094,
          7.943054676055908,
          -16.902402877807617,
          9.467745780944824,
          -9.416373252868652,
          9.299622535705566,
          7.003389835357666,
          7.948810577392578,
          5.533167362213135,
          10.558568954467773,
          6.82650089263916,
          1.5118948221206665,
          -9.389042854309082,
          1.1652677059173584,
          4.385913848876953,
          11.610281944274902,
          6.133339881896973,
          -11.083218574523926,
          -14.379658699035645,
          3.866922616958618,
          -13.745870590209961,
          0.4186442494392395,
          -0.826716423034668,
          2.3117904663085938,
          -6.616734504699707,
          9.257493019104004,
          -8.848804473876953,
          -6.583954334259033,
          -17.356863021850586,
          -8.320197105407715,
          -12.179206848144531,
          -0.41894978284835815,
          -8.2164945602417,
          8.241982460021973,
          2.947420358657837,
          0.036292798817157745,
          -1.9557156562805176,
          2.163912534713745,
          4.587769031524658,
          -0.6246973872184753,
          -7.018270969390869,
          9.52072811126709,
          10.536693572998047,
          -1.160035252571106,
          -8.72197437286377,
          -12.001300811767578,
          10.561878204345703,
          3.0958423614501953,
          -18.903488159179688,
          12.030522346496582,
          10.75343132019043,
          8.121219635009766,
          10.298019409179688,
          -0.6293069124221802,
          2.448970317840576,
          -0.7114570140838623,
          -13.321355819702148,
          -7.374224662780762,
          -10.51408576965332,
          -18.533178329467773,
          4.577320098876953,
          10.616154670715332,
          6.124851226806641,
          0.9793009757995605,
          1.1840558052062988,
          0.9011692404747009,
          -16.89182472229004,
          -9.46342658996582,
          8.850360870361328,
          -7.995924472808838,
          -15.643418312072754,
          -1.4575800895690918,
          -13.555538177490234,
          0.8372060656547546,
          0.7540308237075806,
          -0.11827113479375839,
          -10.021109580993652,
          5.094733715057373,
          -1.6801708936691284,
          10.698341369628906,
          -11.509851455688477,
          10.58910083770752,
          -11.32105827331543,
          -12.120701789855957,
          10.205525398254395,
          9.726568222045898,
          4.0587944984436035,
          -10.665756225585938,
          8.241137504577637,
          8.346362113952637,
          4.813835144042969,
          -8.7287015914917,
          6.6222333908081055,
          -15.615886688232422,
          -2.4767062664031982,
          -14.020844459533691,
          -18.27337646484375,
          8.978262901306152,
          -8.302401542663574,
          6.489598274230957,
          12.824409484863281,
          10.185165405273438,
          -1.592353343963623,
          -11.986385345458984,
          -7.983384609222412,
          -0.4379701614379883,
          -8.346721649169922,
          -13.533951759338379,
          -17.491374969482422,
          -1.6385672092437744,
          -17.50953483581543,
          3.0093982219696045,
          8.355690002441406,
          2.3503499031066895,
          8.406148910522461,
          0.6659851670265198,
          8.570244789123535,
          -8.951335906982422,
          2.277026653289795,
          12.603691101074219,
          13.099903106689453,
          0.9679433703422546,
          9.72619915008545,
          6.788747787475586,
          -17.835575103759766,
          5.749200344085693,
          11.474552154541016,
          -2.298938512802124,
          -14.099814414978027,
          -0.6036567091941833,
          8.232735633850098,
          -12.966365814208984,
          -16.415401458740234,
          -9.606667518615723,
          -13.865138053894043,
          -11.545563697814941,
          4.4749884605407715,
          -8.452290534973145,
          3.366237163543701,
          -9.440520286560059,
          -0.23521006107330322,
          -14.929499626159668,
          -18.999595642089844,
          5.305330276489258,
          -1.2299103736877441,
          -6.790667533874512,
          4.322233200073242,
          -0.1816142499446869,
          2.44639253616333,
          10.670549392700195,
          9.973719596862793,
          3.488682746887207,
          4.397992134094238,
          4.447947025299072,
          1.4124526977539062,
          -0.47493213415145874,
          8.028965950012207,
          7.279482841491699,
          -1.1488596200942993,
          -10.152875900268555,
          -15.870118141174316,
          3.3792593479156494,
          -10.382328033447266,
          1.4480310678482056,
          11.57384204864502,
          4.8369927406311035,
          2.1924209594726562,
          8.988720893859863,
          -12.878885269165039,
          3.0118680000305176,
          0.8757652044296265,
          5.348155975341797,
          -0.2149982452392578,
          -8.648125648498535,
          0.19327683746814728,
          -7.04378080368042,
          -0.30547666549682617,
          1.9527418613433838,
          3.9581875801086426,
          -19.32309341430664,
          8.187785148620605,
          -8.332152366638184,
          4.896641731262207,
          -9.464859962463379,
          4.21539306640625,
          10.380495071411133,
          10.584177017211914,
          1.1731750965118408,
          -12.210892677307129,
          10.11880874633789,
          0.5121861696243286,
          -12.518780708312988,
          2.9748358726501465,
          5.788412570953369,
          -16.052349090576172,
          -17.066238403320312,
          7.514787197113037,
          -2.0455007553100586,
          0.2156134396791458,
          -10.647629737854004,
          0.4125189185142517,
          -15.022706985473633,
          0.3823377192020416,
          1.2119008302688599,
          10.803711891174316,
          0.6774023175239563,
          11.036231994628906,
          8.272204399108887,
          1.0117136240005493,
          -7.970360279083252,
          10.151562690734863,
          -1.1925528049468994,
          -7.328615665435791,
          -11.85309886932373,
          0.8829951286315918,
          -9.014914512634277,
          9.507529258728027,
          3.59993314743042,
          -7.7926025390625,
          8.631085395812988,
          10.138859748840332,
          10.9788236618042,
          12.022851943969727,
          -10.060976028442383,
          -16.254945755004883,
          -6.013142108917236,
          -15.417659759521484,
          -18.4307918548584,
          0.857121467590332,
          -8.791135787963867,
          -9.384939193725586,
          2.1888482570648193,
          11.715241432189941,
          9.463555335998535,
          -9.251617431640625,
          3.340790271759033,
          13.65699577331543,
          -8.466816902160645,
          -20.285018920898438,
          7.690474987030029,
          0.7299339175224304,
          -11.897228240966797,
          -12.736166954040527,
          -0.5212502479553223,
          -5.704720973968506,
          -12.707327842712402,
          11.058600425720215,
          5.928399562835693,
          -0.33262819051742554,
          8.447763442993164,
          -7.530033111572266,
          -6.396207332611084,
          -16.18222427368164,
          8.495561599731445,
          6.972280979156494,
          -4.005207538604736,
          4.906353950500488,
          -0.3000926375389099,
          -1.9158817529678345,
          -2.3839991092681885,
          -3.0334482192993164,
          -10.184566497802734,
          -9.512521743774414,
          -13.496078491210938,
          -7.682440757751465,
          3.000460386276245,
          -12.153992652893066,
          0.6294301748275757,
          2.0865769386291504,
          0.044571973383426666,
          -9.182305335998535,
          6.5331220626831055,
          10.658177375793457,
          11.747166633605957,
          -7.216479778289795,
          4.347679138183594,
          3.798229217529297,
          3.5596837997436523,
          -5.736196041107178,
          0.809995710849762,
          12.081404685974121,
          9.905194282531738,
          -7.850416660308838,
          -9.207579612731934,
          -17.62221336364746,
          -2.3587422370910645,
          -11.296378135681152,
          1.5542535781860352,
          6.525857925415039,
          11.098191261291504,
          -7.861849784851074,
          10.927115440368652,
          5.557962417602539,
          -18.95332908630371,
          10.35787296295166,
          -16.700544357299805,
          8.22607421875,
          9.915334701538086,
          9.178711891174316,
          0.26818907260894775,
          5.367198944091797,
          4.39320182800293,
          -11.749878883361816,
          3.0830886363983154,
          -11.284761428833008,
          10.573041915893555,
          1.6334855556488037,
          -1.6311712265014648,
          2.565793514251709,
          2.2228078842163086,
          12.077518463134766,
          1.410488486289978,
          3.6735146045684814,
          8.836142539978027,
          2.5050594806671143,
          7.40808629989624,
          4.51188850402832,
          -0.4833988547325134,
          4.489323616027832,
          10.878218650817871,
          -17.417583465576172,
          6.186739921569824,
          -8.567930221557617,
          13.049601554870605,
          11.944538116455078,
          -14.454619407653809,
          7.2404279708862305,
          -6.314281940460205,
          6.724564075469971,
          5.990708351135254,
          -2.3616151809692383,
          10.602269172668457,
          -9.44315242767334,
          7.997954845428467,
          13.014008522033691,
          6.041148662567139,
          0.8295325040817261,
          0.2916625142097473,
          -2.7736730575561523,
          -6.839634418487549,
          9.587640762329102,
          10.498763084411621,
          4.565217018127441,
          -11.05162239074707,
          9.060159683227539,
          -11.739155769348145,
          -6.091101169586182,
          7.347390174865723,
          0.5634207725524902,
          -1.075460433959961,
          -9.48604679107666,
          1.3257907629013062,
          -15.429546356201172,
          -6.581287860870361,
          -11.847136497497559,
          -8.38803482055664,
          -6.790614604949951,
          12.761167526245117,
          -0.525039792060852,
          3.519949197769165,
          6.699784278869629,
          -10.916923522949219,
          11.249334335327148,
          4.590560436248779,
          -17.247060775756836,
          4.780651092529297,
          2.2176406383514404,
          -18.987197875976562,
          -6.400403022766113,
          -9.583149909973145,
          -8.950186729431152,
          -12.87027359008789,
          -11.243967056274414,
          -8.940374374389648,
          9.079854965209961,
          7.792724132537842,
          8.991324424743652,
          -12.0704927444458,
          2.2516961097717285,
          4.274179458618164,
          -7.964856147766113,
          -1.168805480003357,
          8.307063102722168,
          5.153937339782715,
          3.606491804122925,
          -8.817227363586426,
          0.0004942028317600489,
          9.244257926940918,
          7.882580280303955,
          1.8301643133163452,
          1.7560195922851562,
          2.0895636081695557,
          -10.366844177246094,
          12.037545204162598,
          -6.027192115783691,
          0.3151858150959015,
          10.80768871307373,
          -3.287970542907715,
          9.93368911743164,
          2.883129358291626,
          -14.040716171264648,
          4.917914390563965,
          11.86729621887207,
          -9.619304656982422,
          3.694202184677124,
          -11.264938354492188,
          9.780362129211426,
          7.7090535163879395,
          5.920428276062012,
          1.9520832300186157,
          9.614015579223633,
          3.7504658699035645,
          5.270832538604736,
          1.6422315835952759,
          -7.550143241882324,
          3.853893995285034,
          8.017181396484375,
          10.932847023010254,
          -14.823694229125977,
          -13.207780838012695,
          -7.876831531524658,
          2.74570369720459,
          6.584654331207275,
          0.8276830315589905,
          -6.214465141296387,
          -12.221673011779785,
          -16.69365692138672,
          -9.863729476928711,
          9.969804763793945,
          -16.367130279541016,
          5.583527565002441,
          4.116547584533691,
          9.30805778503418,
          0.9411406517028809,
          2.9679036140441895,
          2.5344669818878174,
          5.892094135284424,
          11.277372360229492,
          -15.858236312866211,
          10.499160766601562,
          -12.952795028686523,
          -11.910330772399902,
          -2.4296600818634033,
          -9.699100494384766,
          9.410346984863281,
          5.457088947296143,
          9.21571159362793,
          7.819770812988281,
          7.82570219039917,
          -7.308572769165039,
          -10.808194160461426,
          0.9061203002929688,
          3.6629183292388916,
          -9.815699577331543,
          -9.081968307495117,
          0.25570276379585266,
          -13.68401050567627,
          3.761819362640381,
          7.840035915374756,
          0.7498183846473694,
          3.8175768852233887,
          -0.777886152267456,
          1.109907627105713,
          4.805426597595215,
          1.565560221672058,
          -11.398712158203125,
          8.410561561584473,
          7.460373401641846,
          -16.41745948791504,
          -12.82469367980957,
          -11.535412788391113,
          9.624738693237305,
          -7.121426105499268,
          -1.8378962278366089,
          -8.205843925476074,
          -8.650243759155273,
          4.1912689208984375,
          11.651773452758789,
          -8.466371536254883,
          8.211617469787598,
          -7.30885648727417,
          9.551704406738281,
          5.7793803215026855,
          2.4652538299560547,
          -1.3251402378082275,
          0.9352715015411377,
          1.0154147148132324,
          -15.15365219116211,
          -13.464879035949707,
          5.938113689422607,
          10.752991676330566,
          -8.758468627929688,
          -10.845166206359863,
          -6.186801910400391,
          4.404337406158447,
          6.965760231018066,
          5.711000442504883,
          -7.280470371246338,
          10.127128601074219,
          2.570362091064453,
          10.468156814575195,
          4.66538143157959,
          7.733547210693359,
          -7.9767560958862305,
          7.265571594238281,
          -18.05428123474121,
          8.522829055786133,
          3.036376953125,
          -10.880328178405762,
          9.090163230895996,
          6.838497161865234,
          4.8302106857299805,
          -18.160612106323242,
          0.5418755412101746,
          -8.326247215270996,
          -7.120156764984131,
          0.8238348364830017,
          12.671943664550781,
          4.318275451660156,
          -17.494844436645508,
          6.250965118408203,
          5.254797458648682,
          -10.77980899810791,
          -8.62680721282959,
          -13.455491065979004,
          -9.451154708862305,
          6.918601036071777,
          8.385425567626953,
          -7.25564432144165,
          -8.791152000427246,
          1.867847204208374,
          5.784532070159912,
          12.564023971557617,
          -11.207084655761719,
          -12.719644546508789
         ]
        }
       ],
       "layout": {
        "coloraxis": {
         "colorbar": {
          "title": {
           "text": "Anomaly"
          }
         },
         "colorscale": [
          [
           0,
           "#0d0887"
          ],
          [
           0.1111111111111111,
           "#46039f"
          ],
          [
           0.2222222222222222,
           "#7201a8"
          ],
          [
           0.3333333333333333,
           "#9c179e"
          ],
          [
           0.4444444444444444,
           "#bd3786"
          ],
          [
           0.5555555555555556,
           "#d8576b"
          ],
          [
           0.6666666666666666,
           "#ed7953"
          ],
          [
           0.7777777777777778,
           "#fb9f3a"
          ],
          [
           0.8888888888888888,
           "#fdca26"
          ],
          [
           1,
           "#f0f921"
          ]
         ]
        },
        "height": 800,
        "legend": {
         "tracegroupgap": 0
        },
        "scene": {
         "domain": {
          "x": [
           0,
           1
          ],
          "y": [
           0,
           1
          ]
         },
         "xaxis": {
          "title": {
           "text": "0"
          }
         },
         "yaxis": {
          "title": {
           "text": "1"
          }
         },
         "zaxis": {
          "title": {
           "text": "2"
          }
         }
        },
        "template": {
         "data": {
          "bar": [
           {
            "error_x": {
             "color": "#2a3f5f"
            },
            "error_y": {
             "color": "#2a3f5f"
            },
            "marker": {
             "line": {
              "color": "#E5ECF6",
              "width": 0.5
             },
             "pattern": {
              "fillmode": "overlay",
              "size": 10,
              "solidity": 0.2
             }
            },
            "type": "bar"
           }
          ],
          "barpolar": [
           {
            "marker": {
             "line": {
              "color": "#E5ECF6",
              "width": 0.5
             },
             "pattern": {
              "fillmode": "overlay",
              "size": 10,
              "solidity": 0.2
             }
            },
            "type": "barpolar"
           }
          ],
          "carpet": [
           {
            "aaxis": {
             "endlinecolor": "#2a3f5f",
             "gridcolor": "white",
             "linecolor": "white",
             "minorgridcolor": "white",
             "startlinecolor": "#2a3f5f"
            },
            "baxis": {
             "endlinecolor": "#2a3f5f",
             "gridcolor": "white",
             "linecolor": "white",
             "minorgridcolor": "white",
             "startlinecolor": "#2a3f5f"
            },
            "type": "carpet"
           }
          ],
          "choropleth": [
           {
            "colorbar": {
             "outlinewidth": 0,
             "ticks": ""
            },
            "type": "choropleth"
           }
          ],
          "contour": [
           {
            "colorbar": {
             "outlinewidth": 0,
             "ticks": ""
            },
            "colorscale": [
             [
              0,
              "#0d0887"
             ],
             [
              0.1111111111111111,
              "#46039f"
             ],
             [
              0.2222222222222222,
              "#7201a8"
             ],
             [
              0.3333333333333333,
              "#9c179e"
             ],
             [
              0.4444444444444444,
              "#bd3786"
             ],
             [
              0.5555555555555556,
              "#d8576b"
             ],
             [
              0.6666666666666666,
              "#ed7953"
             ],
             [
              0.7777777777777778,
              "#fb9f3a"
             ],
             [
              0.8888888888888888,
              "#fdca26"
             ],
             [
              1,
              "#f0f921"
             ]
            ],
            "type": "contour"
           }
          ],
          "contourcarpet": [
           {
            "colorbar": {
             "outlinewidth": 0,
             "ticks": ""
            },
            "type": "contourcarpet"
           }
          ],
          "heatmap": [
           {
            "colorbar": {
             "outlinewidth": 0,
             "ticks": ""
            },
            "colorscale": [
             [
              0,
              "#0d0887"
             ],
             [
              0.1111111111111111,
              "#46039f"
             ],
             [
              0.2222222222222222,
              "#7201a8"
             ],
             [
              0.3333333333333333,
              "#9c179e"
             ],
             [
              0.4444444444444444,
              "#bd3786"
             ],
             [
              0.5555555555555556,
              "#d8576b"
             ],
             [
              0.6666666666666666,
              "#ed7953"
             ],
             [
              0.7777777777777778,
              "#fb9f3a"
             ],
             [
              0.8888888888888888,
              "#fdca26"
             ],
             [
              1,
              "#f0f921"
             ]
            ],
            "type": "heatmap"
           }
          ],
          "heatmapgl": [
           {
            "colorbar": {
             "outlinewidth": 0,
             "ticks": ""
            },
            "colorscale": [
             [
              0,
              "#0d0887"
             ],
             [
              0.1111111111111111,
              "#46039f"
             ],
             [
              0.2222222222222222,
              "#7201a8"
             ],
             [
              0.3333333333333333,
              "#9c179e"
             ],
             [
              0.4444444444444444,
              "#bd3786"
             ],
             [
              0.5555555555555556,
              "#d8576b"
             ],
             [
              0.6666666666666666,
              "#ed7953"
             ],
             [
              0.7777777777777778,
              "#fb9f3a"
             ],
             [
              0.8888888888888888,
              "#fdca26"
             ],
             [
              1,
              "#f0f921"
             ]
            ],
            "type": "heatmapgl"
           }
          ],
          "histogram": [
           {
            "marker": {
             "pattern": {
              "fillmode": "overlay",
              "size": 10,
              "solidity": 0.2
             }
            },
            "type": "histogram"
           }
          ],
          "histogram2d": [
           {
            "colorbar": {
             "outlinewidth": 0,
             "ticks": ""
            },
            "colorscale": [
             [
              0,
              "#0d0887"
             ],
             [
              0.1111111111111111,
              "#46039f"
             ],
             [
              0.2222222222222222,
              "#7201a8"
             ],
             [
              0.3333333333333333,
              "#9c179e"
             ],
             [
              0.4444444444444444,
              "#bd3786"
             ],
             [
              0.5555555555555556,
              "#d8576b"
             ],
             [
              0.6666666666666666,
              "#ed7953"
             ],
             [
              0.7777777777777778,
              "#fb9f3a"
             ],
             [
              0.8888888888888888,
              "#fdca26"
             ],
             [
              1,
              "#f0f921"
             ]
            ],
            "type": "histogram2d"
           }
          ],
          "histogram2dcontour": [
           {
            "colorbar": {
             "outlinewidth": 0,
             "ticks": ""
            },
            "colorscale": [
             [
              0,
              "#0d0887"
             ],
             [
              0.1111111111111111,
              "#46039f"
             ],
             [
              0.2222222222222222,
              "#7201a8"
             ],
             [
              0.3333333333333333,
              "#9c179e"
             ],
             [
              0.4444444444444444,
              "#bd3786"
             ],
             [
              0.5555555555555556,
              "#d8576b"
             ],
             [
              0.6666666666666666,
              "#ed7953"
             ],
             [
              0.7777777777777778,
              "#fb9f3a"
             ],
             [
              0.8888888888888888,
              "#fdca26"
             ],
             [
              1,
              "#f0f921"
             ]
            ],
            "type": "histogram2dcontour"
           }
          ],
          "mesh3d": [
           {
            "colorbar": {
             "outlinewidth": 0,
             "ticks": ""
            },
            "type": "mesh3d"
           }
          ],
          "parcoords": [
           {
            "line": {
             "colorbar": {
              "outlinewidth": 0,
              "ticks": ""
             }
            },
            "type": "parcoords"
           }
          ],
          "pie": [
           {
            "automargin": true,
            "type": "pie"
           }
          ],
          "scatter": [
           {
            "fillpattern": {
             "fillmode": "overlay",
             "size": 10,
             "solidity": 0.2
            },
            "type": "scatter"
           }
          ],
          "scatter3d": [
           {
            "line": {
             "colorbar": {
              "outlinewidth": 0,
              "ticks": ""
             }
            },
            "marker": {
             "colorbar": {
              "outlinewidth": 0,
              "ticks": ""
             }
            },
            "type": "scatter3d"
           }
          ],
          "scattercarpet": [
           {
            "marker": {
             "colorbar": {
              "outlinewidth": 0,
              "ticks": ""
             }
            },
            "type": "scattercarpet"
           }
          ],
          "scattergeo": [
           {
            "marker": {
             "colorbar": {
              "outlinewidth": 0,
              "ticks": ""
             }
            },
            "type": "scattergeo"
           }
          ],
          "scattergl": [
           {
            "marker": {
             "colorbar": {
              "outlinewidth": 0,
              "ticks": ""
             }
            },
            "type": "scattergl"
           }
          ],
          "scattermapbox": [
           {
            "marker": {
             "colorbar": {
              "outlinewidth": 0,
              "ticks": ""
             }
            },
            "type": "scattermapbox"
           }
          ],
          "scatterpolar": [
           {
            "marker": {
             "colorbar": {
              "outlinewidth": 0,
              "ticks": ""
             }
            },
            "type": "scatterpolar"
           }
          ],
          "scatterpolargl": [
           {
            "marker": {
             "colorbar": {
              "outlinewidth": 0,
              "ticks": ""
             }
            },
            "type": "scatterpolargl"
           }
          ],
          "scatterternary": [
           {
            "marker": {
             "colorbar": {
              "outlinewidth": 0,
              "ticks": ""
             }
            },
            "type": "scatterternary"
           }
          ],
          "surface": [
           {
            "colorbar": {
             "outlinewidth": 0,
             "ticks": ""
            },
            "colorscale": [
             [
              0,
              "#0d0887"
             ],
             [
              0.1111111111111111,
              "#46039f"
             ],
             [
              0.2222222222222222,
              "#7201a8"
             ],
             [
              0.3333333333333333,
              "#9c179e"
             ],
             [
              0.4444444444444444,
              "#bd3786"
             ],
             [
              0.5555555555555556,
              "#d8576b"
             ],
             [
              0.6666666666666666,
              "#ed7953"
             ],
             [
              0.7777777777777778,
              "#fb9f3a"
             ],
             [
              0.8888888888888888,
              "#fdca26"
             ],
             [
              1,
              "#f0f921"
             ]
            ],
            "type": "surface"
           }
          ],
          "table": [
           {
            "cells": {
             "fill": {
              "color": "#EBF0F8"
             },
             "line": {
              "color": "white"
             }
            },
            "header": {
             "fill": {
              "color": "#C8D4E3"
             },
             "line": {
              "color": "white"
             }
            },
            "type": "table"
           }
          ]
         },
         "layout": {
          "annotationdefaults": {
           "arrowcolor": "#2a3f5f",
           "arrowhead": 0,
           "arrowwidth": 1
          },
          "autotypenumbers": "strict",
          "coloraxis": {
           "colorbar": {
            "outlinewidth": 0,
            "ticks": ""
           }
          },
          "colorscale": {
           "diverging": [
            [
             0,
             "#8e0152"
            ],
            [
             0.1,
             "#c51b7d"
            ],
            [
             0.2,
             "#de77ae"
            ],
            [
             0.3,
             "#f1b6da"
            ],
            [
             0.4,
             "#fde0ef"
            ],
            [
             0.5,
             "#f7f7f7"
            ],
            [
             0.6,
             "#e6f5d0"
            ],
            [
             0.7,
             "#b8e186"
            ],
            [
             0.8,
             "#7fbc41"
            ],
            [
             0.9,
             "#4d9221"
            ],
            [
             1,
             "#276419"
            ]
           ],
           "sequential": [
            [
             0,
             "#0d0887"
            ],
            [
             0.1111111111111111,
             "#46039f"
            ],
            [
             0.2222222222222222,
             "#7201a8"
            ],
            [
             0.3333333333333333,
             "#9c179e"
            ],
            [
             0.4444444444444444,
             "#bd3786"
            ],
            [
             0.5555555555555556,
             "#d8576b"
            ],
            [
             0.6666666666666666,
             "#ed7953"
            ],
            [
             0.7777777777777778,
             "#fb9f3a"
            ],
            [
             0.8888888888888888,
             "#fdca26"
            ],
            [
             1,
             "#f0f921"
            ]
           ],
           "sequentialminus": [
            [
             0,
             "#0d0887"
            ],
            [
             0.1111111111111111,
             "#46039f"
            ],
            [
             0.2222222222222222,
             "#7201a8"
            ],
            [
             0.3333333333333333,
             "#9c179e"
            ],
            [
             0.4444444444444444,
             "#bd3786"
            ],
            [
             0.5555555555555556,
             "#d8576b"
            ],
            [
             0.6666666666666666,
             "#ed7953"
            ],
            [
             0.7777777777777778,
             "#fb9f3a"
            ],
            [
             0.8888888888888888,
             "#fdca26"
            ],
            [
             1,
             "#f0f921"
            ]
           ]
          },
          "colorway": [
           "#636efa",
           "#EF553B",
           "#00cc96",
           "#ab63fa",
           "#FFA15A",
           "#19d3f3",
           "#FF6692",
           "#B6E880",
           "#FF97FF",
           "#FECB52"
          ],
          "font": {
           "color": "#2a3f5f"
          },
          "geo": {
           "bgcolor": "white",
           "lakecolor": "white",
           "landcolor": "#E5ECF6",
           "showlakes": true,
           "showland": true,
           "subunitcolor": "white"
          },
          "hoverlabel": {
           "align": "left"
          },
          "hovermode": "closest",
          "mapbox": {
           "style": "light"
          },
          "paper_bgcolor": "white",
          "plot_bgcolor": "#E5ECF6",
          "polar": {
           "angularaxis": {
            "gridcolor": "white",
            "linecolor": "white",
            "ticks": ""
           },
           "bgcolor": "#E5ECF6",
           "radialaxis": {
            "gridcolor": "white",
            "linecolor": "white",
            "ticks": ""
           }
          },
          "scene": {
           "xaxis": {
            "backgroundcolor": "#E5ECF6",
            "gridcolor": "white",
            "gridwidth": 2,
            "linecolor": "white",
            "showbackground": true,
            "ticks": "",
            "zerolinecolor": "white"
           },
           "yaxis": {
            "backgroundcolor": "#E5ECF6",
            "gridcolor": "white",
            "gridwidth": 2,
            "linecolor": "white",
            "showbackground": true,
            "ticks": "",
            "zerolinecolor": "white"
           },
           "zaxis": {
            "backgroundcolor": "#E5ECF6",
            "gridcolor": "white",
            "gridwidth": 2,
            "linecolor": "white",
            "showbackground": true,
            "ticks": "",
            "zerolinecolor": "white"
           }
          },
          "shapedefaults": {
           "line": {
            "color": "#2a3f5f"
           }
          },
          "ternary": {
           "aaxis": {
            "gridcolor": "white",
            "linecolor": "white",
            "ticks": ""
           },
           "baxis": {
            "gridcolor": "white",
            "linecolor": "white",
            "ticks": ""
           },
           "bgcolor": "#E5ECF6",
           "caxis": {
            "gridcolor": "white",
            "linecolor": "white",
            "ticks": ""
           }
          },
          "title": {
           "x": 0.05
          },
          "xaxis": {
           "automargin": true,
           "gridcolor": "white",
           "linecolor": "white",
           "ticks": "",
           "title": {
            "standoff": 15
           },
           "zerolinecolor": "white",
           "zerolinewidth": 2
          },
          "yaxis": {
           "automargin": true,
           "gridcolor": "white",
           "linecolor": "white",
           "ticks": "",
           "title": {
            "standoff": 15
           },
           "zerolinecolor": "white",
           "zerolinewidth": 2
          }
         }
        },
        "title": {
         "text": "3d TSNE Plot for Outliers"
        },
        "width": 900
       }
      },
      "text/html": [
       "<div>                            <div id=\"f013f1c1-4864-44d5-9c79-f78ec0608be6\" class=\"plotly-graph-div\" style=\"height:800px; width:900px;\"></div>            <script type=\"text/javascript\">                require([\"plotly\"], function(Plotly) {                    window.PLOTLYENV=window.PLOTLYENV || {};                                    if (document.getElementById(\"f013f1c1-4864-44d5-9c79-f78ec0608be6\")) {                    Plotly.newPlot(                        \"f013f1c1-4864-44d5-9c79-f78ec0608be6\",                        [{\"customdata\":[[0.263995357],[0.546092303],[0.33671410399999996],[0.092107835],[0.325261175],[0.212464853],[0.258565714],[0.869236755],[0.197077957],[0.292984504],[0.82178316],[0.796622959],[0.045577010999999994],[0.613660351],[0.9507445659999999],[0.33634633700000005],[0.034440667],[0.741544275],[0.18443265],[0.664514943],[0.16282485800000002],[0.729838445],[0.62837389],[0.057883660999999996],[0.445534827],[0.80183695],[0.27709612],[0.228634015],[0.834860657],[0.6697665110000001],[0.532527349],[0.17045907100000002],[0.5102884679999999],[0.977561989],[0.249775993],[0.9755006820000001],[0.613701727],[0.16742036300000002],[0.537472516],[0.379899131],[0.633897303],[0.633960424],[0.5499746529999999],[0.178172988],[0.85563814],[0.321796672],[0.8174905370000001],[0.254879417],[0.344140513],[0.8061457259999999],[0.27708167100000003],[0.544328519],[0.07708393],[0.273081458],[0.390877336],[0.349621385],[0.214549744],[0.206075222],[0.86461997],[0.9817088540000001],[0.33482964600000004],[0.648387061],[0.093643561],[0.837802698],[0.7603439670000001],[0.29140417399999996],[0.3413454],[0.7611124840000001],[0.541899775],[0.684176639],[0.983535597],[0.52081245],[0.328227724],[0.09715793800000001],[0.876088593],[0.870214512],[0.656086992],[0.306791514],[0.48126734],[0.259559174],[0.326123655],[0.930568042],[0.6583894],[0.689992335],[0.315781109],[0.5669050929999999],[0.637526619],[0.687540723],[0.324300602],[0.592704906],[0.7402531259999999],[0.5940328770000001],[0.596452977],[0.27768081699999997],[0.258329663],[0.142460864],[0.435533461],[0.7024990440000001],[0.58897535],[0.653304374],[0.336968524],[0.631244736],[0.73530076],[0.050390366],[0.064264924],[0.665359476],[0.917835245],[0.44651012],[0.661938199],[0.43935985299999997],[0.6875724040000001],[0.363462248],[0.6542621820000001],[0.578553536],[0.065927945],[0.550148559],[0.13918281400000002],[0.080004635],[0.278228358],[0.560124266],[0.53639864],[0.42653190399999996],[0.789109796],[0.742900474],[0.901692589],[0.650337401],[0.114057311],[0.260812592],[0.43991232],[0.964409284],[0.184401415],[0.345145446],[0.17589458100000002],[0.312514453],[0.674131879],[0.32825045],[0.598231057],[0.09259881699999999],[0.497916521],[0.419776521],[0.31217670000000003],[0.937857107],[0.049030963],[0.47610452600000003],[0.447397526],[0.295806058],[0.737363977],[0.625896253],[0.408813429],[0.437511156],[0.691351375],[0.935555275],[0.437846654],[0.072217715],[0.67636067],[0.468883999],[0.543820644],[0.6555226470000001],[0.6935289240000001],[0.10887831199999999],[0.285463743],[0.0],[0.706495497],[0.273530633],[0.292320271],[0.673984307],[0.12612182800000002],[0.9467074590000001],[0.9363388979999999],[0.8537553640000001],[0.7060713609999999],[0.693682186],[0.508527882],[0.34717038899999997],[0.704154263],[0.658730088],[0.155841557],[0.311085435],[0.281135347],[0.094587802],[0.6832609540000001],[0.9077292509999999],[0.29151267399999997],[0.752734459],[0.93482964],[0.071413953],[0.5948963270000001],[0.404672015],[0.13837621],[0.7473384679999999],[0.530882486],[0.282649594],[0.699335734],[0.056111250999999994],[0.855234998],[0.07789512700000001],[0.891649583],[0.38674227899999997],[0.27113158],[0.958888961],[0.085120869],[0.5269022489999999],[0.066577785],[0.841506738],[0.255342095],[0.060545771],[0.073385869],[0.187493723],[0.858365688],[0.090640352],[0.7097252270000001],[0.631300647],[0.24750447399999997],[0.822843584],[0.373476759],[0.625538582],[0.292951715],[0.299730324],[0.25121407],[0.344480551],[0.293064767],[0.7628032240000001],[0.7384708040000001],[0.674883265],[0.719151612],[0.13098021599999998],[0.511328036],[0.04492903],[0.560914449],[0.7440406409999999],[0.266961634],[0.644231853],[0.038113352],[0.05715529900000001],[0.34139246100000004],[0.7204636320000001],[0.402878236],[0.635148967],[0.320729467],[0.09120969400000001],[0.23414609],[0.8902211309999999],[0.602170884],[0.633652055],[0.806240837],[0.739731184],[0.465231269],[0.7321109],[0.373874305],[0.501587947],[0.11538315800000001],[0.7319466040000001],[0.41829872799999995],[0.062259590999999996],[0.391496379],[0.35984929],[0.24523562699999998],[0.610028339],[0.43540360200000006],[0.434309675],[0.523763344],[0.17118786600000002],[0.18773430300000002],[0.945014638],[0.027851097000000002],[0.68445706],[0.178014532],[0.643427879],[0.59588355],[0.372361682],[0.586103584],[0.271658852],[0.59951107],[0.468363088],[0.314515565],[0.21893726],[0.254716562],[0.25612815],[0.602259755],[0.134381075],[0.513887424],[0.624241636],[0.160251854],[0.580708108],[0.270540486],[0.832919932],[0.93032134],[0.719157884],[0.886720033],[0.098792281],[0.787174286],[0.365592376],[0.719576193],[0.8058956],[0.7555783340000001],[0.526005909],[0.68880424],[0.22111531199999998],[0.739369477],[0.408440236],[0.348926542],[0.433713763],[0.5964966070000001],[0.6942953000000001],[0.7090309659999999],[0.867652984],[0.89332545],[0.746020922],[0.538284443],[0.8922193140000001],[0.935175765],[0.260527707],[0.956780449],[0.204932484],[0.687733351],[0.329063619],[0.632149831],[0.463744506],[0.698859621],[0.385446564],[0.47997537700000004],[0.732279108],[0.3813543],[0.459326013],[0.257401434],[0.665014804],[0.103399542],[0.425284413],[0.943529051],[0.594750236],[0.543776817],[0.18203988],[0.23584208399999998],[0.585984497],[0.762013168],[0.6849829070000001],[0.676936933],[0.290184964],[0.48106822200000005],[0.492766033],[0.22185623399999999],[0.053875998],[0.082751144],[0.385366225],[0.702513961],[0.91553156],[0.082087436],[0.251280378],[0.41672181700000005],[0.277032672],[0.579539754],[0.569363476],[0.133399703],[0.265045463],[0.936571901],[0.252618554],[0.054033081],[0.802481439],[0.528197693],[0.9515026],[0.572121173],[0.752938227],[0.143857535],[0.513484576],[0.313322389],[0.6877973959999999],[0.37705984],[0.348226142],[0.67763282],[0.24138752100000002],[0.8506501790000001],[0.22034810300000002],[0.476445464],[0.690324025],[0.364695946],[0.6492491970000001],[0.9437019209999999],[0.529645971],[0.299097002],[0.96696247],[0.272005242],[0.314161447],[0.752020991],[0.221882453],[0.7203326729999999],[0.379204782],[0.60168653],[0.582932673],[0.950809853],[0.58830141],[0.880887227],[0.467857701],[0.8799021709999999],[0.619844009],[0.359002573],[0.291511278],[0.694157143],[0.727960353],[0.617703921],[0.39581257],[0.58317282],[0.710332374],[0.253753693],[0.049412227999999996],[0.728378695],[0.432432881],[0.58612345],[0.052342373],[0.053483902],[0.518729378],[0.933040208],[0.7035542840000001],[0.268989899],[0.733006927],[0.44435246700000003],[0.5833946210000001],[0.871172692],[0.42876707799999997],[0.30046084100000003],[0.9533294590000001],[0.606443965],[0.90986815],[0.714896449],[0.49734950899999997],[0.8530974859999999],[0.721804145],[0.303467328],[0.664485096],[0.27978062],[0.569481665],[0.628628926],[0.088368123],[0.733567326],[0.537436778],[0.638593691],[0.954726948],[0.632202332],[0.642134651],[0.744653087],[0.115714007],[0.48625007299999995],[0.440356144],[0.08272289],[0.511591027],[0.394627555],[0.224394],[0.626927584],[0.290254057],[0.779008053],[0.86610579],[0.873326081],[0.49548916],[0.594297695],[0.9182015840000001],[0.5770427539999999],[0.019467671000000002],[0.6702982820000001],[0.546595316],[0.591665146],[0.42155819],[0.6856085590000001],[0.340303024],[0.675626741],[0.319067345],[0.38849966399999997],[0.706949589],[0.559409515],[0.687663508],[0.7088045540000001],[0.6818880940000001],[0.42253510899999996],[0.320004605],[0.6582813679999999],[0.634154867],[0.7773320090000001],[0.812677205],[0.074280797],[0.39600217],[0.054933913],[0.825058925],[0.382642009],[0.8687298179999999],[0.588043346],[0.891551577],[0.10920046],[0.647682781],[0.724342512],[0.07016304400000001],[0.280882054],[0.039113261],[0.579641592],[0.639000922],[0.281745925],[0.647857744],[0.6479057970000001],[0.875226264],[0.567603305],[0.262940591],[0.268026042],[0.40519133],[0.479965451],[0.33552403],[0.777165379],[0.42548796299999997],[0.237986115],[0.142522971],[0.724176488],[0.234698933],[0.07818228099999999],[0.855990155],[0.270251765],[0.435517841],[0.762697513],[0.46448725799999996],[0.396112685],[0.37638092100000003],[0.29459467699999997],[0.6944921209999999],[0.622767949],[0.8475597220000001],[0.301463054],[0.912937812],[0.500017182],[0.902587935],[0.304517943],[0.299165673],[0.092014087],[0.488548917],[0.664664437],[0.26534954899999996],[0.723657021],[0.149262385],[0.04577339],[0.69661064],[0.42181486],[0.733845785],[0.418795386],[0.677443529],[0.26128360300000003],[0.268527767],[0.5443222360000001],[0.431632036],[0.981018141],[0.21498072399999998],[0.39472999299999995],[0.122224944],[0.297496875],[0.37490443100000004],[0.68698771],[0.388549207],[0.039296071],[0.73553424],[0.37929489299999997],[0.7321233859999999],[0.33922143899999996],[0.659450594],[0.054838642],[0.640112102],[0.30714170399999996],[0.39661190700000004],[0.420439161],[0.24171497399999997],[0.065893153],[0.9105219370000001],[0.697163103],[0.072559853],[0.81825094],[0.311888815],[0.961644609],[0.816325524],[0.14647302],[0.548753945],[0.946158087],[0.293992717],[0.331479643],[0.9062200309999999],[0.525540416],[0.83301411],[0.514849806],[0.574609024],[0.46871185299999996],[0.71002775],[0.645973276],[0.229794416],[0.551783393],[0.055822990999999995],[0.331750941],[0.715520198],[0.583924357],[0.30695769100000003],[0.7914782370000001],[0.16423663900000002],[0.065711219],[0.948993132],[0.080423835],[0.052495426],[0.566346135],[0.3630266],[0.605442195],[0.6308505839999999],[0.065791238],[0.28681707100000003],[0.685462839],[0.260853706],[0.659122429],[0.44317392200000005],[0.602063986],[0.060366910999999995],[0.781903153],[0.5145798070000001],[0.48388621299999995],[0.600213807],[0.49736405200000006],[0.411145245],[0.116999171],[0.34189014100000004],[0.746950848],[0.39629274600000003],[0.6221438429999999],[0.335271141],[0.140257137],[0.081620681],[0.069837569],[0.46894000799999996],[0.9908574170000001],[0.896616832],[0.255310561],[0.22464526699999998],[0.01991825],[0.296480415],[0.155458996],[0.577916714],[0.9563030309999999],[0.813464394],[0.529675785],[0.287671353],[0.48039136],[0.28104482199999997],[0.633196521],[0.09332537699999999],[0.28447398100000004],[0.052223775],[0.051129385],[0.967405608],[0.040045727999999996],[0.9085829209999999],[0.6621174160000001],[0.42470320899999997],[0.72207806],[0.666193327],[0.509681253],[0.7513536209999999],[0.279073124],[0.074927],[0.916359535],[0.31040327],[0.716604052],[0.485587085],[0.30607518100000003],[0.477558204],[0.7119239409999999],[0.066348638],[0.27453935100000004],[0.31082252],[0.47607312700000004],[0.186795565],[0.26654207],[0.070231142],[0.26951927],[0.800004713],[0.27363366699999997],[0.14647919199999998],[0.378318951],[0.373849065],[0.242170835],[0.249796488],[0.066591188],[0.372956798],[0.501812291],[0.313097752],[0.8802021959999999],[0.51981893],[0.364138746],[0.49268289600000004],[0.285732652],[0.890114985],[0.316419561],[0.26866354],[0.771975959],[0.968888992],[0.080334377],[0.7368282209999999],[0.30055807100000004],[0.9179503929999999],[0.465815039],[0.054036682],[0.963150123],[0.08965350300000001],[0.7076932340000001],[0.636416037],[0.539521117],[0.114757161],[0.357312419],[0.67639834],[0.43482839],[0.032326387000000005],[0.711365605],[0.187486519],[0.052789653],[0.5058636129999999],[0.927431873],[0.6809842559999999],[0.882822186],[0.495705441],[0.596240398],[0.320610701],[0.3413685],[0.159681797],[0.318133669],[0.8393010479999999],[0.06435925099999999],[0.470216633],[0.7762522909999999],[0.635843383],[0.62510543],[0.52959065],[0.986900166],[0.078585688],[0.233284267],[0.363330957],[0.7167169809999999],[0.37588979200000006],[0.223316889],[0.299343986],[0.538595767],[0.730297124],[0.66033077],[0.435296009],[0.326494313],[0.854402708],[0.5734938470000001],[0.757786135],[0.704743233],[0.281575597],[0.671968208],[0.313726015],[0.364338275],[0.368216396],[0.38629520700000003],[0.655971865],[0.5660252729999999],[0.424999093],[0.090110371],[0.772350538],[0.331047258],[0.273716188],[0.23877568],[0.37307977200000003],[0.331185868],[0.256134531],[0.678373225],[0.43463833799999996],[0.654668307],[0.986681065],[0.371520495],[0.408359618],[0.40932365],[0.283412082],[0.395246531],[0.010984428000000001],[0.306013869],[0.266194806],[0.299318521],[0.318293946],[0.74282591],[0.09766432900000001],[0.079666942],[0.613258767],[0.99443072],[0.568835082],[0.7080345159999999],[0.37059271899999996],[0.669867361],[0.651295625],[0.462531569],[0.7196256190000001],[0.45377248],[0.394863946],[0.323974831],[0.146454724],[0.7790670409999999],[0.401828915],[0.601479585],[0.856423023],[0.565242962],[0.301225108],[0.282108144],[0.594378011],[0.705312368],[0.5408696279999999],[0.319249574],[0.36176613799999996],[0.625000704],[0.316287401],[0.047239021],[0.801182233],[0.508474436],[0.8178934109999999],[0.399235601],[0.9740519990000001],[0.72241535],[0.039564764],[0.908684108],[0.47301013399999997],[0.7180496279999999],[0.7634790690000001],[0.6475965370000001],[0.8949973859999999],[0.22282590100000002],[0.359012234],[0.944910252],[0.297877816],[0.172517997],[0.556586265],[0.876481735],[0.48667784299999994],[0.459496733],[0.47412637700000004],[0.70101144],[0.337597387],[0.537578886],[0.966992448],[0.056849545],[0.233249065],[0.380054711],[0.602929443],[0.303847999],[0.170194553],[0.972168554],[0.332168927],[0.6887286890000001],[0.110773401],[0.273352065],[0.572939678],[0.491457065],[0.281389999],[0.821697261],[0.6749776829999999],[0.585134549],[0.7105961159999999],[0.040488789],[0.568054311],[0.321752928],[0.611850232],[0.926096887],[0.618347428],[0.667629785],[0.39773346600000004],[0.290875487],[0.594375103],[0.508255233],[0.338571357],[0.43230234700000003],[0.302221978],[0.87619819],[0.080204492],[0.092333532],[0.09365644699999999],[0.6084523510000001],[0.732654598],[0.944158855],[0.26742308],[0.731124201],[0.661308553],[0.38776626200000003],[0.962585273],[0.322067067],[0.6340810929999999],[0.475345002],[0.35355897299999994],[0.8859363159999999],[0.876798106],[0.221581064],[0.394362449],[0.8050356759999999],[0.452898486],[0.592520516],[0.761026394],[0.245049023],[0.37213936299999995],[0.681054822],[0.7471431479999999],[0.9207395290000001],[0.097207945],[0.699302998],[0.721647006],[0.5353561139999999],[0.738293805],[0.7064675509999999],[0.67395061],[0.7112122909999999],[0.302558708],[0.080097855],[0.707010837],[0.512248622],[0.659627472],[0.657559694],[0.100645606],[0.92665363],[0.892879338],[0.839157508],[0.890959718],[0.556754471],[0.960361937],[0.631037864],[0.029838065],[0.278843351],[0.926157705],[0.551504258],[0.485942349],[0.43723469600000003],[0.25231801800000003],[0.515466972],[0.43725229600000004],[0.493724207],[0.83324725],[0.317521477],[0.28623456199999997],[0.726833965],[0.495667033],[0.028645255],[0.31967191699999997],[0.674344598],[0.7660371890000001],[0.65456992],[0.7565143809999999],[0.528253719],[0.38971949100000003],[0.355087459],[0.87015202],[0.7390833059999999],[0.305761846],[0.411587673],[0.063633094],[0.735409395],[0.605916669],[0.539395562],[0.566183532],[0.674795186],[0.070993366],[0.12526410000000002],[0.279601492],[0.952174402],[0.233806762],[0.43724742899999997],[0.925423095],[0.433498634],[0.52517902],[0.088435529],[0.447677638],[0.647000631],[0.9036033370000001],[0.265790738],[0.66419695],[0.498120658],[0.49018894399999996],[0.747084187],[0.906783648],[0.678770917],[0.348599859],[0.294839683],[0.705691827],[0.211917931],[0.063201124],[0.276699543],[0.672459395],[0.8082059490000001],[0.296538373],[0.16012686199999998],[0.439385032],[0.555951416],[0.386240112],[0.158689619],[0.214499855],[0.299579429],[0.569161656],[0.488614799],[0.8782950209999999],[0.649380949],[0.465713341],[0.16813774],[0.87529545],[0.8411323409999999],[0.33292081],[0.5130478589999999],[0.30505507800000004],[0.8126269909999999],[0.25096706],[0.5024355779999999],[0.45799074100000003]],\"hovertemplate\":\"0=%{x}<br>1=%{y}<br>2=%{z}<br>Feature=%{customdata[0]}<br>Anomaly=%{marker.color}<extra></extra>\",\"legendgroup\":\"\",\"marker\":{\"color\":[0,0,1,1,0,0,0,0,1,1,0,1,0,1,1,1,0,1,1,0,1,0,0,1,1,1,0,0,1,1,0,0,1,1,0,0,1,0,0,0,0,0,0,1,0,1,1,0,1,0,0,1,0,1,1,1,1,0,0,1,0,1,0,1,0,1,0,0,0,0,0,0,0,0,0,0,0,0,0,0,0,0,0,0,0,0,0,0,0,0,0,0,0,0,0,0,0,0,0,0,0,0,0,0,0,0,0,0,0,0,0,0,0,0,0,0,0,0,0,0,0,0,0,0,0,0,0,0,0,0,0,0,0,0,0,0,0,0,0,0,0,0,0,0,0,0,0,0,0,0,0,0,0,0,0,0,0,0,0,0,0,0,0,0,0,0,0,0,0,0,0,0,0,0,0,0,0,0,0,0,0,0,0,0,0,0,0,0,0,0,0,0,0,0,0,0,0,0,0,0,0,0,0,0,0,0,0,0,0,0,0,0,0,0,0,0,0,0,0,0,0,0,0,0,0,0,0,0,0,0,0,0,0,0,0,0,0,0,0,0,0,0,0,0,0,0,0,0,0,0,0,0,0,0,0,0,0,0,0,0,0,0,0,0,0,0,0,0,0,0,0,0,0,0,0,0,0,0,0,0,0,0,0,0,0,0,0,0,0,0,0,0,0,0,0,0,0,0,0,0,0,0,0,0,0,0,0,0,0,0,0,0,0,0,0,0,0,0,0,0,0,0,0,0,0,0,0,0,0,0,0,0,0,0,0,0,0,0,0,0,0,0,0,0,0,0,0,0,0,0,0,0,0,0,0,0,0,0,0,0,0,0,0,0,0,0,0,0,0,0,0,0,0,0,0,0,0,0,0,0,0,0,0,0,0,0,0,0,0,0,0,0,0,0,0,0,0,0,0,0,0,0,0,0,0,0,0,0,0,0,0,0,0,0,0,0,0,0,0,0,0,0,0,0,0,0,0,0,0,0,0,0,0,0,0,0,0,0,0,0,0,0,0,0,0,0,0,0,0,0,0,0,0,0,0,0,0,0,0,0,0,0,0,0,0,0,0,0,0,0,0,0,0,0,0,0,0,0,0,0,0,0,0,0,0,0,0,0,0,0,0,0,0,0,0,0,0,0,0,0,0,0,0,0,0,0,0,0,0,0,0,0,0,0,0,0,0,0,0,0,0,0,0,0,0,0,0,0,0,0,0,0,0,0,0,0,0,0,0,0,0,0,0,0,0,0,0,0,0,0,0,0,0,0,0,0,0,0,0,0,0,0,0,0,0,0,0,0,0,0,0,0,0,0,0,0,0,0,0,0,0,0,0,0,0,0,0,0,0,0,0,0,0,0,0,0,0,0,0,0,0,0,0,0,0,0,0,0,0,0,0,0,0,0,0,0,0,0,0,0,0,0,0,0,0,0,0,0,0,0,0,0,0,0,0,0,0,0,0,0,0,0,0,0,0,0,0,0,0,0,0,0,0,0,0,0,0,0,0,0,0,0,0,0,0,0,0,0,0,0,0,0,0,0,0,0,0,0,0,0,0,0,0,0,0,0,0,0,0,0,0,0,0,0,0,0,0,0,0,0,1,1,0,1,0,0,0,1,1,1,1,0,1,1,1,0,1,1,1,0,1,0,1,1,1,1,0,0,0,0,0,0,0,0,0,0,0,0,0,0,0,0,0,0,0,0,0,0,0,0,0,0,0,0,0,0,0,0,0,0,0,0,0,0,0,0,0,0,0,0,0,0,0,0,0,0,0,0,0,0,0,0,0,0,0,0,0,0,0,0,0,0,0,0,0,0,0,0,0,0,0,0,0,0,0,0,0,0,0,0,0,0,0,0,0,0,0,0,0,0,0,0,0,0,0,0,0,0,0,0,0,0,0,0,0,0,0,0,0,0,0,0,0,0,0,0,0,0,0,0,0,0,0,0,0,0,0,0,0,0,0,0,0,0,0,0,0,0,0,0,0,0,0,0,0,0,0,0,0,0,0,0,0,0,0,0,0,0,0,0,0,0,0,0,0,0,0,0,0,0,0,0,0,0,0,0,0,0,0,0,0,0,0,0,0,0,0,0,0,0,0,0,0,0,0,0,0,0,0,0,0,0,0,0,0,0,0,0,0,0,0,0,0,0,0,0,0,0,0,0,0,0,0,0,0,0,0,0,0,0,0,0,0,0,0,0,0,0,0,0,0,0,0,0,0,0,0,0,0,0,0,0,0,0,0,0,0,0,0,0,0,0,0,0,0,0,0,0,0,0],\"coloraxis\":\"coloraxis\",\"opacity\":0.7,\"symbol\":\"circle\"},\"mode\":\"markers\",\"name\":\"\",\"scene\":\"scene\",\"showlegend\":false,\"x\":[-8.832602500915527,0.13608266413211823,-0.047770384699106216,13.32201099395752,-1.678602933883667,2.979006767272949,-0.17022058367729187,11.201338768005371,-6.1864399909973145,-11.22397518157959,14.013847351074219,4.664701461791992,8.52158260345459,-0.9240908622741699,6.080802917480469,4.163226127624512,8.544254302978516,4.880951404571533,-0.22214116156101227,6.676189422607422,2.306596517562866,-4.31729793548584,0.136858731508255,-5.619019508361816,4.109418869018555,-1.6719690561294556,5.681363582611084,-5.3217620849609375,6.43330192565918,6.530373573303223,-5.978859901428223,2.0140507221221924,-3.9707083702087402,9.195752143859863,-7.219256401062012,-4.159219264984131,7.823039531707764,-5.514718055725098,-5.453371524810791,3.5579545497894287,-2.1051111221313477,7.140749931335449,-0.6570422053337097,5.386413097381592,6.871320724487305,4.2522382736206055,7.567704677581787,-5.659821033477783,4.960285663604736,2.1774537563323975,11.87194538116455,-0.23589834570884705,-7.461668491363525,4.130282402038574,5.241367816925049,6.995245933532715,4.135828018188477,-7.94106912612915,8.94216251373291,3.829345941543579,-6.2190961837768555,-2.216904401779175,7.843964576721191,7.2993974685668945,0.40196216106414795,7.58621072769165,-5.475006103515625,4.49222993850708,4.462154865264893,3.3659720420837402,9.124403953552246,7.115274906158447,-6.3951826095581055,9.150968551635742,-12.769173622131348,-7.084807395935059,2.5638790130615234,6.096917629241943,-10.630938529968262,-8.433600425720215,-8.924675941467285,-5.800374984741211,1.5635573863983154,-1.7700673341751099,0.7464592456817627,0.8540024161338806,2.2410202026367188,1.8330755233764648,-3.587399482727051,-4.529649257659912,-7.545423984527588,12.578043937683105,-1.1396794319152832,-0.09630656987428665,5.217841625213623,7.8935136795043945,-5.3602294921875,0.9631308913230896,-4.158219337463379,2.609243869781494,-6.678802967071533,0.7712006568908691,1.1035687923431396,-7.377780437469482,8.951715469360352,-7.115521430969238,0.4872541129589081,3.7128384113311768,-13.193933486938477,5.944855213165283,-4.8031487464904785,-4.256998062133789,12.805289268493652,-8.101223945617676,-0.5085309743881226,-5.311753749847412,3.97469425201416,-0.11915580183267593,8.552173614501953,-3.2888858318328857,-5.576806545257568,-4.564295291900635,4.277865886688232,-0.008227916434407234,-2.150435209274292,0.7387867569923401,5.959835529327393,7.3858466148376465,0.43014761805534363,1.426801085472107,-5.331450939178467,-5.857294082641602,10.912017822265625,1.5094631910324097,0.5751596689224243,-9.96133804321289,0.7239972352981567,8.409500122070312,-0.570732057094574,-3.262468099594116,9.821330070495605,-3.473893880844116,-7.602762699127197,0.29187262058258057,-2.6467790603637695,-8.435015678405762,3.7826764583587646,0.6358554363250732,-0.685664176940918,1.2599453926086426,-4.17609167098999,-7.814054489135742,2.0281426906585693,-7.522730350494385,-5.428725242614746,-4.7080230712890625,1.711572527885437,-0.8724958896636963,-10.548009872436523,7.519447326660156,3.3132283687591553,-7.486022472381592,-8.075743675231934,-9.705322265625,6.744988441467285,0.10586012899875641,9.525189399719238,8.029617309570312,3.8137154579162598,-1.6705920696258545,-0.011507689021527767,1.2050241231918335,5.20634651184082,-0.028108704835176468,-2.66670560836792,1.5681852102279663,5.229620933532715,0.7257788181304932,0.10066424310207367,7.422319412231445,-1.1386545896530151,9.665305137634277,3.5899298191070557,10.355056762695312,8.607151985168457,2.935675621032715,7.082676410675049,-5.2882585525512695,-9.041010856628418,-7.292787075042725,0.4272215962409973,-0.4717976152896881,12.32721996307373,-0.5689902901649475,4.301606178283691,1.6555352210998535,-0.04461956396698952,4.895361423492432,-6.98492431640625,-2.017678737640381,-5.922776222229004,1.2936824560165405,5.163376331329346,1.4675953388214111,0.217668354511261,2.4019129276275635,-7.413732051849365,-5.517282962799072,10.229351043701172,-1.291871190071106,-2.7286791801452637,9.14604663848877,5.090881824493408,-4.643831253051758,-4.546020984649658,-2.831099271774292,-0.9939633011817932,6.091737270355225,8.139760971069336,-3.462535858154297,-0.3727104961872101,1.1563217639923096,1.8103340864181519,-13.1316499710083,3.1200180053710938,-6.504841327667236,-1.370124101638794,-10.554794311523438,-0.14272132515907288,9.50087833404541,1.0594741106033325,-0.9599452614784241,7.808141708374023,8.124466896057129,-1.703218698501587,1.1145671606063843,-3.1106197834014893,-7.3362040519714355,7.218295097351074,0.5881129503250122,-5.0554914474487305,3.044262170791626,2.71118426322937,0.9720048308372498,8.452811241149902,2.6609585285186768,-9.294759750366211,-9.034625053405762,-1.9075080156326294,0.49517181515693665,-8.569031715393066,-2.2351224422454834,6.54911994934082,-7.098290920257568,-7.551487922668457,-3.555861473083496,-9.884438514709473,0.4243256151676178,9.82536506652832,-2.7771925926208496,1.5590064525604248,-6.5291748046875,-1.0113714933395386,-0.664795994758606,-9.152139663696289,1.0128364562988281,9.39154052734375,3.7549173831939697,-12.889369010925293,5.049911975860596,3.037729263305664,3.6188266277313232,-10.091301918029785,2.0170421600341797,7.057827949523926,-4.881007671356201,6.579257488250732,-0.5337477326393127,2.6920433044433594,-8.93982982635498,-1.1598793268203735,2.236095905303955,-9.44273853302002,-7.868724346160889,0.2474374771118164,2.860677480697632,-2.023118734359741,1.035549283027649,1.6030632257461548,-8.016356468200684,-3.5315043926239014,2.922917366027832,0.6806225776672363,1.8326067924499512,-1.5364893674850464,10.442100524902344,4.1598615646362305,-8.455962181091309,0.2394169270992279,-8.230457305908203,0.09252200275659561,0.3288392722606659,7.085564613342285,8.705120086669922,4.366220474243164,-9.79718017578125,2.1536216735839844,-8.717731475830078,-1.390482783317566,8.980671882629395,8.234984397888184,-0.5220279097557068,9.658605575561523,1.0130600929260254,-1.2412325143814087,-8.992345809936523,-1.751476764678955,-0.018712319433689117,-10.231971740722656,4.41456413269043,0.7542375922203064,-9.535982131958008,7.73237419128418,-0.6548524498939514,-5.478031158447266,-6.139067649841309,8.560127258300781,10.216229438781738,4.807802200317383,4.5543904304504395,3.954303026199341,5.311025619506836,-5.16432523727417,-6.2390594482421875,2.139512777328491,3.0291407108306885,0.6276912093162537,-10.513545036315918,7.045191764831543,3.9805796146392822,-10.78044319152832,-10.173720359802246,8.514266967773438,-7.136691570281982,10.665275573730469,3.4319207668304443,0.9515305757522583,-1.6814160346984863,7.8302836418151855,5.352636337280273,-2.8731863498687744,-10.530766487121582,-3.425316333770752,3.7450530529022217,-2.0376060009002686,-10.761762619018555,-6.06852912902832,-0.3213585615158081,8.625802040100098,-3.307734489440918,0.9407368302345276,1.255059838294983,-6.203721046447754,-1.1265099048614502,7.5511860847473145,-7.997931480407715,5.644992828369141,2.0731303691864014,0.45971566438674927,4.098364353179932,1.4125373363494873,-4.873453140258789,1.3967281579971313,5.601413249969482,7.660308361053467,0.32377028465270996,-11.253765106201172,4.955894470214844,4.421889305114746,-4.346078395843506,6.888925552368164,-5.153585433959961,-12.406303405761719,-11.601606369018555,1.3048574924468994,-4.869555473327637,0.8012283444404602,1.0002022981643677,-1.6715377569198608,-4.750654697418213,-1.4504778385162354,-5.803977966308594,-9.512465476989746,-7.84372091293335,-2.263206720352173,3.784292697906494,-7.2335429191589355,8.072627067565918,-6.19500732421875,-9.232291221618652,-3.533493757247925,-2.1403725147247314,-0.19413727521896362,2.8694586753845215,10.425435066223145,3.4205551147460938,2.6237714290618896,-6.556694507598877,7.929393768310547,4.5335822105407715,1.760162591934204,-5.061338424682617,9.683204650878906,-9.050055503845215,2.6087327003479004,-0.7314939498901367,2.681919813156128,-0.6826695799827576,10.203280448913574,3.6374051570892334,-4.548801898956299,0.9596273899078369,1.2956825494766235,-0.45610854029655457,4.019246578216553,1.245481252670288,0.6297228336334229,4.389688491821289,-7.21593713760376,2.78525447845459,-5.451964855194092,2.2297370433807373,-2.248622417449951,5.31518030166626,8.605813026428223,-0.277655690908432,-1.0727252960205078,2.015087366104126,-13.068603515625,0.5068057775497437,-7.649158954620361,-9.838436126708984,-0.02150983363389969,1.2575191259384155,-4.355891227722168,6.209120273590088,8.101493835449219,-5.257556915283203,2.0944066047668457,9.73934268951416,-1.835849642753601,0.7441518902778625,-0.12456546723842621,-9.689151763916016,12.571938514709473,5.790236473083496,-0.9272974133491516,0.9645203351974487,-10.697576522827148,-11.029942512512207,1.8690109252929688,1.1911259889602661,0.34360969066619873,-11.217239379882812,-4.124574661254883,-7.592060565948486,-13.183612823486328,9.637724876403809,0.2801119387149811,3.047865390777588,-5.979156970977783,-2.065808057785034,1.5844151973724365,-9.44760513305664,0.8566909432411194,3.67415714263916,1.3649593591690063,5.264538288116455,-9.71052074432373,1.1819781064987183,-1.6267786026000977,-2.293351173400879,4.286738395690918,2.5613856315612793,3.433396816253662,1.5943446159362793,1.2433339357376099,-7.496152877807617,-10.011627197265625,-0.4383191168308258,-8.13879108428955,11.142232894897461,7.239834785461426,6.945652008056641,2.6935901641845703,3.5046916007995605,4.800800323486328,8.752725601196289,-6.261138439178467,-5.198653221130371,-0.3165593147277832,-4.975663661956787,-5.096697807312012,-3.452991485595703,-7.478130340576172,0.06465541571378708,-11.39345645904541,-2.5032835006713867,-7.004240989685059,9.400103569030762,-0.9114313721656799,-1.4207004308700562,1.9252045154571533,4.481267929077148,-9.780179977416992,-5.439560890197754,-8.53411865234375,-11.22648811340332,-2.974515438079834,2.9806251525878906,-5.317587852478027,3.008904218673706,8.77145004272461,5.151822090148926,8.148284912109375,4.772849082946777,-12.210855484008789,0.4472140371799469,-2.4706711769104004,-9.468191146850586,1.0669243335723877,5.6219706535339355,8.717202186584473,1.6732028722763062,10.485908508300781,7.883983135223389,4.091278076171875,1.2312740087509155,-7.8687262535095215,4.9682159423828125,-2.4381468296051025,5.0153584480285645,1.8592256307601929,-0.7921957969665527,-1.171317219734192,10.728912353515625,-7.737969398498535,5.938699722290039,3.744882345199585,-8.884283065795898,-5.502492904663086,-8.10733413696289,1.2550506591796875,-10.62862491607666,-5.062088489532471,3.926360845565796,8.070664405822754,-11.935216903686523,9.335747718811035,-3.1179189682006836,0.7530471086502075,8.673397064208984,-4.893738746643066,13.690185546875,-2.3284912109375,-8.812568664550781,1.0123130083084106,-4.692296981811523,10.396283149719238,12.342885971069336,-8.220247268676758,11.496918678283691,9.91703987121582,5.556219100952148,1.695325255393982,8.334168434143066,-0.5609455108642578,1.5089137554168701,-8.203577995300293,-5.239589214324951,-5.119510173797607,-6.933804512023926,5.197543621063232,-0.6134961843490601,-1.5130535364151,-7.45176887512207,-9.60537052154541,0.6647814512252808,3.23144268989563,5.646393299102783,-1.310266375541687,-3.2855985164642334,-4.674344539642334,9.977855682373047,-4.050369739532471,-7.974142551422119,8.718072891235352,5.479475021362305,4.462071418762207,1.6871954202651978,8.44491195678711,-5.747256278991699,9.088827133178711,1.276737093925476,4.482051849365234,-0.5244238376617432,10.539435386657715,6.640503406524658,-2.7491257190704346,-0.6524856686592102,8.443185806274414,-4.351651191711426,-5.688906669616699,-10.177777290344238,-11.496681213378906,-4.562346935272217,-1.261707067489624,-3.14843487739563,-2.078209161758423,-9.668566703796387,-6.08377742767334,-6.886030673980713,-8.91066837310791,-3.6017374992370605,5.106664657592773,10.851944923400879,3.119040012359619,-1.0941758155822754,-5.930310249328613,-11.120064735412598,-7.633637428283691,4.664241790771484,-11.483712196350098,2.3259127140045166,-4.612889766693115,-7.943685054779053,-3.195631504058838,-5.704172134399414,12.342062950134277,-4.1932268142700195,0.2545449435710907,-1.1516048908233643,1.6113723516464233,-4.073694229125977,5.632058143615723,-8.349797248840332,2.919140577316284,-9.494574546813965,3.282818555831909,-10.046998023986816,-1.350921392440796,1.1151355504989624,-4.657430648803711,9.530740737915039,2.0052690505981445,-0.8255127668380737,2.203307867050171,-8.438414573669434,1.5996414422988892,6.296699047088623,8.557148933410645,-6.350960731506348,-4.355687618255615,-8.609362602233887,5.287037372589111,-2.8227438926696777,7.1343913078308105,1.153093934059143,4.944516658782959,1.5972658395767212,-3.20276141166687,-10.234426498413086,-8.417356491088867,-4.951303005218506,6.660372257232666,-4.547519683837891,-0.2325568050146103,11.19225788116455,5.440584182739258,1.623175024986267,4.078174591064453,-0.3605025112628937,-11.028064727783203,5.117566108703613,-4.605533599853516,1.6834741830825806,-7.391138553619385,-1.948835849761963,13.03836441040039,8.458651542663574,4.612411975860596,7.804737567901611,9.214032173156738,0.45185157656669617,13.080674171447754,7.640847206115723,-4.6440958976745605,-6.355029106140137,-10.538606643676758,7.114965915679932,-2.6245474815368652,-6.049045562744141,-0.8997581601142883,6.41976261138916,-8.764714241027832,6.118459701538086,12.302373886108398,12.194005966186523,-7.2429680824279785,5.81597900390625,8.790261268615723,-0.39886945486068726,-1.1003910303115845,-1.4818782806396484,1.585740566253662,5.844785213470459,2.762171745300293,3.9081459045410156,1.6689330339431763,0.7547839283943176,-0.2144906222820282,5.443462371826172,1.7631497383117676,-0.22272159159183502,-1.7693772315979004,-3.9379031658172607,9.548644065856934,7.503448963165283,8.574832916259766,3.336683988571167,-2.5704386234283447,1.7834068536758423,-5.180307388305664,-3.3898990154266357,-0.17714029550552368,12.77542495727539,-5.133639812469482,-8.14527416229248,-9.327792167663574,8.797760963439941,0.6547214388847351,-6.555668830871582,-7.6200151443481445,8.537948608398438,-5.956162452697754,-8.559650421142578,-5.268192768096924,11.610918998718262,0.8351649045944214,8.706547737121582,0.2782673239707947,1.250346302986145,5.1854753494262695,4.241190433502197,-1.8404123783111572,0.29667648673057556,-8.260435104370117,-6.0900959968566895,4.845914363861084,-2.421370029449463,9.864225387573242,-8.55160140991211,-0.7011301517486572,3.151496410369873,-8.690220832824707,2.357121706008911,3.4633355140686035,0.14070090651512146,-0.15463976562023163,-1.1244220733642578,-8.379510879516602,-9.058759689331055,-5.58629035949707,1.0057809352874756,-6.76133918762207,-3.226426839828491,-5.790393352508545,-1.6910576820373535,-11.48957347869873,-7.817081928253174,-6.5336384773254395,2.9089841842651367,1.2334305047988892,-4.17962646484375,-8.81183910369873,9.165658950805664,-3.8784680366516113,6.442804336547852,-8.899455070495605,-5.666251182556152,11.083499908447266,-8.182761192321777,9.729913711547852,-10.467265129089355,4.1821393966674805,3.105822801589966,-3.341548442840576,1.7766914367675781,-7.252425670623779,0.4346483647823334,-4.4721150398254395,-5.776102542877197,-2.8626012802124023,0.03035566210746765,0.07697781920433044,0.8637925982475281,-5.4858903884887695,3.200875759124756,10.472833633422852,2.063626289367676,2.0687103271484375,7.818300247192383,-10.894231796264648,-4.250324726104736,1.4600623846054077,2.371197462081909,0.43848103284835815,10.168717384338379,4.616996765136719,6.593511581420898,13.830110549926758,1.3828881978988647,-9.021248817443848,-0.669090211391449,1.220024824142456,-1.123198390007019,10.565770149230957,-8.181694030761719,-8.495849609375,6.474349021911621,4.316983222961426,-4.624966621398926,7.169961452484131,7.380334854125977,0.4552531838417053,4.341808795928955,1.0234252214431763,-0.7989315986633301,13.040433883666992,-5.301130771636963,-6.667990207672119,-7.454439640045166,7.097158432006836,2.5877530574798584,0.685352623462677,9.048203468322754,3.972440719604492,-6.9011101722717285,-4.255258083343506,-2.1150450706481934,8.017683982849121,-5.785913944244385,-6.617646217346191,-6.14703369140625,-2.3108444213867188,3.855302095413208,-2.8044023513793945,10.261402130126953,-7.452048301696777,9.409339904785156,-5.650288105010986,-7.269896030426025,-3.115321159362793,-4.765519142150879,2.487992525100708,8.531444549560547,0.35581356287002563,-6.060813903808594,4.627379417419434,-3.890392541885376,10.35111141204834,-5.105767726898193,2.38031005859375,-4.003940582275391,4.089432716369629,0.02802180126309395,-2.2223329544067383,-2.2578554153442383,-7.742214202880859,1.6343207359313965,-3.1092684268951416,-7.450835227966309,-10.288090705871582,6.85368013381958,8.48107624053955,12.506893157958984,-7.683774948120117,0.5687218904495239,-8.883142471313477,6.400115489959717,1.5323601961135864,8.082239151000977,4.450204849243164,-10.413718223571777,9.946451187133789,-5.99882698059082,-9.350714683532715,1.4025163650512695,-2.001039505004883,-2.8105554580688477,0.7251279950141907,-6.240685939788818,-3.396167039871216,10.315569877624512,-5.532480716705322,1.0522226095199585,4.354752540588379,1.5999276638031006,4.800851345062256,-12.918581008911133,-0.017509272322058678,0.6247822642326355,-1.21376633644104,-12.636772155761719,9.56910514831543,-1.3656789064407349,-8.395624160766602,3.932050943374634,10.36728286743164,12.8501615524292,-5.889261722564697,10.899314880371094,-3.2667064666748047,-8.702474594116211,4.271016597747803,-3.4592652320861816,3.5733706951141357,-8.617976188659668,0.10674441605806351,4.099074363708496,-1.936460018157959,-4.682638168334961,2.120809555053711,8.893781661987305,8.512702941894531,3.2603025436401367,-5.001200199127197,1.5819365978240967,-0.07057371735572815,13.756269454956055,3.2986371517181396,-5.305939674377441,-9.87354850769043,9.156803131103516,-9.339095115661621,7.717458724975586,-8.14400863647461,-9.159425735473633,2.091240644454956,3.3182854652404785,-9.83912181854248,-5.924688816070557,10.101370811462402,7.925778865814209,1.2923262119293213,2.7348997592926025,12.936125755310059,6.982836723327637,7.398477077484131,-3.2818174362182617,2.982022285461426,0.8420753479003906,1.0508579015731812,-10.500097274780273,-8.40318775177002,-1.277779459953308,1.1562647819519043,-10.819633483886719,8.080083847045898,-5.298353672027588,7.085709095001221,-5.884871959686279,-11.205324172973633,-1.0255634784698486,-8.651987075805664,1.182702660560608,1.3562490940093994,6.020175933837891,-5.194068908691406,6.092178821563721,8.247655868530273,-6.563697814941406,-7.819769382476807,2.0479066371917725,5.866454124450684,-2.4199373722076416,-2.873957395553589,3.5410220623016357,11.782556533813477,0.9600772261619568,7.027663230895996,-10.784655570983887,-8.00522232055664,1.659273386001587,9.51811695098877,-9.094226837158203,-2.356630802154541,-8.535927772521973,5.424389839172363,1.5480245351791382],\"y\":[-4.344261646270752,6.981965065002441,-9.810347557067871,-4.455320835113525,-9.019632339477539,1.9528262615203857,13.781272888183594,-1.4261279106140137,5.8416972160339355,-1.405175805091858,-0.6908748149871826,-11.072245597839355,4.937005043029785,-2.998668670654297,-9.733423233032227,2.1794230937957764,4.908153533935547,4.8078837394714355,-10.090418815612793,-10.183980941772461,2.2188587188720703,-5.104396820068359,-4.00886869430542,6.096661567687988,-3.177109718322754,-3.9841623306274414,-10.293417930603027,2.239419937133789,-5.044907093048096,-5.825503826141357,3.9781320095062256,9.431784629821777,-4.079488754272461,-6.880800247192383,3.9232003688812256,-3.4691402912139893,-10.565345764160156,1.9520472288131714,-5.930527687072754,2.5865988731384277,7.787924766540527,-5.150654315948486,4.52452278137207,-3.615309953689575,-6.490351676940918,2.929945945739746,-6.971657752990723,5.9840569496154785,-10.848174095153809,7.416865348815918,3.6187143325805664,-10.055924415588379,3.0957906246185303,2.752678394317627,0.8119017481803894,12.063156127929688,3.8332903385162354,7.85349702835083,-6.320412635803223,-11.147099494934082,7.705875873565674,0.028878014534711838,1.7606914043426514,-4.619911193847656,3.5881154537200928,-7.7797441482543945,8.62614917755127,4.3894429206848145,-10.328813552856445,-0.5912250876426697,-3.316599130630493,-0.8278547525405884,-7.246891021728516,2.028653144836426,-9.577544212341309,-4.594170570373535,-10.41695785522461,-1.0940700769424438,-8.713674545288086,-5.696166515350342,-5.4440813064575195,-5.7229766845703125,-6.515125751495361,0.07418227940797806,10.365756034851074,4.646695137023926,6.734781742095947,11.25404167175293,3.8765764236450195,-7.155812740325928,-7.136916637420654,0.3153039216995239,3.5868194103240967,13.549182891845703,10.862079620361328,0.3076440691947937,1.4064886569976807,4.233038425445557,9.421937942504883,-9.371431350708008,-7.558650970458984,8.017260551452637,4.234764099121094,3.972433567047119,1.1449137926101685,-0.8022713661193848,0.5254086852073669,6.912474632263184,-8.61792278289795,-2.131263017654419,-8.412116050720215,-7.7080888748168945,-0.6187256574630737,-3.942225217819214,-10.071303367614746,-7.3176398277282715,13.676371574401855,13.8162841796875,0.03823256120085716,10.149563789367676,-7.325217247009277,2.4461488723754883,5.547244071960449,5.159711837768555,-2.173426628112793,6.786618232727051,9.394521713256836,-0.42389431595802307,9.380388259887695,6.333463668823242,5.654756546020508,1.9848178625106812,2.5518267154693604,10.97685432434082,8.935994148254395,-3.4933650493621826,-6.678320407867432,2.1993415355682373,7.441015720367432,4.2158732414245605,0.9663882851600647,-5.596042633056641,4.549633026123047,-7.7475810050964355,11.229713439941406,-3.12514591217041,0.7208521366119385,8.670494079589844,7.579428672790527,-0.5822092294692993,-8.570277214050293,-6.632984638214111,2.0093023777008057,5.430052280426025,-5.690905570983887,1.821744441986084,5.828213214874268,6.569825649261475,-7.630100250244141,1.1683133840560913,13.21196174621582,7.256257057189941,-9.906518936157227,-7.983929634094238,-0.22822991013526917,7.553070545196533,1.9310705661773682,-4.473722457885742,-8.968514442443848,-2.3129079341888428,0.6314218044281006,3.423276901245117,-1.7790868282318115,-8.148018836975098,0.5074487924575806,10.00697135925293,-0.41237083077430725,-8.226383209228516,8.366458892822266,1.4393869638442993,2.0811116695404053,-5.170896530151367,8.758980751037598,-4.457013130187988,-5.05065393447876,13.987505912780762,-4.365241527557373,5.868220329284668,-4.035186767578125,-6.560905456542969,8.363775253295898,-8.588626861572266,-0.4049454629421234,-9.262001991271973,10.439488410949707,13.520994186401367,2.8557488918304443,6.165835380554199,-8.608847618103027,-1.7442092895507812,3.578476667404175,-0.29578906297683716,9.556696891784668,-7.067229747772217,-9.503171920776367,9.881196022033691,-5.685424327850342,4.012997627258301,-5.063724040985107,9.641892433166504,0.24597999453544617,-2.9530234336853027,-2.8279247283935547,-7.663573741912842,2.526000499725342,2.182302951812744,8.929043769836426,0.2508951425552368,-0.4884003698825836,4.7737040519714355,-9.842294692993164,6.44443416595459,-7.986755847930908,-8.939045906066895,9.525713920593262,-6.054752826690674,3.722501277923584,-4.05826997756958,9.167774200439453,-4.0019402503967285,12.614572525024414,3.6838512420654297,1.865861415863037,1.9989985227584839,12.744950294494629,6.1198906898498535,8.501825332641602,-5.689359188079834,-0.5924752950668335,-7.6375508308410645,4.020177364349365,3.4745988845825195,-7.411202907562256,9.909143447875977,-2.870424747467041,9.090744972229004,-3.921135425567627,-10.291258811950684,3.5883426666259766,-4.939137935638428,6.513713836669922,2.670308828353882,-0.8264878392219543,7.026907920837402,-1.4793561697006226,6.571310043334961,-4.77577018737793,11.01499080657959,-3.289073944091797,11.31017017364502,-6.85195255279541,5.7840375900268555,-8.037148475646973,1.2809603214263916,5.163733005523682,9.563680648803711,1.6856967210769653,10.915166854858398,-8.40234088897705,4.3717145919799805,5.530219554901123,10.66074275970459,-5.4444990158081055,-6.596709728240967,-0.05824193358421326,7.32958459854126,0.130475714802742,-8.769091606140137,6.607899188995361,-3.791741132736206,4.396073818206787,-6.5334343910217285,-2.6717300415039062,-2.963866710662842,-10.06898307800293,5.865942001342773,8.371908187866211,6.831253528594971,10.567275047302246,-8.324652671813965,-7.7506103515625,8.065450668334961,0.20694057643413544,5.856553077697754,0.07251765578985214,-0.7514215111732483,0.5248539447784424,-8.403985023498535,0.6230401396751404,-4.460883617401123,4.741809368133545,12.318209648132324,-3.002584457397461,-2.2150394916534424,-1.5802280902862549,-9.17122745513916,4.157537937164307,-8.747313499450684,7.461803913116455,-5.334997177124023,-5.495243549346924,9.301438331604004,-5.389853000640869,-7.209112167358398,3.6070444583892822,-5.873360633850098,-2.0543203353881836,11.165544509887695,-9.223164558410645,9.536088943481445,4.97973108291626,-6.248145580291748,0.024034757167100906,5.197320938110352,-8.105375289916992,-4.824610233306885,1.3159090280532837,0.7877688407897949,-7.009626388549805,-0.3880048096179962,11.184433937072754,0.8451229333877563,7.027268409729004,0.3496023416519165,11.012835502624512,-9.375779151916504,6.896811485290527,-3.321942090988159,-4.082841396331787,0.0489766001701355,-4.303940296173096,-3.6096465587615967,0.35491955280303955,6.167361736297607,-1.0450825691223145,-6.855736255645752,11.392007827758789,9.339198112487793,-0.5126923322677612,1.0134629011154175,2.557292938232422,-5.045112133026123,11.727021217346191,10.402923583984375,8.40728759765625,-3.6234896183013916,3.4171969890594482,6.715717792510986,-1.103316307067871,-3.7444264888763428,6.666284084320068,4.8483500480651855,6.564937114715576,6.396804332733154,0.6072794795036316,-9.926436424255371,-2.5759670734405518,13.205643653869629,10.850242614746094,7.547590255737305,4.179555892944336,3.9204087257385254,-10.042089462280273,-7.541098117828369,0.04604821652173996,3.5853047370910645,-10.494378089904785,-0.9596279859542847,10.141321182250977,-4.9316792488098145,2.0307459831237793,3.4415531158447266,-9.286136627197266,-5.98179817199707,6.599712371826172,1.1221897602081299,-0.2529138922691345,-0.20241735875606537,-0.720731794834137,-8.259299278259277,7.0382513999938965,1.0260941982269287,-7.042155742645264,-6.021759033203125,11.64062786102295,10.390719413757324,-0.7807290554046631,-2.56257700920105,-4.968543529510498,-3.1721537113189697,9.983988761901855,5.819883823394775,9.409111022949219,9.388968467712402,-2.9114534854888916,11.632194519042969,-10.22737979888916,2.978240966796875,2.430206298828125,6.882479190826416,7.63458776473999,-5.561988353729248,-0.038611508905887604,-9.465194702148438,8.668590545654297,4.085932731628418,10.430228233337402,9.73367977142334,1.2397754192352295,-7.1616973876953125,-8.351628303527832,2.546668529510498,6.285023212432861,6.122437953948975,-9.254240036010742,9.394571304321289,12.579658508300781,-0.9342862367630005,-6.4912238121032715,-10.267827033996582,-7.192528247833252,14.129609107971191,0.09233682602643967,-0.9896240234375,-2.805520534515381,1.2115148305892944,11.269920349121094,-9.063360214233398,-9.009689331054688,-10.202789306640625,-1.4146562814712524,-9.00035572052002,-9.880749702453613,-10.70610237121582,3.1722917556762695,-0.46923762559890747,-2.8374598026275635,6.0546393394470215,-5.224794387817383,-4.218812465667725,6.3538408279418945,-7.381823539733887,4.583484649658203,-9.730725288391113,-0.15873265266418457,9.940972328186035,-0.26974618434906006,-6.748767375946045,-8.80563735961914,-7.214791297912598,6.674555778503418,-10.451148986816406,4.969747543334961,-5.230776786804199,4.929856777191162,-7.131898403167725,-8.116927146911621,-2.2559003829956055,7.992767333984375,-8.568558692932129,-7.021694660186768,12.619823455810547,6.173924922943115,-4.599939823150635,3.156583786010742,10.769468307495117,12.879441261291504,-1.827498435974121,-2.5267276763916016,8.780220031738281,6.607014179229736,0.7950168251991272,-2.2045984268188477,-9.232829093933105,13.814373970031738,-9.771364212036133,2.2705981731414795,-7.085492134094238,-3.80411434173584,-7.20233678817749,-9.579869270324707,-0.47880178689956665,-1.9033169746398926,-3.290532112121582,-7.877370834350586,0.26722750067710876,6.598959445953369,1.089765191078186,5.425650119781494,-7.909715175628662,7.698856830596924,2.822756052017212,-5.005528926849365,3.4174344539642334,-6.172000885009766,-7.084003448486328,-9.273113250732422,8.943254470825195,-7.712265968322754,-5.80290412902832,-9.79347038269043,7.036144733428955,3.418813943862915,0.09561527520418167,-7.962772369384766,5.571125030517578,6.5300116539001465,-9.017562866210938,2.2614047527313232,3.9123964309692383,-8.383158683776855,-6.365386486053467,-2.947833776473999,-6.95203971862793,0.22338856756687164,13.042257308959961,-5.230537414550781,12.2698392868042,0.3416711390018463,-6.921172142028809,4.106891632080078,-1.7652689218521118,2.2544915676116943,4.13166618347168,0.7060735821723938,-5.8684515953063965,7.810850620269775,-8.058727264404297,-0.26399338245391846,4.804337978363037,4.583833694458008,1.5502386093139648,7.350552082061768,8.337813377380371,9.65172290802002,2.1244521141052246,-2.3240838050842285,1.0846704244613647,-0.288943886756897,-2.4820361137390137,3.6394131183624268,-3.4048912525177,-9.908947944641113,-7.633544921875,6.74307107925415,8.843918800354004,2.481407642364502,-8.240287780761719,1.2737364768981934,6.7126054763793945,-10.679792404174805,-0.4618290364742279,7.279109001159668,1.5119889974594116,9.172706604003906,-5.84232234954834,6.800919055938721,2.8308985233306885,-3.296367645263672,1.2326240539550781,-5.405957221984863,0.7386914491653442,-1.867188572883606,1.1565526723861694,8.109883308410645,-4.635758399963379,9.858838081359863,11.339105606079102,-3.4248006343841553,-8.281116485595703,-7.767953872680664,-9.075002670288086,-8.040336608886719,10.574163436889648,7.333625316619873,-5.455248832702637,-6.344966888427734,1.9230588674545288,11.462162971496582,-2.3023006916046143,5.77230167388916,5.336206436157227,6.722255229949951,-2.5104353427886963,6.81583833694458,4.441016674041748,-1.0555777549743652,-2.779358386993408,-1.6564228534698486,-10.3592529296875,1.8386693000793457,2.940943956375122,-6.387548446655273,13.60495662689209,0.6415517926216125,7.754891872406006,-0.06825484335422516,0.884850263595581,9.77553939819336,4.740051746368408,-3.3413889408111572,-6.9543962478637695,-9.187667846679688,-5.259801864624023,-4.439198017120361,7.126529216766357,2.8710432052612305,4.462121963500977,-2.0861639976501465,-6.570559978485107,6.394608497619629,4.161174774169922,6.0553460121154785,2.653031826019287,-7.5412421226501465,-1.3860864639282227,13.297243118286133,-10.694469451904297,4.016554832458496,-5.723989009857178,5.395719051361084,5.7615156173706055,-10.057146072387695,-6.452244758605957,-7.195621490478516,-0.5022262930870056,-6.907441139221191,6.61898946762085,0.185628741979599,7.666425704956055,-9.41506290435791,9.809914588928223,13.292764663696289,-5.271243095397949,0.7014496922492981,-10.624547004699707,-9.080686569213867,-3.0367417335510254,-3.9185791015625,-6.184092998504639,3.6731135845184326,6.997002124786377,3.9337079524993896,2.4190759658813477,9.48530387878418,5.568036079406738,-8.25217342376709,-3.491539478302002,-0.9310717582702637,-1.6975195407867432,-3.1618642807006836,3.501880645751953,5.225600719451904,-4.614513874053955,1.0650440454483032,8.743212699890137,0.9319361448287964,11.281599044799805,6.303493499755859,8.739178657531738,4.583969593048096,-3.0994701385498047,6.6858649253845215,7.837810039520264,0.5256254076957703,3.7192208766937256,9.670116424560547,-0.5577873587608337,0.1374056190252304,10.887742042541504,-8.565292358398438,4.658670902252197,-4.644800662994385,-1.5889936685562134,8.959088325500488,8.711673736572266,-3.025137424468994,8.528512001037598,-0.006433708127588034,-4.236083984375,-0.7834987044334412,-5.949375629425049,-0.520801842212677,1.0954480171203613,-1.4598160982131958,2.8150205612182617,-4.507802486419678,-5.948486328125,-8.232782363891602,-4.774110317230225,3.9595229625701904,-7.1012444496154785,-3.028834819793701,-5.071769714355469,-2.3644285202026367,11.751035690307617,-0.2290017157793045,4.068764686584473,6.069605827331543,-3.497039556503296,-7.043515205383301,5.9161200523376465,-2.545511484146118,-3.9051754474639893,-2.070260763168335,2.730351209640503,2.10329008102417,3.146172523498535,-2.204867124557495,2.3893043994903564,-10.086202621459961,12.554971694946289,1.5098451375961304,-10.053393363952637,0.4626410901546478,-4.046639442443848,-5.012755393981934,3.509230375289917,0.2922721207141876,2.1873791217803955,0.37277257442474365,-11.079442977905273,7.433512210845947,11.10415267944336,0.02949725277721882,0.49431899189949036,-7.455676078796387,-8.767234802246094,-8.264878273010254,-4.504062175750732,-0.5335657596588135,-3.2272870540618896,-3.4592320919036865,-2.4197757244110107,-4.91702127456665,-8.414011001586914,-7.390009880065918,-0.5530366897583008,-7.13004732131958,-2.8164565563201904,7.0323333740234375,-9.798347473144531,11.443857192993164,10.566546440124512,4.952211380004883,-8.585392951965332,-5.573371410369873,5.979097366333008,0.21269817650318146,8.879632949829102,-4.435063362121582,6.8115997314453125,2.355783224105835,9.238374710083008,-5.581933975219727,12.960030555725098,11.714935302734375,-9.29452896118164,11.418128967285156,-8.666097640991211,-5.4533162117004395,-1.998418927192688,5.534194469451904,12.31898021697998,-4.356903553009033,5.8360676765441895,3.937230110168457,3.0492236614227295,-9.98990535736084,-5.36220121383667,-6.3633575439453125,12.451837539672852,3.7986338138580322,-8.214086532592773,-10.078910827636719,-3.641118049621582,5.9747114181518555,0.8214884996414185,-6.9716925621032715,-5.409813404083252,-3.039541006088257,-5.077551364898682,-3.5836257934570312,-9.111976623535156,11.36551284790039,8.659567832946777,3.952448606491089,-5.748377323150635,-7.683123588562012,8.510381698608398,3.1492698192596436,2.529491424560547,1.0962307453155518,7.898468971252441,-7.895383834838867,8.145387649536133,5.894398212432861,8.636247634887695,0.7164100408554077,3.5251736640930176,-8.626967430114746,-1.1894041299819946,-9.557561874389648,-7.718216896057129,4.051747798919678,-5.095943927764893,4.748880386352539,-2.1269302368164062,-0.6694409847259521,1.1762546300888062,1.4648185968399048,-6.881154537200928,-8.701638221740723,4.487212181091309,3.2552647590637207,12.457575798034668,0.6316816210746765,-6.691745281219482,-7.064458847045898,-1.4032796621322632,8.644804000854492,-4.618052959442139,0.8886719346046448,-2.1047439575195312,-6.624302387237549,0.1077786237001419,-11.07036018371582,-7.987457752227783,2.1205403804779053,5.696409702301025,-7.3477325439453125,3.925769090652466,1.0337222814559937,7.245243549346924,11.3720064163208,1.2974754571914673,5.505044937133789,-7.7076921463012695,-8.261322975158691,-2.272814989089966,2.311556816101074,-9.511917114257812,5.890540599822998,-7.302601337432861,-0.28325098752975464,4.100494384765625,1.9940181970596313,-0.6760662198066711,-6.810303211212158,-3.6316609382629395,-6.470583438873291,-5.892208576202393,7.145081520080566,-7.191234588623047,3.86142897605896,2.069309711456299,14.066367149353027,-5.640411376953125,0.8222717046737671,-6.175060749053955,-3.4929096698760986,3.6674020290374756,6.995871067047119,-8.39155387878418,10.708545684814453,1.5958616733551025,11.93492317199707,3.697899341583252,-2.2858994007110596,-9.209609985351562,-7.140768527984619,-11.142972946166992,-3.0574285984039307,-0.1317848116159439,-2.6345627307891846,-0.7973312735557556,-5.34476375579834,0.5810927152633667,-4.477547645568848,-3.17095947265625,-8.131660461425781,-5.669417381286621,-8.367349624633789,-3.138925313949585,-5.431543827056885,-5.78090763092041,-3.6623833179473877,9.705364227294922,0.07925968617200851,8.374234199523926,6.50690221786499,6.007846355438232,5.004044055938721,-1.5298993587493896,-8.35577392578125,-6.706793308258057,0.4501493275165558,10.13296890258789,-8.097418785095215,-9.321703910827637,5.935395240783691,1.6837718486785889,3.3972976207733154,-9.871546745300293,-3.7429356575012207,-10.322017669677734,-1.654802918434143,5.2194905281066895,-0.9189741611480713,-0.4332755208015442,-8.68796157836914,2.4236485958099365,9.686721801757812,-4.221951007843018,4.278326988220215,-8.473812103271484,10.321374893188477,-2.3874833583831787,0.8340088129043579,4.415436267852783,-9.621888160705566,4.268106460571289,6.05914831161499,-2.7436187267303467,-2.073917865753174,-9.888799667358398,1.3980270624160767,-9.964381217956543,7.772010803222656,0.903849720954895,-10.492181777954102,5.694893836975098,-8.355764389038086,1.846845030784607,-9.461688995361328,-4.554803848266602,-9.502201080322266,-6.998704433441162,6.184236526489258,11.126201629638672,-2.1495487689971924,2.7900288105010986,-2.2212021350860596,0.9761273264884949,-0.5841947197914124,10.427532196044922,-1.192043423652649,-3.3036789894104004,-1.9919346570968628,3.674456834793091,11.787881851196289,2.400463104248047,-8.095672607421875,-9.013479232788086,-3.4546077251434326,7.472301959991455,6.010486125946045,-7.193580627441406,-4.061781883239746,6.523608207702637,-0.6651519536972046,-9.119598388671875,-4.21928071975708,-10.277169227600098,-4.477469444274902,9.377387046813965,9.172472953796387,0.12211434543132782,7.335005283355713,1.1002159118652344,-3.63375186920166,-7.7815260887146,-8.206472396850586,13.90555477142334,-0.021339457482099533,5.948276042938232,3.627000570297241,0.6468483209609985,1.0964983701705933,-10.070517539978027,0.7566765546798706,-9.102005004882812,-10.846470832824707,-10.00020980834961,-2.1839566230773926,-2.912860631942749,9.914082527160645,-6.6709303855896,-0.76480633020401,-11.079901695251465],\"z\":[-1.0697134733200073,-3.2434353828430176,-5.491139888763428,-11.614669799804688,-12.999421119689941,-6.401287078857422,2.7674810886383057,-12.711296081542969,-3.436436891555786,9.939724922180176,-10.649559020996094,-14.4637451171875,-10.561707496643066,-8.450750350952148,-10.368881225585938,-17.082958221435547,-10.536975860595703,7.867491722106934,-3.8860886096954346,-13.820658683776855,-5.9468159675598145,1.0906800031661987,-9.167618751525879,-3.931043863296509,-7.857179641723633,-0.2522704303264618,-13.625385284423828,-2.3829164505004883,-20.23341941833496,-16.848140716552734,-2.0190012454986572,-2.114396333694458,-2.93699312210083,-13.313175201416016,5.934962749481201,1.1776090860366821,-14.166691780090332,-2.6510508060455322,-0.6929656267166138,-7.888302803039551,13.202980995178223,-12.216254234313965,8.907123565673828,-5.0884246826171875,-11.1777982711792,-16.849313735961914,-11.814516067504883,-3.518972873687744,-14.219326972961426,10.845633506774902,-12.756231307983398,-2.0130670070648193,7.50784969329834,-16.794292449951172,-6.1746344566345215,0.32868504524230957,-7.509893894195557,4.823807716369629,-12.971078872680664,-8.604058265686035,3.0177009105682373,7.099434852600098,-18.628177642822266,-12.272214889526367,12.229217529296875,-11.96854019165039,11.147480010986328,8.040321350097656,-13.308246612548828,-8.913107872009277,-18.85123062133789,-13.657072067260742,-0.8448207378387451,-10.564934730529785,7.541332721710205,4.719028949737549,-11.94612979888916,-16.564411163330078,11.549154281616211,11.041674613952637,10.539093971252441,5.6754937171936035,-12.451722145080566,5.572465419769287,2.459338665008545,-1.621193766593933,7.7069501876831055,9.32251262664795,4.934398651123047,3.3913824558258057,4.1691975593566895,-10.204652786254883,7.679722785949707,4.434667110443115,1.4614149332046509,-19.356128692626953,9.380498886108398,0.7383019924163818,3.2426223754882812,-12.47465991973877,0.6788763999938965,10.369550704956055,0.7648289799690247,9.262829780578613,-17.68543815612793,9.778719902038574,7.866763591766357,1.7311718463897705,7.983523845672607,-15.775341033935547,4.940128326416016,0.2245420217514038,-7.3947978019714355,5.657310485839844,-9.786290168762207,7.42862606048584,3.994126319885254,4.618574619293213,-10.105782508850098,4.962029933929443,8.342771530151367,4.099459648132324,3.1263270378112793,10.851818084716797,3.362474203109741,-0.4827785789966583,1.4947562217712402,-11.563037872314453,2.2763266563415527,0.32264265418052673,3.6870639324188232,8.966830253601074,-13.496369361877441,0.7475981712341309,9.213974952697754,3.2387046813964844,-10.527650833129883,-14.267338752746582,-0.12901820242404938,0.9557357430458069,-10.963510513305664,3.7586796283721924,8.630643844604492,-12.16569709777832,5.646901607513428,10.651880264282227,-12.293289184570312,12.181127548217773,-1.5082101821899414,5.3301262855529785,4.122572898864746,6.669991493225098,0.7822505831718445,9.188282012939453,0.5701745748519897,10.058332443237305,11.752779960632324,10.720033645629883,8.32329273223877,-8.502435684204102,2.7432100772857666,5.345531463623047,7.347947120666504,12.839217185974121,-9.932308197021484,9.329092979431152,-11.457574844360352,-15.867244720458984,-9.278491020202637,5.077152729034424,8.408652305603027,-0.1903160661458969,-7.91325044631958,-8.46930980682373,1.4953621625900269,10.236367225646973,-6.575450420379639,-7.681839942932129,-1.6136879920959473,-13.793466567993164,2.621480703353882,-9.301023483276367,-1.6473709344863892,-16.031797409057617,-16.607141494750977,4.45371150970459,-9.742761611938477,4.532377243041992,8.954048156738281,6.416011333465576,11.494142532348633,-11.778061866760254,-10.59451675415039,-8.589513778686523,6.584138870239258,1.7748653888702393,3.6328771114349365,1.2915260791778564,1.547441005706787,2.549243211746216,3.5274884700775146,3.9914755821228027,0.4559765160083771,-13.097237586975098,-7.290560245513916,-2.155353307723999,12.856552124023438,3.660295248031616,-9.881322860717773,-0.19837169349193573,2.742828607559204,-8.659411430358887,-16.560745239257812,6.315673828125,3.864234685897827,3.4351561069488525,0.04904504865407944,-16.414499282836914,-18.23906898498535,-0.43653562664985657,-7.063947677612305,2.9590365886688232,-12.562954902648926,9.379334449768066,7.24962043762207,12.023807525634766,10.433341979980469,9.134669303894043,9.428131103515625,-5.748416900634766,2.5451996326446533,8.01276683807373,-12.87696361541748,-14.026424407958984,4.6059136390686035,3.0493509769439697,0.530752956867218,6.620339393615723,-11.769487380981445,-6.434582710266113,3.774563789367676,3.8079819679260254,-7.793308734893799,5.257205963134766,-12.776997566223145,7.973289489746094,6.89816427230835,10.2161283493042,10.669739723205566,-9.798524856567383,6.690362453460693,-0.11585211008787155,-13.486387252807617,5.3898115158081055,10.337635040283203,-2.512086868286133,1.031019687652588,6.637368679046631,-5.672380447387695,5.130549907684326,-8.007455825805664,5.437138557434082,-10.14752197265625,2.1031301021575928,7.500947952270508,5.111180305480957,-15.082210540771484,4.895374774932861,7.786334991455078,0.7056858539581299,1.881995439529419,0.04929668456315994,3.597343921661377,-7.288471221923828,-8.883746147155762,8.52249813079834,-18.727031707763672,-11.789329528808594,2.231194257736206,8.857748031616211,10.32992172241211,-7.594265937805176,9.919191360473633,2.7354304790496826,-9.744047164916992,4.1978302001953125,7.127781867980957,2.498870849609375,7.713879585266113,1.2046916484832764,3.5388476848602295,1.8272510766983032,7.77154541015625,4.914120674133301,5.626179218292236,-9.14663028717041,-11.36980152130127,12.334959983825684,5.10239839553833,0.8275887370109558,-2.394618272781372,5.972745418548584,-17.223896026611328,-12.810895919799805,-10.392644882202148,6.89066219329834,2.5942561626434326,6.961154937744141,12.72293758392334,-16.67035675048828,-16.08184814453125,12.669010162353516,-8.450881958007812,-6.791780948638916,5.695466995239258,0.5720826387405396,4.936736106872559,3.328211784362793,7.862302303314209,1.037635087966919,-1.7788184881210327,5.571495532989502,-13.517026901245117,0.8318135738372803,10.674349784851074,2.102128505706787,-16.381362915039062,-14.919171333312988,-10.184931755065918,-10.546250343322754,5.073635101318359,-17.988218307495117,7.039134979248047,9.617019653320312,9.797118186950684,-11.569761276245117,0.4996679425239563,3.139148712158203,-10.077479362487793,-19.06666374206543,2.728154182434082,11.474464416503906,-9.961099624633789,9.290704727172852,-13.271678924560547,-11.403221130371094,0.3034953773021698,11.070883750915527,-11.099764823913574,-17.3818302154541,-0.827417254447937,4.000326633453369,4.6408915519714355,-0.1522475928068161,7.124717712402344,11.238842010498047,6.7468647956848145,2.2309060096740723,-19.481788635253906,1.9019830226898193,-1.6199326515197754,2.007356882095337,0.5785323977470398,12.123161315917969,-12.575481414794922,7.723422527313232,-18.029027938842773,5.899153232574463,7.009899616241455,1.7244255542755127,9.35029411315918,3.875096082687378,-11.942610740661621,-8.96821403503418,-13.507843017578125,10.856958389282227,7.204009056091309,-11.065213203430176,0.9245138168334961,3.3513917922973633,-10.401137351989746,1.072857141494751,6.309346675872803,10.90881061553955,-0.6607588529586792,8.916021347045898,7.766336441040039,6.3897199630737305,1.9378372430801392,1.020909309387207,7.53372859954834,9.67654037475586,4.090818881988525,7.055461406707764,3.930018663406372,-0.05368344113230705,9.407225608825684,-13.043119430541992,0.9083627462387085,7.555493354797363,4.665014266967773,6.22920560836792,12.890761375427246,-2.134943962097168,-14.415571212768555,4.351990699768066,-8.637831687927246,1.244845986366272,-7.9458699226379395,-1.1261645555496216,5.075601100921631,4.471918106079102,-18.148658752441406,7.736666202545166,1.4033684730529785,8.436053276062012,10.73958969116211,2.3414676189422607,-14.742714881896973,-11.672001838684082,0.978318452835083,5.317480564117432,3.17785382270813,-1.7360795736312866,-9.963866233825684,8.379273414611816,2.9606308937072754,-10.60763168334961,-0.3894185721874237,-11.989483833312988,6.816287994384766,3.404916763305664,5.8451948165893555,-12.407526016235352,-19.024240493774414,2.523057460784912,6.4176201820373535,-12.210820198059082,8.639185905456543,-7.519474506378174,9.732439041137695,11.46377182006836,-8.483083724975586,-14.385457038879395,5.903149604797363,-7.301220893859863,-17.066307067871094,9.093063354492188,-9.502272605895996,-10.964030265808105,6.893691539764404,-10.775075912475586,10.8626070022583,7.224930763244629,-8.43004322052002,1.3374619483947754,0.24460510909557343,-9.763422012329102,10.805438041687012,10.886148452758789,-0.9727933406829834,-9.168432235717773,8.197035789489746,11.656021118164062,-2.1982975006103516,4.266258239746094,7.943054676055908,-16.902402877807617,9.467745780944824,-9.416373252868652,9.299622535705566,7.003389835357666,7.948810577392578,5.533167362213135,10.558568954467773,6.82650089263916,1.5118948221206665,-9.389042854309082,1.1652677059173584,4.385913848876953,11.610281944274902,6.133339881896973,-11.083218574523926,-14.379658699035645,3.866922616958618,-13.745870590209961,0.4186442494392395,-0.826716423034668,2.3117904663085938,-6.616734504699707,9.257493019104004,-8.848804473876953,-6.583954334259033,-17.356863021850586,-8.320197105407715,-12.179206848144531,-0.41894978284835815,-8.2164945602417,8.241982460021973,2.947420358657837,0.036292798817157745,-1.9557156562805176,2.163912534713745,4.587769031524658,-0.6246973872184753,-7.018270969390869,9.52072811126709,10.536693572998047,-1.160035252571106,-8.72197437286377,-12.001300811767578,10.561878204345703,3.0958423614501953,-18.903488159179688,12.030522346496582,10.75343132019043,8.121219635009766,10.298019409179688,-0.6293069124221802,2.448970317840576,-0.7114570140838623,-13.321355819702148,-7.374224662780762,-10.51408576965332,-18.533178329467773,4.577320098876953,10.616154670715332,6.124851226806641,0.9793009757995605,1.1840558052062988,0.9011692404747009,-16.89182472229004,-9.46342658996582,8.850360870361328,-7.995924472808838,-15.643418312072754,-1.4575800895690918,-13.555538177490234,0.8372060656547546,0.7540308237075806,-0.11827113479375839,-10.021109580993652,5.094733715057373,-1.6801708936691284,10.698341369628906,-11.509851455688477,10.58910083770752,-11.32105827331543,-12.120701789855957,10.205525398254395,9.726568222045898,4.0587944984436035,-10.665756225585938,8.241137504577637,8.346362113952637,4.813835144042969,-8.7287015914917,6.6222333908081055,-15.615886688232422,-2.4767062664031982,-14.020844459533691,-18.27337646484375,8.978262901306152,-8.302401542663574,6.489598274230957,12.824409484863281,10.185165405273438,-1.592353343963623,-11.986385345458984,-7.983384609222412,-0.4379701614379883,-8.346721649169922,-13.533951759338379,-17.491374969482422,-1.6385672092437744,-17.50953483581543,3.0093982219696045,8.355690002441406,2.3503499031066895,8.406148910522461,0.6659851670265198,8.570244789123535,-8.951335906982422,2.277026653289795,12.603691101074219,13.099903106689453,0.9679433703422546,9.72619915008545,6.788747787475586,-17.835575103759766,5.749200344085693,11.474552154541016,-2.298938512802124,-14.099814414978027,-0.6036567091941833,8.232735633850098,-12.966365814208984,-16.415401458740234,-9.606667518615723,-13.865138053894043,-11.545563697814941,4.4749884605407715,-8.452290534973145,3.366237163543701,-9.440520286560059,-0.23521006107330322,-14.929499626159668,-18.999595642089844,5.305330276489258,-1.2299103736877441,-6.790667533874512,4.322233200073242,-0.1816142499446869,2.44639253616333,10.670549392700195,9.973719596862793,3.488682746887207,4.397992134094238,4.447947025299072,1.4124526977539062,-0.47493213415145874,8.028965950012207,7.279482841491699,-1.1488596200942993,-10.152875900268555,-15.870118141174316,3.3792593479156494,-10.382328033447266,1.4480310678482056,11.57384204864502,4.8369927406311035,2.1924209594726562,8.988720893859863,-12.878885269165039,3.0118680000305176,0.8757652044296265,5.348155975341797,-0.2149982452392578,-8.648125648498535,0.19327683746814728,-7.04378080368042,-0.30547666549682617,1.9527418613433838,3.9581875801086426,-19.32309341430664,8.187785148620605,-8.332152366638184,4.896641731262207,-9.464859962463379,4.21539306640625,10.380495071411133,10.584177017211914,1.1731750965118408,-12.210892677307129,10.11880874633789,0.5121861696243286,-12.518780708312988,2.9748358726501465,5.788412570953369,-16.052349090576172,-17.066238403320312,7.514787197113037,-2.0455007553100586,0.2156134396791458,-10.647629737854004,0.4125189185142517,-15.022706985473633,0.3823377192020416,1.2119008302688599,10.803711891174316,0.6774023175239563,11.036231994628906,8.272204399108887,1.0117136240005493,-7.970360279083252,10.151562690734863,-1.1925528049468994,-7.328615665435791,-11.85309886932373,0.8829951286315918,-9.014914512634277,9.507529258728027,3.59993314743042,-7.7926025390625,8.631085395812988,10.138859748840332,10.9788236618042,12.022851943969727,-10.060976028442383,-16.254945755004883,-6.013142108917236,-15.417659759521484,-18.4307918548584,0.857121467590332,-8.791135787963867,-9.384939193725586,2.1888482570648193,11.715241432189941,9.463555335998535,-9.251617431640625,3.340790271759033,13.65699577331543,-8.466816902160645,-20.285018920898438,7.690474987030029,0.7299339175224304,-11.897228240966797,-12.736166954040527,-0.5212502479553223,-5.704720973968506,-12.707327842712402,11.058600425720215,5.928399562835693,-0.33262819051742554,8.447763442993164,-7.530033111572266,-6.396207332611084,-16.18222427368164,8.495561599731445,6.972280979156494,-4.005207538604736,4.906353950500488,-0.3000926375389099,-1.9158817529678345,-2.3839991092681885,-3.0334482192993164,-10.184566497802734,-9.512521743774414,-13.496078491210938,-7.682440757751465,3.000460386276245,-12.153992652893066,0.6294301748275757,2.0865769386291504,0.044571973383426666,-9.182305335998535,6.5331220626831055,10.658177375793457,11.747166633605957,-7.216479778289795,4.347679138183594,3.798229217529297,3.5596837997436523,-5.736196041107178,0.809995710849762,12.081404685974121,9.905194282531738,-7.850416660308838,-9.207579612731934,-17.62221336364746,-2.3587422370910645,-11.296378135681152,1.5542535781860352,6.525857925415039,11.098191261291504,-7.861849784851074,10.927115440368652,5.557962417602539,-18.95332908630371,10.35787296295166,-16.700544357299805,8.22607421875,9.915334701538086,9.178711891174316,0.26818907260894775,5.367198944091797,4.39320182800293,-11.749878883361816,3.0830886363983154,-11.284761428833008,10.573041915893555,1.6334855556488037,-1.6311712265014648,2.565793514251709,2.2228078842163086,12.077518463134766,1.410488486289978,3.6735146045684814,8.836142539978027,2.5050594806671143,7.40808629989624,4.51188850402832,-0.4833988547325134,4.489323616027832,10.878218650817871,-17.417583465576172,6.186739921569824,-8.567930221557617,13.049601554870605,11.944538116455078,-14.454619407653809,7.2404279708862305,-6.314281940460205,6.724564075469971,5.990708351135254,-2.3616151809692383,10.602269172668457,-9.44315242767334,7.997954845428467,13.014008522033691,6.041148662567139,0.8295325040817261,0.2916625142097473,-2.7736730575561523,-6.839634418487549,9.587640762329102,10.498763084411621,4.565217018127441,-11.05162239074707,9.060159683227539,-11.739155769348145,-6.091101169586182,7.347390174865723,0.5634207725524902,-1.075460433959961,-9.48604679107666,1.3257907629013062,-15.429546356201172,-6.581287860870361,-11.847136497497559,-8.38803482055664,-6.790614604949951,12.761167526245117,-0.525039792060852,3.519949197769165,6.699784278869629,-10.916923522949219,11.249334335327148,4.590560436248779,-17.247060775756836,4.780651092529297,2.2176406383514404,-18.987197875976562,-6.400403022766113,-9.583149909973145,-8.950186729431152,-12.87027359008789,-11.243967056274414,-8.940374374389648,9.079854965209961,7.792724132537842,8.991324424743652,-12.0704927444458,2.2516961097717285,4.274179458618164,-7.964856147766113,-1.168805480003357,8.307063102722168,5.153937339782715,3.606491804122925,-8.817227363586426,0.0004942028317600489,9.244257926940918,7.882580280303955,1.8301643133163452,1.7560195922851562,2.0895636081695557,-10.366844177246094,12.037545204162598,-6.027192115783691,0.3151858150959015,10.80768871307373,-3.287970542907715,9.93368911743164,2.883129358291626,-14.040716171264648,4.917914390563965,11.86729621887207,-9.619304656982422,3.694202184677124,-11.264938354492188,9.780362129211426,7.7090535163879395,5.920428276062012,1.9520832300186157,9.614015579223633,3.7504658699035645,5.270832538604736,1.6422315835952759,-7.550143241882324,3.853893995285034,8.017181396484375,10.932847023010254,-14.823694229125977,-13.207780838012695,-7.876831531524658,2.74570369720459,6.584654331207275,0.8276830315589905,-6.214465141296387,-12.221673011779785,-16.69365692138672,-9.863729476928711,9.969804763793945,-16.367130279541016,5.583527565002441,4.116547584533691,9.30805778503418,0.9411406517028809,2.9679036140441895,2.5344669818878174,5.892094135284424,11.277372360229492,-15.858236312866211,10.499160766601562,-12.952795028686523,-11.910330772399902,-2.4296600818634033,-9.699100494384766,9.410346984863281,5.457088947296143,9.21571159362793,7.819770812988281,7.82570219039917,-7.308572769165039,-10.808194160461426,0.9061203002929688,3.6629183292388916,-9.815699577331543,-9.081968307495117,0.25570276379585266,-13.68401050567627,3.761819362640381,7.840035915374756,0.7498183846473694,3.8175768852233887,-0.777886152267456,1.109907627105713,4.805426597595215,1.565560221672058,-11.398712158203125,8.410561561584473,7.460373401641846,-16.41745948791504,-12.82469367980957,-11.535412788391113,9.624738693237305,-7.121426105499268,-1.8378962278366089,-8.205843925476074,-8.650243759155273,4.1912689208984375,11.651773452758789,-8.466371536254883,8.211617469787598,-7.30885648727417,9.551704406738281,5.7793803215026855,2.4652538299560547,-1.3251402378082275,0.9352715015411377,1.0154147148132324,-15.15365219116211,-13.464879035949707,5.938113689422607,10.752991676330566,-8.758468627929688,-10.845166206359863,-6.186801910400391,4.404337406158447,6.965760231018066,5.711000442504883,-7.280470371246338,10.127128601074219,2.570362091064453,10.468156814575195,4.66538143157959,7.733547210693359,-7.9767560958862305,7.265571594238281,-18.05428123474121,8.522829055786133,3.036376953125,-10.880328178405762,9.090163230895996,6.838497161865234,4.8302106857299805,-18.160612106323242,0.5418755412101746,-8.326247215270996,-7.120156764984131,0.8238348364830017,12.671943664550781,4.318275451660156,-17.494844436645508,6.250965118408203,5.254797458648682,-10.77980899810791,-8.62680721282959,-13.455491065979004,-9.451154708862305,6.918601036071777,8.385425567626953,-7.25564432144165,-8.791152000427246,1.867847204208374,5.784532070159912,12.564023971557617,-11.207084655761719,-12.719644546508789],\"type\":\"scatter3d\"}],                        {\"template\":{\"data\":{\"histogram2dcontour\":[{\"type\":\"histogram2dcontour\",\"colorbar\":{\"outlinewidth\":0,\"ticks\":\"\"},\"colorscale\":[[0.0,\"#0d0887\"],[0.1111111111111111,\"#46039f\"],[0.2222222222222222,\"#7201a8\"],[0.3333333333333333,\"#9c179e\"],[0.4444444444444444,\"#bd3786\"],[0.5555555555555556,\"#d8576b\"],[0.6666666666666666,\"#ed7953\"],[0.7777777777777778,\"#fb9f3a\"],[0.8888888888888888,\"#fdca26\"],[1.0,\"#f0f921\"]]}],\"choropleth\":[{\"type\":\"choropleth\",\"colorbar\":{\"outlinewidth\":0,\"ticks\":\"\"}}],\"histogram2d\":[{\"type\":\"histogram2d\",\"colorbar\":{\"outlinewidth\":0,\"ticks\":\"\"},\"colorscale\":[[0.0,\"#0d0887\"],[0.1111111111111111,\"#46039f\"],[0.2222222222222222,\"#7201a8\"],[0.3333333333333333,\"#9c179e\"],[0.4444444444444444,\"#bd3786\"],[0.5555555555555556,\"#d8576b\"],[0.6666666666666666,\"#ed7953\"],[0.7777777777777778,\"#fb9f3a\"],[0.8888888888888888,\"#fdca26\"],[1.0,\"#f0f921\"]]}],\"heatmap\":[{\"type\":\"heatmap\",\"colorbar\":{\"outlinewidth\":0,\"ticks\":\"\"},\"colorscale\":[[0.0,\"#0d0887\"],[0.1111111111111111,\"#46039f\"],[0.2222222222222222,\"#7201a8\"],[0.3333333333333333,\"#9c179e\"],[0.4444444444444444,\"#bd3786\"],[0.5555555555555556,\"#d8576b\"],[0.6666666666666666,\"#ed7953\"],[0.7777777777777778,\"#fb9f3a\"],[0.8888888888888888,\"#fdca26\"],[1.0,\"#f0f921\"]]}],\"heatmapgl\":[{\"type\":\"heatmapgl\",\"colorbar\":{\"outlinewidth\":0,\"ticks\":\"\"},\"colorscale\":[[0.0,\"#0d0887\"],[0.1111111111111111,\"#46039f\"],[0.2222222222222222,\"#7201a8\"],[0.3333333333333333,\"#9c179e\"],[0.4444444444444444,\"#bd3786\"],[0.5555555555555556,\"#d8576b\"],[0.6666666666666666,\"#ed7953\"],[0.7777777777777778,\"#fb9f3a\"],[0.8888888888888888,\"#fdca26\"],[1.0,\"#f0f921\"]]}],\"contourcarpet\":[{\"type\":\"contourcarpet\",\"colorbar\":{\"outlinewidth\":0,\"ticks\":\"\"}}],\"contour\":[{\"type\":\"contour\",\"colorbar\":{\"outlinewidth\":0,\"ticks\":\"\"},\"colorscale\":[[0.0,\"#0d0887\"],[0.1111111111111111,\"#46039f\"],[0.2222222222222222,\"#7201a8\"],[0.3333333333333333,\"#9c179e\"],[0.4444444444444444,\"#bd3786\"],[0.5555555555555556,\"#d8576b\"],[0.6666666666666666,\"#ed7953\"],[0.7777777777777778,\"#fb9f3a\"],[0.8888888888888888,\"#fdca26\"],[1.0,\"#f0f921\"]]}],\"surface\":[{\"type\":\"surface\",\"colorbar\":{\"outlinewidth\":0,\"ticks\":\"\"},\"colorscale\":[[0.0,\"#0d0887\"],[0.1111111111111111,\"#46039f\"],[0.2222222222222222,\"#7201a8\"],[0.3333333333333333,\"#9c179e\"],[0.4444444444444444,\"#bd3786\"],[0.5555555555555556,\"#d8576b\"],[0.6666666666666666,\"#ed7953\"],[0.7777777777777778,\"#fb9f3a\"],[0.8888888888888888,\"#fdca26\"],[1.0,\"#f0f921\"]]}],\"mesh3d\":[{\"type\":\"mesh3d\",\"colorbar\":{\"outlinewidth\":0,\"ticks\":\"\"}}],\"scatter\":[{\"fillpattern\":{\"fillmode\":\"overlay\",\"size\":10,\"solidity\":0.2},\"type\":\"scatter\"}],\"parcoords\":[{\"type\":\"parcoords\",\"line\":{\"colorbar\":{\"outlinewidth\":0,\"ticks\":\"\"}}}],\"scatterpolargl\":[{\"type\":\"scatterpolargl\",\"marker\":{\"colorbar\":{\"outlinewidth\":0,\"ticks\":\"\"}}}],\"bar\":[{\"error_x\":{\"color\":\"#2a3f5f\"},\"error_y\":{\"color\":\"#2a3f5f\"},\"marker\":{\"line\":{\"color\":\"#E5ECF6\",\"width\":0.5},\"pattern\":{\"fillmode\":\"overlay\",\"size\":10,\"solidity\":0.2}},\"type\":\"bar\"}],\"scattergeo\":[{\"type\":\"scattergeo\",\"marker\":{\"colorbar\":{\"outlinewidth\":0,\"ticks\":\"\"}}}],\"scatterpolar\":[{\"type\":\"scatterpolar\",\"marker\":{\"colorbar\":{\"outlinewidth\":0,\"ticks\":\"\"}}}],\"histogram\":[{\"marker\":{\"pattern\":{\"fillmode\":\"overlay\",\"size\":10,\"solidity\":0.2}},\"type\":\"histogram\"}],\"scattergl\":[{\"type\":\"scattergl\",\"marker\":{\"colorbar\":{\"outlinewidth\":0,\"ticks\":\"\"}}}],\"scatter3d\":[{\"type\":\"scatter3d\",\"line\":{\"colorbar\":{\"outlinewidth\":0,\"ticks\":\"\"}},\"marker\":{\"colorbar\":{\"outlinewidth\":0,\"ticks\":\"\"}}}],\"scattermapbox\":[{\"type\":\"scattermapbox\",\"marker\":{\"colorbar\":{\"outlinewidth\":0,\"ticks\":\"\"}}}],\"scatterternary\":[{\"type\":\"scatterternary\",\"marker\":{\"colorbar\":{\"outlinewidth\":0,\"ticks\":\"\"}}}],\"scattercarpet\":[{\"type\":\"scattercarpet\",\"marker\":{\"colorbar\":{\"outlinewidth\":0,\"ticks\":\"\"}}}],\"carpet\":[{\"aaxis\":{\"endlinecolor\":\"#2a3f5f\",\"gridcolor\":\"white\",\"linecolor\":\"white\",\"minorgridcolor\":\"white\",\"startlinecolor\":\"#2a3f5f\"},\"baxis\":{\"endlinecolor\":\"#2a3f5f\",\"gridcolor\":\"white\",\"linecolor\":\"white\",\"minorgridcolor\":\"white\",\"startlinecolor\":\"#2a3f5f\"},\"type\":\"carpet\"}],\"table\":[{\"cells\":{\"fill\":{\"color\":\"#EBF0F8\"},\"line\":{\"color\":\"white\"}},\"header\":{\"fill\":{\"color\":\"#C8D4E3\"},\"line\":{\"color\":\"white\"}},\"type\":\"table\"}],\"barpolar\":[{\"marker\":{\"line\":{\"color\":\"#E5ECF6\",\"width\":0.5},\"pattern\":{\"fillmode\":\"overlay\",\"size\":10,\"solidity\":0.2}},\"type\":\"barpolar\"}],\"pie\":[{\"automargin\":true,\"type\":\"pie\"}]},\"layout\":{\"autotypenumbers\":\"strict\",\"colorway\":[\"#636efa\",\"#EF553B\",\"#00cc96\",\"#ab63fa\",\"#FFA15A\",\"#19d3f3\",\"#FF6692\",\"#B6E880\",\"#FF97FF\",\"#FECB52\"],\"font\":{\"color\":\"#2a3f5f\"},\"hovermode\":\"closest\",\"hoverlabel\":{\"align\":\"left\"},\"paper_bgcolor\":\"white\",\"plot_bgcolor\":\"#E5ECF6\",\"polar\":{\"bgcolor\":\"#E5ECF6\",\"angularaxis\":{\"gridcolor\":\"white\",\"linecolor\":\"white\",\"ticks\":\"\"},\"radialaxis\":{\"gridcolor\":\"white\",\"linecolor\":\"white\",\"ticks\":\"\"}},\"ternary\":{\"bgcolor\":\"#E5ECF6\",\"aaxis\":{\"gridcolor\":\"white\",\"linecolor\":\"white\",\"ticks\":\"\"},\"baxis\":{\"gridcolor\":\"white\",\"linecolor\":\"white\",\"ticks\":\"\"},\"caxis\":{\"gridcolor\":\"white\",\"linecolor\":\"white\",\"ticks\":\"\"}},\"coloraxis\":{\"colorbar\":{\"outlinewidth\":0,\"ticks\":\"\"}},\"colorscale\":{\"sequential\":[[0.0,\"#0d0887\"],[0.1111111111111111,\"#46039f\"],[0.2222222222222222,\"#7201a8\"],[0.3333333333333333,\"#9c179e\"],[0.4444444444444444,\"#bd3786\"],[0.5555555555555556,\"#d8576b\"],[0.6666666666666666,\"#ed7953\"],[0.7777777777777778,\"#fb9f3a\"],[0.8888888888888888,\"#fdca26\"],[1.0,\"#f0f921\"]],\"sequentialminus\":[[0.0,\"#0d0887\"],[0.1111111111111111,\"#46039f\"],[0.2222222222222222,\"#7201a8\"],[0.3333333333333333,\"#9c179e\"],[0.4444444444444444,\"#bd3786\"],[0.5555555555555556,\"#d8576b\"],[0.6666666666666666,\"#ed7953\"],[0.7777777777777778,\"#fb9f3a\"],[0.8888888888888888,\"#fdca26\"],[1.0,\"#f0f921\"]],\"diverging\":[[0,\"#8e0152\"],[0.1,\"#c51b7d\"],[0.2,\"#de77ae\"],[0.3,\"#f1b6da\"],[0.4,\"#fde0ef\"],[0.5,\"#f7f7f7\"],[0.6,\"#e6f5d0\"],[0.7,\"#b8e186\"],[0.8,\"#7fbc41\"],[0.9,\"#4d9221\"],[1,\"#276419\"]]},\"xaxis\":{\"gridcolor\":\"white\",\"linecolor\":\"white\",\"ticks\":\"\",\"title\":{\"standoff\":15},\"zerolinecolor\":\"white\",\"automargin\":true,\"zerolinewidth\":2},\"yaxis\":{\"gridcolor\":\"white\",\"linecolor\":\"white\",\"ticks\":\"\",\"title\":{\"standoff\":15},\"zerolinecolor\":\"white\",\"automargin\":true,\"zerolinewidth\":2},\"scene\":{\"xaxis\":{\"backgroundcolor\":\"#E5ECF6\",\"gridcolor\":\"white\",\"linecolor\":\"white\",\"showbackground\":true,\"ticks\":\"\",\"zerolinecolor\":\"white\",\"gridwidth\":2},\"yaxis\":{\"backgroundcolor\":\"#E5ECF6\",\"gridcolor\":\"white\",\"linecolor\":\"white\",\"showbackground\":true,\"ticks\":\"\",\"zerolinecolor\":\"white\",\"gridwidth\":2},\"zaxis\":{\"backgroundcolor\":\"#E5ECF6\",\"gridcolor\":\"white\",\"linecolor\":\"white\",\"showbackground\":true,\"ticks\":\"\",\"zerolinecolor\":\"white\",\"gridwidth\":2}},\"shapedefaults\":{\"line\":{\"color\":\"#2a3f5f\"}},\"annotationdefaults\":{\"arrowcolor\":\"#2a3f5f\",\"arrowhead\":0,\"arrowwidth\":1},\"geo\":{\"bgcolor\":\"white\",\"landcolor\":\"#E5ECF6\",\"subunitcolor\":\"white\",\"showland\":true,\"showlakes\":true,\"lakecolor\":\"white\"},\"title\":{\"x\":0.05},\"mapbox\":{\"style\":\"light\"}}},\"scene\":{\"domain\":{\"x\":[0.0,1.0],\"y\":[0.0,1.0]},\"xaxis\":{\"title\":{\"text\":\"0\"}},\"yaxis\":{\"title\":{\"text\":\"1\"}},\"zaxis\":{\"title\":{\"text\":\"2\"}}},\"coloraxis\":{\"colorbar\":{\"title\":{\"text\":\"Anomaly\"}},\"colorscale\":[[0.0,\"#0d0887\"],[0.1111111111111111,\"#46039f\"],[0.2222222222222222,\"#7201a8\"],[0.3333333333333333,\"#9c179e\"],[0.4444444444444444,\"#bd3786\"],[0.5555555555555556,\"#d8576b\"],[0.6666666666666666,\"#ed7953\"],[0.7777777777777778,\"#fb9f3a\"],[0.8888888888888888,\"#fdca26\"],[1.0,\"#f0f921\"]]},\"legend\":{\"tracegroupgap\":0},\"title\":{\"text\":\"3d TSNE Plot for Outliers\"},\"height\":800,\"width\":900},                        {\"responsive\": true}                    ).then(function(){\n",
       "                            \n",
       "var gd = document.getElementById('f013f1c1-4864-44d5-9c79-f78ec0608be6');\n",
       "var x = new MutationObserver(function (mutations, observer) {{\n",
       "        var display = window.getComputedStyle(gd).display;\n",
       "        if (!display || display === 'none') {{\n",
       "            console.log([gd, 'removed!']);\n",
       "            Plotly.purge(gd);\n",
       "            observer.disconnect();\n",
       "        }}\n",
       "}});\n",
       "\n",
       "// Listen for the removal of the full notebook cells\n",
       "var notebookContainer = gd.closest('#notebook-container');\n",
       "if (notebookContainer) {{\n",
       "    x.observe(notebookContainer, {childList: true});\n",
       "}}\n",
       "\n",
       "// Listen for the clearing of the current output cell\n",
       "var outputEl = gd.closest('.output');\n",
       "if (outputEl) {{\n",
       "    x.observe(outputEl, {childList: true});\n",
       "}}\n",
       "\n",
       "                        })                };                });            </script>        </div>"
      ]
     },
     "metadata": {},
     "output_type": "display_data"
    }
   ],
   "source": [
    "## creating a model\n",
    "knn=create_model('knn')\n",
    "## plotting a model\n",
    "plot_model(knn)"
   ]
  },
  {
   "cell_type": "code",
   "execution_count": 7,
   "id": "6cb80959",
   "metadata": {},
   "outputs": [],
   "source": [
    "# generate predictions using trained model\n",
    "knn_predictions = predict_model(knn, data = anomaly)"
   ]
  },
  {
   "cell_type": "code",
   "execution_count": 8,
   "id": "b65a6bcd",
   "metadata": {},
   "outputs": [
    {
     "data": {
      "text/html": [
       "<div>\n",
       "<style scoped>\n",
       "    .dataframe tbody tr th:only-of-type {\n",
       "        vertical-align: middle;\n",
       "    }\n",
       "\n",
       "    .dataframe tbody tr th {\n",
       "        vertical-align: top;\n",
       "    }\n",
       "\n",
       "    .dataframe thead th {\n",
       "        text-align: right;\n",
       "    }\n",
       "</style>\n",
       "<table border=\"1\" class=\"dataframe\">\n",
       "  <thead>\n",
       "    <tr style=\"text-align: right;\">\n",
       "      <th></th>\n",
       "      <th>Col1</th>\n",
       "      <th>Col2</th>\n",
       "      <th>Col3</th>\n",
       "      <th>Col4</th>\n",
       "      <th>Col5</th>\n",
       "      <th>Col6</th>\n",
       "      <th>Col7</th>\n",
       "      <th>Col8</th>\n",
       "      <th>Col9</th>\n",
       "      <th>Col10</th>\n",
       "      <th>Anomaly</th>\n",
       "      <th>Anomaly_Score</th>\n",
       "    </tr>\n",
       "  </thead>\n",
       "  <tbody>\n",
       "    <tr>\n",
       "      <th>0</th>\n",
       "      <td>0.263995</td>\n",
       "      <td>0.764929</td>\n",
       "      <td>0.138424</td>\n",
       "      <td>0.935242</td>\n",
       "      <td>0.605867</td>\n",
       "      <td>0.518790</td>\n",
       "      <td>0.912225</td>\n",
       "      <td>0.608234</td>\n",
       "      <td>0.723782</td>\n",
       "      <td>0.733591</td>\n",
       "      <td>0</td>\n",
       "      <td>0.558927</td>\n",
       "    </tr>\n",
       "    <tr>\n",
       "      <th>1</th>\n",
       "      <td>0.546092</td>\n",
       "      <td>0.653975</td>\n",
       "      <td>0.065575</td>\n",
       "      <td>0.227772</td>\n",
       "      <td>0.845269</td>\n",
       "      <td>0.837066</td>\n",
       "      <td>0.272379</td>\n",
       "      <td>0.331679</td>\n",
       "      <td>0.429297</td>\n",
       "      <td>0.367422</td>\n",
       "      <td>0</td>\n",
       "      <td>0.477482</td>\n",
       "    </tr>\n",
       "    <tr>\n",
       "      <th>2</th>\n",
       "      <td>0.336714</td>\n",
       "      <td>0.538842</td>\n",
       "      <td>0.192801</td>\n",
       "      <td>0.553563</td>\n",
       "      <td>0.074515</td>\n",
       "      <td>0.332993</td>\n",
       "      <td>0.365792</td>\n",
       "      <td>0.861309</td>\n",
       "      <td>0.899017</td>\n",
       "      <td>0.088600</td>\n",
       "      <td>0</td>\n",
       "      <td>0.676207</td>\n",
       "    </tr>\n",
       "    <tr>\n",
       "      <th>3</th>\n",
       "      <td>0.092108</td>\n",
       "      <td>0.995017</td>\n",
       "      <td>0.014465</td>\n",
       "      <td>0.176371</td>\n",
       "      <td>0.241530</td>\n",
       "      <td>0.514724</td>\n",
       "      <td>0.562208</td>\n",
       "      <td>0.158963</td>\n",
       "      <td>0.073715</td>\n",
       "      <td>0.208463</td>\n",
       "      <td>1</td>\n",
       "      <td>0.804769</td>\n",
       "    </tr>\n",
       "    <tr>\n",
       "      <th>4</th>\n",
       "      <td>0.325261</td>\n",
       "      <td>0.805968</td>\n",
       "      <td>0.957033</td>\n",
       "      <td>0.331665</td>\n",
       "      <td>0.307923</td>\n",
       "      <td>0.355315</td>\n",
       "      <td>0.501899</td>\n",
       "      <td>0.558449</td>\n",
       "      <td>0.885169</td>\n",
       "      <td>0.182754</td>\n",
       "      <td>0</td>\n",
       "      <td>0.630836</td>\n",
       "    </tr>\n",
       "    <tr>\n",
       "      <th>...</th>\n",
       "      <td>...</td>\n",
       "      <td>...</td>\n",
       "      <td>...</td>\n",
       "      <td>...</td>\n",
       "      <td>...</td>\n",
       "      <td>...</td>\n",
       "      <td>...</td>\n",
       "      <td>...</td>\n",
       "      <td>...</td>\n",
       "      <td>...</td>\n",
       "      <td>...</td>\n",
       "      <td>...</td>\n",
       "    </tr>\n",
       "    <tr>\n",
       "      <th>995</th>\n",
       "      <td>0.305055</td>\n",
       "      <td>0.656837</td>\n",
       "      <td>0.331665</td>\n",
       "      <td>0.822525</td>\n",
       "      <td>0.907127</td>\n",
       "      <td>0.882276</td>\n",
       "      <td>0.855732</td>\n",
       "      <td>0.584786</td>\n",
       "      <td>0.808640</td>\n",
       "      <td>0.242762</td>\n",
       "      <td>0</td>\n",
       "      <td>0.266822</td>\n",
       "    </tr>\n",
       "    <tr>\n",
       "      <th>996</th>\n",
       "      <td>0.812627</td>\n",
       "      <td>0.864258</td>\n",
       "      <td>0.616604</td>\n",
       "      <td>0.167966</td>\n",
       "      <td>0.811223</td>\n",
       "      <td>0.938071</td>\n",
       "      <td>0.418462</td>\n",
       "      <td>0.472306</td>\n",
       "      <td>0.348347</td>\n",
       "      <td>0.671129</td>\n",
       "      <td>0</td>\n",
       "      <td>0.403480</td>\n",
       "    </tr>\n",
       "    <tr>\n",
       "      <th>997</th>\n",
       "      <td>0.250967</td>\n",
       "      <td>0.138627</td>\n",
       "      <td>0.919703</td>\n",
       "      <td>0.461234</td>\n",
       "      <td>0.886555</td>\n",
       "      <td>0.869888</td>\n",
       "      <td>0.800908</td>\n",
       "      <td>0.530324</td>\n",
       "      <td>0.779433</td>\n",
       "      <td>0.234952</td>\n",
       "      <td>0</td>\n",
       "      <td>0.337727</td>\n",
       "    </tr>\n",
       "    <tr>\n",
       "      <th>998</th>\n",
       "      <td>0.502436</td>\n",
       "      <td>0.936820</td>\n",
       "      <td>0.580062</td>\n",
       "      <td>0.540773</td>\n",
       "      <td>0.151995</td>\n",
       "      <td>0.059452</td>\n",
       "      <td>0.225220</td>\n",
       "      <td>0.242755</td>\n",
       "      <td>0.279385</td>\n",
       "      <td>0.538755</td>\n",
       "      <td>0</td>\n",
       "      <td>0.300265</td>\n",
       "    </tr>\n",
       "    <tr>\n",
       "      <th>999</th>\n",
       "      <td>0.457991</td>\n",
       "      <td>0.017755</td>\n",
       "      <td>0.714113</td>\n",
       "      <td>0.125992</td>\n",
       "      <td>0.063316</td>\n",
       "      <td>0.154739</td>\n",
       "      <td>0.922974</td>\n",
       "      <td>0.692299</td>\n",
       "      <td>0.816777</td>\n",
       "      <td>0.307592</td>\n",
       "      <td>0</td>\n",
       "      <td>0.367867</td>\n",
       "    </tr>\n",
       "  </tbody>\n",
       "</table>\n",
       "<p>1000 rows × 12 columns</p>\n",
       "</div>"
      ],
      "text/plain": [
       "         Col1      Col2      Col3      Col4      Col5      Col6      Col7  \\\n",
       "0    0.263995  0.764929  0.138424  0.935242  0.605867  0.518790  0.912225   \n",
       "1    0.546092  0.653975  0.065575  0.227772  0.845269  0.837066  0.272379   \n",
       "2    0.336714  0.538842  0.192801  0.553563  0.074515  0.332993  0.365792   \n",
       "3    0.092108  0.995017  0.014465  0.176371  0.241530  0.514724  0.562208   \n",
       "4    0.325261  0.805968  0.957033  0.331665  0.307923  0.355315  0.501899   \n",
       "..        ...       ...       ...       ...       ...       ...       ...   \n",
       "995  0.305055  0.656837  0.331665  0.822525  0.907127  0.882276  0.855732   \n",
       "996  0.812627  0.864258  0.616604  0.167966  0.811223  0.938071  0.418462   \n",
       "997  0.250967  0.138627  0.919703  0.461234  0.886555  0.869888  0.800908   \n",
       "998  0.502436  0.936820  0.580062  0.540773  0.151995  0.059452  0.225220   \n",
       "999  0.457991  0.017755  0.714113  0.125992  0.063316  0.154739  0.922974   \n",
       "\n",
       "         Col8      Col9     Col10  Anomaly  Anomaly_Score  \n",
       "0    0.608234  0.723782  0.733591        0       0.558927  \n",
       "1    0.331679  0.429297  0.367422        0       0.477482  \n",
       "2    0.861309  0.899017  0.088600        0       0.676207  \n",
       "3    0.158963  0.073715  0.208463        1       0.804769  \n",
       "4    0.558449  0.885169  0.182754        0       0.630836  \n",
       "..        ...       ...       ...      ...            ...  \n",
       "995  0.584786  0.808640  0.242762        0       0.266822  \n",
       "996  0.472306  0.348347  0.671129        0       0.403480  \n",
       "997  0.530324  0.779433  0.234952        0       0.337727  \n",
       "998  0.242755  0.279385  0.538755        0       0.300265  \n",
       "999  0.692299  0.816777  0.307592        0       0.367867  \n",
       "\n",
       "[1000 rows x 12 columns]"
      ]
     },
     "execution_count": 8,
     "metadata": {},
     "output_type": "execute_result"
    }
   ],
   "source": [
    "knn_predictions"
   ]
  },
  {
   "cell_type": "code",
   "execution_count": null,
   "id": "9f1b7432",
   "metadata": {},
   "outputs": [],
   "source": []
  }
 ],
 "metadata": {
  "kernelspec": {
   "display_name": "Python 3",
   "language": "python",
   "name": "python3"
  },
  "language_info": {
   "codemirror_mode": {
    "name": "ipython",
    "version": 3
   },
   "file_extension": ".py",
   "mimetype": "text/x-python",
   "name": "python",
   "nbconvert_exporter": "python",
   "pygments_lexer": "ipython3",
   "version": "3.6.13"
  }
 },
 "nbformat": 4,
 "nbformat_minor": 5
}
